{
 "cells": [
  {
   "cell_type": "markdown",
   "id": "70c6213f",
   "metadata": {},
   "source": [
    "# ****Numpy Python Module****\n",
    "\n",
    "NumPy, short for Numerical Python, is an open-source Python library designed to handle numerical computations efficiently. It provides support for multi-dimensional arrays (like tables and matrices), allowing you to work with large datasets and perform mathematical operations on them quickly. NumPy includes a wide range of mathematical functions, such as calculating averages, sums, and applying complex operations like matrix multiplication or statistical analysis, all with minimal code. It is widely used in scientific computing, data analysis, and machine learning because of its speed and ease in handling large volumes of numerical data, making it an essential tool in these fields.\n",
    "\n",
    "## Applications\n",
    "\n",
    "- Data Analysis: NumPy allows you to create and manipulate data (in the form of arrays), filter it, and perform operations like calculating the mean, standard deviation, etc.\n",
    "\n",
    "- Machine Learning & AI: Libraries like TensorFlow and PyTorch use NumPy to manage input data, model parameters, and process output values.\n",
    "\n",
    "- Array Manipulation: NumPy supports creating, resizing, slicing, indexing, stacking, splitting, and combining arrays.\n",
    "\n",
    "- Finance & Economics: NumPy is used for financial analysis, including portfolio optimization, risk assessment, time series analysis, and statistical modeling.\n",
    "\n",
    "- Image & Signal Processing: NumPy helps in processing and analyzing images and signals for various applications.\n",
    "\n",
    "- Data Visualization: While NumPy itself doesn’t generate visualizations, it works with libraries like Matplotlib and Seaborn to create charts and graphs from numerical data.\n",
    "\n",
    "\n",
    "## Why is NumPy Faster Than Lists?\n",
    "\n",
    "| **Aspect**        | **NumPy**                                                                                           | **Python List**                                                                                                  |\n",
    "|-------------------|-----------------------------------------------------------------------------------------------------------------|------------------------------------------------------------------------------------------------------------------|\n",
    "| **Memory Storage** | NumPy stores all data in one continuous block, making it faster to access and use less memory.                   | Python lists store references to objects, which can slow things down and use more memory.                        |\n",
    "| **Data Types**     | NumPy arrays have elements of the **same type**, which helps save memory and makes things faster.               | Python lists can hold elements of **different types**, which takes up more memory and makes things slower.      |\n",
    "| **Operations**     | NumPy can do math on entire arrays at once, making it faster.                                                   | Python lists need loops to do math on each element one by one, which is slower.                                |\n",
    "| **Efficiency**     | NumPy is written in **C**, making it much faster for numerical tasks.                                          | Python lists are slower because they are handled by Python’s slower byte-code.                                  |\n",
    "| **Memory Usage**   | NumPy uses less memory because all elements are the same type and stored in one place.                         | Python lists use more memory because each element is a separate object.                                         |\n",
    "| **Broadcasting**   | NumPy allows you to do operations on arrays of different sizes without copying data, making it faster.         | Python lists can't do this, so operations on different sized lists take longer.                                |\n",
    "| **Performance**    | NumPy is faster because it uses memory better and does things more efficiently.                                | Python lists are slower because their data is scattered around in memory.                                      |\n",
    "| **Functionality**  | NumPy has many built-in math functions for arrays, making it perfect for complex calculations.                 | Python lists only have basic functions and can’t handle complex math easily.                                   |                               |\n"
   ]
  },
  {
   "cell_type": "code",
   "execution_count": 13,
   "id": "7fb9c932",
   "metadata": {},
   "outputs": [
    {
     "name": "stdout",
     "output_type": "stream",
     "text": [
      "int64\n"
     ]
    },
    {
     "data": {
      "text/plain": [
       "array([1, 2, 3, 4, 5])"
      ]
     },
     "execution_count": 13,
     "metadata": {},
     "output_type": "execute_result"
    }
   ],
   "source": [
    "import numpy as np\n",
    "\n",
    "array = np.array([1, 2, 3, 4, 5])\n",
    "print(array.dtype)  # Output: <class 'numpy.ndarray'>\n",
    "array"
   ]
  },
  {
   "cell_type": "markdown",
   "id": "8b42e206",
   "metadata": {},
   "source": [
    "## NumPy ndarray:\n",
    "- ndarray (short for N-dimensional array) is the **core object** in NumPy.\n",
    "\n",
    "- It represents a collection of items (elements) that are all of the same type.\n",
    "\n",
    "- Each element in the ndarray can be accessed using a zero-based index.\n",
    "\n",
    "- All elements of an ndarray take the same size block in memory.\n",
    "\n",
    "- The type of the elements is defined by a special object called **dtype** (data type), which specifies how much memory each element takes and what type it is (e.g., integer, float).\n",
    "\n",
    "## Relationship Between ndarray, dtype, and Array Scalar Types:\n",
    "- **ndarray**: This is the main object that holds the array of data.\n",
    "\n",
    "- **dtype**: This is the data type object that defines the type of each element within the ndarray (e.g., int32, float64).\n",
    "\n",
    "- **Array Scalar Type**: When you extract an element from an ndarray (like by slicing), the element is converted into a Python object of a specific array scalar type, which corresponds to the dtype of the ndarray."
   ]
  },
  {
   "cell_type": "markdown",
   "id": "ed483d65",
   "metadata": {},
   "source": [
    "### **Creating an ndarray with numpy.array()**\n",
    "The numpy.array() function is the most common way to create an ndarray. It takes in any object that can expose the array interface or any sequence (like lists, tuples, or nested sequences). Here's the basic syntax:"
   ]
  },
  {
   "cell_type": "code",
   "execution_count": 3,
   "id": "a200945b",
   "metadata": {},
   "outputs": [
    {
     "data": {
      "text/plain": [
       "array(<class 'object'>, dtype=object)"
      ]
     },
     "execution_count": 3,
     "metadata": {},
     "output_type": "execute_result"
    }
   ],
   "source": [
    "np.array(object, dtype=None, copy=True, order=None, subok=False, ndmin=0)"
   ]
  },
  {
   "cell_type": "markdown",
   "id": "5e13c165",
   "metadata": {},
   "source": [
    "**parameters taken are as follows**\n",
    "\n",
    "\n",
    "| **Sr.No.** | **Parameter** | **Description** | **Example** |\n",
    "|------------|---------------|-----------------|-------------|\n",
    "| 1 | **`object`** | This is the data (like a list, tuple, or another array) that you want to convert into a NumPy array. It is the most important argument. | `np.array([1, 2, 3, 4])` creates an array from a list. |\n",
    "| 2 | **`dtype`** | Specifies the desired data type for the array elements (e.g., `int`, `float`). If not specified, NumPy tries to infer the data type. refer official doc for knowing about suported dtypes | `np.array([1, 2, 3], dtype=np.float32)` creates an array with `float32` type. |\n",
    "| 3 | **`copy`** | By default, this is `True`, meaning a new copy of the data is made. If set to `False`, NumPy will use a reference to the original data. | `np.array([1, 2, 3], copy=False)` creates a reference to the input list. |\n",
    "| 4 | **`order`** | Specifies how the array is stored in memory. `'C'` is for row-major (C-style), and `'F'` is for column-major (Fortran-style). | `np.array([[1, 2], [3, 4]], order='F')` creates a 2D array in column-major order. |\n",
    "| 5 | **`subok`** | If `True`, sub-classes of `ndarray` (like masked arrays) are preserved when returning the array. If `False` (default), the result is always a base `ndarray`. | `np.array([1, 2, 3], subok=True)` keeps any subclass of `ndarray`. |\n",
    "| 6 | **`ndmin`** | Specifies the minimum number of dimensions for the resulting array. If the input has fewer dimensions, extra dimensions are added. | `np.array([1, 2, 3], ndmin=2)` converts the 1D array to a 2D array with shape `(1, 3)`. |\n"
   ]
  },
  {
   "cell_type": "markdown",
   "id": "e73ba94f",
   "metadata": {},
   "source": [
    "## Example: Create a One-dimensional Array"
   ]
  },
  {
   "cell_type": "code",
   "execution_count": 4,
   "id": "b6f3dc42",
   "metadata": {},
   "outputs": [
    {
     "data": {
      "text/plain": [
       "array([1, 2, 3])"
      ]
     },
     "execution_count": 4,
     "metadata": {},
     "output_type": "execute_result"
    }
   ],
   "source": [
    "import numpy as np\n",
    "a = np.array([1, 2, 3])\n",
    "a"
   ]
  },
  {
   "cell_type": "markdown",
   "id": "eadfd1ea",
   "metadata": {},
   "source": [
    "## Example: Create a Multi-dimensional Array"
   ]
  },
  {
   "cell_type": "code",
   "execution_count": 24,
   "id": "edcac430",
   "metadata": {},
   "outputs": [
    {
     "name": "stdout",
     "output_type": "stream",
     "text": [
      "[[1 2]\n",
      " [3 4]]\n"
     ]
    },
    {
     "data": {
      "text/plain": [
       "array([[1, 2],\n",
       "       [3, 4]])"
      ]
     },
     "execution_count": 24,
     "metadata": {},
     "output_type": "execute_result"
    }
   ],
   "source": [
    "import numpy as np\n",
    "a = np.array([[1, 2], [3, 4]])\n",
    "print(a)\n",
    "\n",
    "a = np.array([range(i,i+2) for i in [1,3]])\n",
    "a"
   ]
  },
  {
   "cell_type": "markdown",
   "id": "352cd703",
   "metadata": {},
   "source": [
    "## Example: Specify Minimum Dimensions"
   ]
  },
  {
   "cell_type": "code",
   "execution_count": 8,
   "id": "a61a9cdb",
   "metadata": {},
   "outputs": [
    {
     "data": {
      "text/plain": [
       "array([[1, 2, 3, 4, 5]])"
      ]
     },
     "execution_count": 8,
     "metadata": {},
     "output_type": "execute_result"
    }
   ],
   "source": [
    "import numpy as np\n",
    "a = np.array([1, 2, 3, 4, 5], ndmin=2)\n",
    "a"
   ]
  },
  {
   "cell_type": "markdown",
   "id": "e79ecc17",
   "metadata": {},
   "source": [
    "## Example: Specify Data Type"
   ]
  },
  {
   "cell_type": "code",
   "execution_count": 10,
   "id": "281665f4",
   "metadata": {},
   "outputs": [
    {
     "data": {
      "text/plain": [
       "array([1.+0.j, 2.+0.j, 3.+0.j])"
      ]
     },
     "execution_count": 10,
     "metadata": {},
     "output_type": "execute_result"
    }
   ],
   "source": [
    "import numpy as np\n",
    "a = np.array([1, 2, 3], dtype=complex)\n",
    "a"
   ]
  },
  {
   "cell_type": "markdown",
   "id": "ed680faa",
   "metadata": {},
   "source": [
    "# **Indexing Scheme**\n",
    "\n",
    "The indexing scheme in NumPy determines how elements in an ndarray are located in memory using a combination of shape and strides.\n",
    "\n",
    "## Shape and Strides in NumPy\n",
    "**Shape**:\n",
    "\n",
    "- The shape of an ndarray represents the size of the array along each dimension. It is a tuple of integers.\n",
    "\n",
    "- Example: For a 2x3 array, the shape would be (2, 3). This means there are 2 rows and 3 columns.\n",
    "\n",
    "**Strides**:\n",
    "\n",
    "- Strides refer to the number of bytes you need to move in memory to access the next element in each dimension. It tells NumPy how to step across the dimensions of the array when moving through its elements.\n",
    "\n",
    "- For instance, in a 2D array, the stride value for each dimension tells you how many bytes to move from one element to the next element in the same row (along the row axis) or to the next element in the same column (along the column axis)."
   ]
  },
  {
   "cell_type": "markdown",
   "id": "f03c5408",
   "metadata": {},
   "source": [
    "# **Row-major and Column-major Orders**\n",
    "\n",
    "**Row-major Order (C-style):**\n",
    "\n",
    "- In row-major order, the last index changes the fastest. This means that elements in the same row are stored next to each other in memory.\n",
    "\n",
    "- For example, in a 2x3 array like:\n",
    "\n",
    "[[1, 2, 3],\n",
    " [4, 5, 6]]\n",
    "\n",
    "The elements will be stored in memory as:\n",
    "1, 2, 3, 4, 5, 6.\n",
    "\n",
    "**Column-major Order (FORTRAN-style):**\n",
    "\n",
    "- In column-major order, the first index changes the fastest. This means that elements in the same column are stored next to each other in memory.\n",
    "\n",
    "- For example, in the same 2x3 array:\n",
    "\n",
    "[[1, 2, 3],\n",
    " [4, 5, 6]]\n",
    "\n",
    "The elements will be stored in memory as:\n",
    "1, 4, 2, 5, 3, 6.\n",
    "\n",
    "\n",
    "**Example**\n",
    "\n",
    "Following is a basic example to demonstrate the usage of the memory layout −\n"
   ]
  },
  {
   "cell_type": "code",
   "execution_count": 11,
   "id": "9f7aea6c",
   "metadata": {},
   "outputs": [
    {
     "name": "stdout",
     "output_type": "stream",
     "text": [
      "[[1 2 3]\n",
      " [4 5 6]]\n",
      "Shape: (2, 3)\n",
      "Strides: (24, 8)\n"
     ]
    }
   ],
   "source": [
    "import numpy as np\n",
    "\n",
    "# Creating a 2x3 array in row-major order\n",
    "a = np.array([[1, 2, 3], [4, 5, 6]])\n",
    "print(a)\n",
    "print(\"Shape:\", a.shape)\n",
    "print(\"Strides:\", a.strides)"
   ]
  },
  {
   "cell_type": "markdown",
   "id": "7cd0e64e",
   "metadata": {},
   "source": [
    "The shape of the array is (2, 3), indicating it has 2 rows and 3 columns. The strides are (24, 8), meaning that to move to the next row, we need to skip 24 bytes (since each element is an 8-byte integer, and there are 3 columns), and to move to the next column, we need to skip 8 bytes (the size of one integer)\n",
    "\n",
    "------------------------------------------"
   ]
  },
  {
   "cell_type": "markdown",
   "id": "59976106",
   "metadata": {},
   "source": [
    "# *Creating Numpy arrays*\n",
    "\n",
    "In NumPy, you can create arrays using several built-in functions, each of which serves a different purpose depending on the type of array you want to create. Here’s a breakdown of some of the most commonly used functions for creating NumPy arrays:\n",
    "\n",
    "### 1. **`numpy.array()`**\n",
    "- Converts a list or other sequence into a NumPy array.\n",
    "- **Example**: `np.array([1, 2, 3])` turns a list into an array.\n",
    "\n",
    "### 2. **`numpy.zeros()`**\n",
    "- Creates an array filled with zeros.\n",
    "- **Example**: `np.zeros((2, 3))` creates a 2x3 array of zeros.\n",
    "\n",
    "### 3. **`numpy.ones()`**\n",
    "- Creates an array filled with ones.\n",
    "- **Example**: `np.ones((3, 2))` creates a 3x2 array of ones.\n",
    "\n",
    "### 4. **`numpy.arange()`**\n",
    "- Creates an array with numbers in a specified range, with a specific step size.\n",
    "- **Example**: `np.arange(0, 10, 2)` creates an array with numbers from 0 to 10, stepping by 2 (i.e., `[0, 2, 4, 6, 8]`).\n",
    "\n",
    "### 5. **`numpy.linspace()`**\n",
    "- Creates an array with evenly spaced numbers over a specified range.\n",
    "- **Example**: `np.linspace(0, 1, 5)` creates 5 evenly spaced numbers between 0 and 1.\n",
    "\n",
    "### 6. **`numpy.random.rand()`**\n",
    "- Creates an array of random numbers between 0 and 1.\n",
    "- **Example**: `np.random.rand(2, 3)` creates a 2x3 array of random numbers.\n",
    "\n",
    "### 7. **`numpy.empty()`**\n",
    "- Creates an array without initializing the values, meaning the array will contain random data initially.\n",
    "- **Example**: `np.empty((2, 2))` creates an empty 2x2 array with uninitialized values.\n",
    "\n",
    "### 8. **`numpy.full()`**\n",
    "- Creates an array filled with a specific value that you provide.\n",
    "- **Example**: `np.full((3, 3), 7)` creates a 3x3 array filled with the value `7`.\n"
   ]
  },
  {
   "cell_type": "markdown",
   "id": "d319f01d",
   "metadata": {},
   "source": [
    "### **Example: Creating a 1D & 2D NumPy Array uing list as input for numpy.array()**"
   ]
  },
  {
   "cell_type": "code",
   "execution_count": null,
   "id": "77d7654f",
   "metadata": {},
   "outputs": [
    {
     "name": "stdout",
     "output_type": "stream",
     "text": [
      "1D Array: [1 2 3 4 5]\n",
      "2D Array(2x3):\n",
      " [[1 2 3]\n",
      " [4 5 6]]\n"
     ]
    }
   ],
   "source": [
    "import numpy as np\n",
    "\n",
    "# Creating a 1D array from a list\n",
    "# syntax - numpy.array(object, dtype=None, copy=True, order='K', subok=False, ndmin=0, like=None)\n",
    "\n",
    "my_list = [1, 2, 3, 4, 5] #my_list - object list\n",
    "my_array = np.array(my_list)\n",
    "\n",
    "print(\"1D Array:\", my_array)\n",
    "\n",
    "# Creating a 2D array from a list of lists\n",
    "arr = np.array([[1, 2, 3], [4, 5, 6]])\n",
    "\n",
    "print(\"2D Array(2x3):\\n\", arr)\n"
   ]
  },
  {
   "cell_type": "markdown",
   "id": "964329d5",
   "metadata": {},
   "source": [
    "### **Example: Creating a NumPy Array with values initialized to zeroes**"
   ]
  },
  {
   "cell_type": "code",
   "execution_count": null,
   "id": "10e6e59f",
   "metadata": {},
   "outputs": [
    {
     "name": "stdout",
     "output_type": "stream",
     "text": [
      "[0. 0. 0. 0. 0.]\n"
     ]
    }
   ],
   "source": [
    "import numpy as np\n",
    "\n",
    "# Creating an array of zeros \n",
    "\n",
    "# syntax - numpy.zeros(shape, dtype=float, order='C')\n",
    "\n",
    "# here order desides whether to save in row major or column major memory layout indexing\n",
    "arr = np.zeros(5)\n",
    "print(arr)"
   ]
  },
  {
   "cell_type": "markdown",
   "id": "cad91014",
   "metadata": {},
   "source": [
    "### **Example: Creating a 1D & 2D NumPy Array with values initialized to one**"
   ]
  },
  {
   "cell_type": "code",
   "execution_count": null,
   "id": "03841d46",
   "metadata": {},
   "outputs": [
    {
     "name": "stdout",
     "output_type": "stream",
     "text": [
      "1D Array: [1. 1. 1.]\n",
      "2D Array(2x3):\n",
      " [[1 1 1]\n",
      " [1 1 1]]\n",
      "strides for 2d for int32 dtype with Fortran style indexing:  (4, 8)\n"
     ]
    }
   ],
   "source": [
    "import numpy as np\n",
    "\n",
    "# Creating an array of ones \n",
    "# syntax - numpy.ones(shape, dtype=None, order='C')\n",
    "arr = np.ones(3)\n",
    "print(\"1D Array:\", arr)\n",
    "\n",
    "# Creating 2D array of ones \n",
    "array_2d = np.ones((2, 3), dtype=np.int32, order='F')\n",
    "print(\"2D Array(2x3):\\n\", array_2d)\n",
    "print(\"strides for 2d for int32 dtype with Fortran style indexing: \", array_2d.strides)"
   ]
  },
  {
   "cell_type": "markdown",
   "id": "854edc37",
   "metadata": {},
   "source": [
    "### **Using numpy.arange() Function**\n",
    "\n",
    "The numpy.arange() function generates a sequence of numbers in a specified range. You can define three parameters:\n",
    "\n",
    "- start: The starting value of the sequence (defaults to 0 if not provided).\n",
    "\n",
    "- stop: The end value of the sequence (exclusive, not included in the result).\n",
    "\n",
    "- step: The interval between consecutive values (defaults to 1 if not provided).\n",
    "\n",
    "It creates an array with evenly spaced numbers based on the start, stop, and step values.\n",
    "\n",
    "### **Example for numpy.arrange()**"
   ]
  },
  {
   "cell_type": "code",
   "execution_count": 44,
   "id": "cccabc07",
   "metadata": {},
   "outputs": [
    {
     "name": "stdout",
     "output_type": "stream",
     "text": [
      "array1: [0 1 2 3 4 5 6 7 8 9]\n",
      "array2: [1 3 5 7 9]\n"
     ]
    }
   ],
   "source": [
    "import numpy as np\n",
    "\n",
    "# Providing just the stop value\n",
    "array1 = np.arange(10)\n",
    "print(\"array1:\", array1)\n",
    "\n",
    "# Providing start, stop and step value\n",
    "array2 = np.arange(1, 10, 2)\n",
    "print(\"array2:\",array2)"
   ]
  },
  {
   "cell_type": "markdown",
   "id": "97fbe686",
   "metadata": {},
   "source": [
    "### **Using numpy.linspace() Function:**\n",
    "The numpy.linspace() function generates a sequence of evenly spaced numbers over a specified range. Unlike numpy.arange(), which generates numbers based on a specified step size, numpy.linspace() generates a fixed number of points between a given start and stop value.\n",
    "\n",
    "**Parameters:**\n",
    "- start: The starting value of the sequence.\n",
    "\n",
    "- stop: The end value of the sequence (inclusive by default).\n",
    "\n",
    "- num: The number of samples to generate. This is the total number of equally spaced points between start and stop (defaults to 50).\n",
    "\n",
    "- endpoint: If True (default), stop is included in the sequence. If False, stop is excluded.\n",
    "\n",
    "- retstep: If True, returns a tuple of the array and the step size used to generate it.\n",
    "\n",
    "- dtype: The data type of the returned array.\n",
    "\n",
    "- axis: The axis in the result along which the numbers are spaced."
   ]
  },
  {
   "cell_type": "code",
   "execution_count": null,
   "id": "a25eec5e",
   "metadata": {},
   "outputs": [
    {
     "name": "stdout",
     "output_type": "stream",
     "text": [
      "array1: [0.     0.5557 1.111  1.667  2.223  2.777  3.334  3.889  4.445  5.    ]\n",
      "array2: [1.  1.2 1.4 1.6 1.8]\n",
      "array3: [ 0.   2.5  5.   7.5 10. ]\n",
      "Step size: 2.5\n"
     ]
    }
   ],
   "source": [
    "import numpy as np\n",
    "\n",
    "# syntax - numpy.linspace(start, stop, num=50, endpoint=True, retstep=False, dtype=None, axis=0)\n",
    "\n",
    "# Creating an array of 10 evenly spaced values from 0 to 5\n",
    "array1 = np.linspace(0, 5, num=10, dtype=np.float16)\n",
    "print(\"array1:\",array1)\n",
    "\n",
    "\n",
    "# Creating an array with 5 values from 1 to 2, excluding the endpoint\n",
    "array2 = np.linspace(1, 2, num=5, endpoint=False)\n",
    "print(\"array2:\",array2)\n",
    "\n",
    "# Creating an array and returning the step value\n",
    "array3, step = np.linspace(0, 10, num=5, retstep=True)\n",
    "print(\"array3:\",array3)\n",
    "print(\"Step size:\", step)"
   ]
  },
  {
   "cell_type": "markdown",
   "id": "a55f4805",
   "metadata": {},
   "source": [
    "### **Using numpy.random.rand() Function**:\n",
    "\n",
    "The `numpy.random.rand()` function creates an array filled with random values sampled from a uniform distribution over the interval [0, 1). This means that the values generated will lie between 0 and 1 (excluding 1).\n",
    "\n",
    "### **Example**\n"
   ]
  },
  {
   "cell_type": "code",
   "execution_count": null,
   "id": "d939d312",
   "metadata": {},
   "outputs": [
    {
     "name": "stdout",
     "output_type": "stream",
     "text": [
      "Single random float: 0.7784984015398853\n",
      "1D array of random values: [0.71396663 0.70221603 0.73358819 0.49960377 0.71924999]\n",
      "2D array of random values:\n",
      " [[0.41517704 0.69093719 0.96939421]\n",
      " [0.48131649 0.8673289  0.24330281]]\n",
      "3D array of random values:\n",
      " [[[0.47340948 0.76750561 0.25541448 0.21200211]\n",
      "  [0.26186534 0.9798382  0.10978586 0.63319182]\n",
      "  [0.91764192 0.77868094 0.29401364 0.94364847]]\n",
      "\n",
      " [[0.41786508 0.5619276  0.45035133 0.30837811]\n",
      "  [0.28266208 0.69010672 0.42274183 0.30142177]\n",
      "  [0.44635208 0.59130415 0.41945825 0.28428521]]]\n"
     ]
    }
   ],
   "source": [
    "import numpy as np\n",
    "\n",
    "# syntax - numpy.random.rand(d0, d1, ..., dn)\n",
    "\n",
    "# 1. Generating a single random float\n",
    "random_float = np.random.rand()\n",
    "print(\"Single random float:\", random_float)\n",
    "\n",
    "# 2. Generating a 1D array of 5 random floats\n",
    "array_1d = np.random.rand(5)\n",
    "print(\"1D array of random values:\", array_1d)\n",
    "\n",
    "# 3. Generating a 2D array (2 rows, 3 columns) of random floats\n",
    "array_2d = np.random.rand(2, 3)\n",
    "print(\"2D array of random values:\\n\", array_2d)\n",
    "\n",
    "# 4. Generating a 3D array (2 matrices of 3x4) of random floats\n",
    "array_3d = np.random.rand(2, 3, 4)\n",
    "print(\"3D array of random values:\\n\", array_3d)\n"
   ]
  },
  {
   "cell_type": "markdown",
   "id": "3fea5556",
   "metadata": {},
   "source": [
    "### **Using numpy.empty() Function**:\n",
    "\n",
    "- **`numpy.empty()`** creates an array with the specified shape.\n",
    "- The values inside the array are **random** and uninitialized, depending on the memory state.\n",
    "- It is useful when you need to create an array **quickly** without filling it with values immediately.\n",
    "- Unlike `numpy.zeros()` (which fills the array with zeros) or `numpy.ones()` (which fills the array with ones), `numpy.empty()` does not initialize the array.\n",
    "- It is faster and saves memory because it doesn’t waste time initializing the array.\n",
    "- Best used when you plan to **fill** the array with your own data later.\n",
    "\n",
    "### **Example**"
   ]
  },
  {
   "cell_type": "code",
   "execution_count": null,
   "id": "cc2f9ab5",
   "metadata": {},
   "outputs": [
    {
     "name": "stdout",
     "output_type": "stream",
     "text": [
      "array init with random values:\n",
      " [[0.41517704 0.69093719 0.96939421]\n",
      " [0.48131649 0.8673289  0.24330281]]\n"
     ]
    }
   ],
   "source": [
    "import numpy as np\n",
    "\n",
    "# syntax - numpy.empty(shape, dtype=float, order='C')\n",
    "\n",
    "empty_array = np.empty((2, 3))\n",
    "print(\"array init with random values:\\n\",empty_array)"
   ]
  },
  {
   "cell_type": "markdown",
   "id": "88760f76",
   "metadata": {},
   "source": [
    "### Explanation of `numpy.full()` Function\n",
    "\n",
    "The `numpy.full()` function is used to create a NumPy array of a specific shape and fill it with a **specified value**. This is useful when you want to initialize an array with a specific number across all its elements.\n",
    "\n",
    "### **paramters:**\n",
    "\n",
    "- **shape**: Specifies the dimensions of the array (e.g., (2, 3) for a 2x3 array).\n",
    "\n",
    "- **fill_value**: The value with which the array is filled. This value will be assigned to all elements of the array.\n",
    "\n",
    "- **dtype**: Optional. Specifies the data type of the array elements. The default is None, meaning the data type is inferred from the fill value.\n",
    "\n",
    "- **order**: Optional. Specifies the memory layout order ('C' for row-major, 'F' for column-major). It is not commonly used unless you have specific requirements."
   ]
  },
  {
   "cell_type": "code",
   "execution_count": null,
   "id": "2b89a067",
   "metadata": {},
   "outputs": [],
   "source": [
    "import numpy as np\n",
    "\n",
    "# syntax - numpy.full(shape, fill_value, dtype=None, order='C')\n",
    "\n",
    "array1 = np.full((2, 3), 5)\n",
    "print(array1)"
   ]
  },
  {
   "cell_type": "markdown",
   "id": "4059e861",
   "metadata": {},
   "source": [
    "### Functions Used for Creation of NumPy Arrays\n",
    "\n",
    "In the NumPy module, there are various ways to create NumPy arrays that include basic creation methods, creation by reshaping and modifying data, creation using sequences, and creation using random functions. For further details on the creation functions, please refer to the official NumPy documentation.\n",
    "\n",
    "----------------------------------------------------------------"
   ]
  },
  {
   "cell_type": "markdown",
   "id": "6c0d2de7",
   "metadata": {},
   "source": [
    "## **Manipulating the Shape of Arrays in NumPy**\n",
    "\n",
    "Several routines are available in NumPy for manipulating the shape of elements in an ndarray object. These routines allow you to change the shape without altering the data, making it easier to work with different dimensions. The following functions are used for changing the shape of arrays:\n",
    "\n",
    "## Frequently Used Functions\n",
    "\n",
    "### Reshape and Flattening\n",
    "- `reshape()`, `flatten()`, `ravel()` — Machine learning, data preprocessing.\n",
    "\n",
    "### Transpose\n",
    "- `transpose()`, `swapaxes()` — Linear algebra, deep learning.\n",
    "\n",
    "### Joining Arrays\n",
    "- `concatenate()`, `vstack()`, `hstack()` — Data preparation, feature engineering.\n",
    "\n",
    "### Sorting and Searching\n",
    "- `sort()`, `argsort()`, `argmax()` — Data analysis, optimization tasks.\n",
    "\n",
    "### Broadcasting\n",
    "- `broadcast_to()`, `expand_dims()` — Handling arrays of different shapes for operations.\n",
    "\n",
    "### Set Operations\n",
    "- `unique()`, `in1d()` — Data cleaning, analysis.\n",
    "\n",
    "\n",
    "\n",
    "\n",
    "\n",
    "\n"
   ]
  },
  {
   "cell_type": "markdown",
   "id": "91d15f31",
   "metadata": {},
   "source": [
    "### 1. Numpy `reshape()` Function\n",
    "\n",
    "The `reshape()` function in NumPy is used to change the shape of an array, but the data in the array stays the same. It doesn't change the values inside; it just rearranges them into a new shape based on the dimensions you provide. The total number of elements must remain the same, meaning the number of elements in the original array must match the number of elements in the reshaped array.\n",
    "\n",
    "### Syntax:\n",
    "```python\n",
    "numpy.reshape(arr, newshape, order='C')"
   ]
  },
  {
   "cell_type": "markdown",
   "id": "95ef7667",
   "metadata": {},
   "source": [
    "### Parameters:\n",
    "- arr: The input array that you want to reshape.\n",
    "\n",
    "- newshape: A new shape for the array. This can be a single integer or a tuple of integers. The new shape must be compatible with the total number of elements in the original array.\n",
    "\n",
    "- order: (Optional) This specifies how the array should be read and written:\n",
    "\n",
    "  'C': Row-major order (default).\n",
    "\n",
    "  'F': Column-major order.\n",
    "\n",
    "### Return Value:\n",
    "The function returns a new array with the same data but a different shape.\n",
    "\n",
    "### Example 1: Basic Reshaping\n",
    "Let's say you have a 1D array and you want to reshape it into a 2D array."
   ]
  },
  {
   "cell_type": "code",
   "execution_count": 56,
   "id": "65757485",
   "metadata": {},
   "outputs": [
    {
     "name": "stdout",
     "output_type": "stream",
     "text": [
      "Original Array:\n",
      "[1 2 3 4 5 6]\n",
      "\n",
      "Reshaped Array (2x3):\n",
      "[[1 2 3]\n",
      " [4 5 6]]\n"
     ]
    }
   ],
   "source": [
    "import numpy as np\n",
    "\n",
    "# Create a 1D array with 6 elements\n",
    "arr = np.array([1, 2, 3, 4, 5, 6])\n",
    "\n",
    "# Reshape it into a 2D array with 2 rows and 3 columns\n",
    "reshaped_arr = arr.reshape(2, 3)\n",
    "\n",
    "print(\"Original Array:\")\n",
    "print(arr)\n",
    "\n",
    "print(\"\\nReshaped Array (2x3):\")\n",
    "print(reshaped_arr)"
   ]
  },
  {
   "cell_type": "markdown",
   "id": "95145c1e",
   "metadata": {},
   "source": [
    "### Example 2: Using -1 to Automatically Calculate One Dimension\n",
    "If you're unsure about one dimension of the new shape, you can use -1, and NumPy will automatically calculate it for you based on the total number of elements."
   ]
  },
  {
   "cell_type": "code",
   "execution_count": 58,
   "id": "48f89410",
   "metadata": {},
   "outputs": [
    {
     "name": "stdout",
     "output_type": "stream",
     "text": [
      "Original Array:\n",
      "[1 2 3 4 5 6 7 8 9]\n",
      "\n",
      "Reshaped Array (3x3):\n",
      "[[1 2 3]\n",
      " [4 5 6]\n",
      " [7 8 9]]\n"
     ]
    }
   ],
   "source": [
    "import numpy as np\n",
    "\n",
    "# Create a 1D array with 9 elements\n",
    "arr = np.array([1, 2, 3, 4, 5, 6, 7, 8, 9])\n",
    "\n",
    "reshaped_arr = arr.reshape(3, -1)\n",
    "\n",
    "print(\"Original Array:\")\n",
    "print(arr)\n",
    "\n",
    "print(\"\\nReshaped Array (3x3):\")\n",
    "print(reshaped_arr)"
   ]
  },
  {
   "cell_type": "markdown",
   "id": "3524fc6e",
   "metadata": {},
   "source": [
    "### Example 3: Reshaping with Column-Major Order\n",
    "You can also reshape the array using a different reading and writing order (column-major order). This is less common but may be useful in some cases."
   ]
  },
  {
   "cell_type": "code",
   "execution_count": 59,
   "id": "7c23a5cf",
   "metadata": {},
   "outputs": [
    {
     "name": "stdout",
     "output_type": "stream",
     "text": [
      "Original Array:\n",
      "[[1 2 3]\n",
      " [4 5 6]]\n",
      "\n",
      "Reshaped Array (3x2) in Column-Major Order:\n",
      "[[1 5]\n",
      " [4 3]\n",
      " [2 6]]\n"
     ]
    }
   ],
   "source": [
    "import numpy as np\n",
    "\n",
    "# Create a 2x3 array\n",
    "arr = np.array([[1, 2, 3], [4, 5, 6]])\n",
    "\n",
    "# Reshape it to 3x2 using 'F' for column-major order\n",
    "reshaped_arr = np.reshape(arr, (3, 2), order='F')\n",
    "\n",
    "print(\"Original Array:\")\n",
    "print(arr)\n",
    "\n",
    "print(\"\\nReshaped Array (3x2) in Column-Major Order:\")\n",
    "print(reshaped_arr)"
   ]
  },
  {
   "cell_type": "markdown",
   "id": "f7982004",
   "metadata": {},
   "source": [
    "### 2. Numpy `flatten()` in NumPy\n",
    "\n",
    "The 'flatten()' method in NumPy is a useful function when you want to convert a multi-dimensional array (like a 2D, 3D array, etc.) into a **1D array**.\n",
    "\n",
    "### What Does flatten() Do?\n",
    "\n",
    "- Creates a new 1D array: The method takes all elements from the multi-dimensional array and arranges them into a single, 1D array.\n",
    "\n",
    "- Order of elements: The elements are placed into the 1D array in a specific order, which can be controlled. By default, it follows row-major order (similar to how a C programming language would store data), but you can change it based on your requirements.\n",
    "\n",
    "#### Syntax\n",
    "```python\n",
    "ndarray.flatten(order='C')\n"
   ]
  },
  {
   "cell_type": "code",
   "execution_count": null,
   "id": "43da5483",
   "metadata": {},
   "outputs": [],
   "source": []
  }
 ],
 "metadata": {
  "kernelspec": {
   "display_name": ".venv",
   "language": "python",
   "name": "python3"
  },
  "language_info": {
   "codemirror_mode": {
    "name": "ipython",
    "version": 3
   },
   "file_extension": ".py",
   "mimetype": "text/x-python",
   "name": "python",
   "nbconvert_exporter": "python",
   "pygments_lexer": "ipython3",
   "version": "3.9.16"
  }
 },
 "nbformat": 4,
 "nbformat_minor": 5
}
