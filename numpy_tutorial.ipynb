{
 "cells": [
  {
   "cell_type": "markdown",
   "id": "70c6213f",
   "metadata": {},
   "source": [
    "# **Numpy Python Module**\n",
    "\n",
    "NumPy, short for Numerical Python, is an open-source Python library designed to handle numerical computations efficiently. It provides support for multi-dimensional arrays (like tables and matrices), allowing you to work with large datasets and perform mathematical operations on them quickly. NumPy includes a wide range of mathematical functions, such as calculating averages, sums, and applying complex operations like matrix multiplication or statistical analysis, all with minimal code. It is widely used in scientific computing, data analysis, and machine learning because of its speed and ease in handling large volumes of numerical data, making it an essential tool in these fields.\n",
    "\n",
    "## Applications\n",
    "\n",
    "- Data Analysis: NumPy allows you to create and manipulate data (in the form of arrays), filter it, and perform operations like calculating the mean, standard deviation, etc.\n",
    "\n",
    "- Machine Learning & AI: Libraries like TensorFlow and PyTorch use NumPy to manage input data, model parameters, and process output values.\n",
    "\n",
    "- Array Manipulation: NumPy supports creating, resizing, slicing, indexing, stacking, splitting, and combining arrays.\n",
    "\n",
    "- Finance & Economics: NumPy is used for financial analysis, including portfolio optimization, risk assessment, time series analysis, and statistical modeling.\n",
    "\n",
    "- Image & Signal Processing: NumPy helps in processing and analyzing images and signals for various applications.\n",
    "\n",
    "- Data Visualization: While NumPy itself doesn’t generate visualizations, it works with libraries like Matplotlib and Seaborn to create charts and graphs from numerical data.\n",
    "\n",
    "\n",
    "## Why is NumPy Faster Than Lists?\n",
    "\n",
    "| **Aspect**        | **NumPy**                                                                                           | **Python List**                                                                                                  |\n",
    "|-------------------|-----------------------------------------------------------------------------------------------------------------|------------------------------------------------------------------------------------------------------------------|\n",
    "| **Memory Storage** | NumPy stores all data in one continuous block, making it faster to access and use less memory.                   | Python lists store references to objects, which can slow things down and use more memory.                        |\n",
    "| **Data Types**     | NumPy arrays have elements of the **same type**, which helps save memory and makes things faster.               | Python lists can hold elements of **different types**, which takes up more memory and makes things slower.      |\n",
    "| **Operations**     | NumPy can do math on entire arrays at once, making it faster.                                                   | Python lists need loops to do math on each element one by one, which is slower.                                |\n",
    "| **Efficiency**     | NumPy is written in **C**, making it much faster for numerical tasks.                                          | Python lists are slower because they are handled by Python’s slower byte-code.                                  |\n",
    "| **Memory Usage**   | NumPy uses less memory because all elements are the same type and stored in one place.                         | Python lists use more memory because each element is a separate object.                                         |\n",
    "| **Broadcasting**   | NumPy allows you to do operations on arrays of different sizes without copying data, making it faster.         | Python lists can't do this, so operations on different sized lists take longer.                                |\n",
    "| **Performance**    | NumPy is faster because it uses memory better and does things more efficiently.                                | Python lists are slower because their data is scattered around in memory.                                      |\n",
    "| **Functionality**  | NumPy has many built-in math functions for arrays, making it perfect for complex calculations.                 | Python lists only have basic functions and can’t handle complex math easily.                                   |\n"
   ]
  },
  {
   "cell_type": "code",
   "execution_count": 54,
   "id": "7fb9c932",
   "metadata": {},
   "outputs": [
    {
     "name": "stdout",
     "output_type": "stream",
     "text": [
      "int64\n"
     ]
    },
    {
     "data": {
      "text/plain": [
       "array([1, 2, 3, 4, 5])"
      ]
     },
     "execution_count": 54,
     "metadata": {},
     "output_type": "execute_result"
    }
   ],
   "source": [
    "import numpy as np\n",
    "\n",
    "array = np.array([1, 2, 3, 4, 5])\n",
    "print(array.dtype)  # Output: <class 'numpy.ndarray'>\n",
    "array"
   ]
  },
  {
   "cell_type": "markdown",
   "id": "8b42e206",
   "metadata": {},
   "source": [
    "## NumPy ndarray:\n",
    "- ndarray (short for N-dimensional array) is the **core object** in NumPy.\n",
    "\n",
    "- It represents a collection of items (elements) that are all of the same type.\n",
    "\n",
    "- Each element in the ndarray can be accessed using a zero-based index.\n",
    "\n",
    "- All elements of an ndarray take the same size block in memory.\n",
    "\n",
    "- The type of the elements is defined by a special object called **dtype** (data type), which specifies how much memory each element takes and what type it is (e.g., integer, float).\n",
    "\n",
    "## Relationship Between ndarray, dtype, and Array Scalar Types:\n",
    "- **ndarray**: This is the main object that holds the array of data.\n",
    "\n",
    "- **dtype**: This is the data type object that defines the type of each element within the ndarray (e.g., int32, float64).\n",
    "\n",
    "- **Array Scalar Type**: When you extract an element from an ndarray (like by slicing), the element is converted into a Python object of a specific array scalar type, which corresponds to the dtype of the ndarray."
   ]
  },
  {
   "cell_type": "markdown",
   "id": "ed483d65",
   "metadata": {},
   "source": [
    "### **Creating an ndarray with numpy.array()**\n",
    "The numpy.array() function is the most common way to create an ndarray. It takes in any object that can expose the array interface or any sequence (like lists, tuples, or nested sequences). Here's the basic syntax:"
   ]
  },
  {
   "cell_type": "code",
   "execution_count": 55,
   "id": "a200945b",
   "metadata": {},
   "outputs": [
    {
     "data": {
      "text/plain": [
       "array(<class 'object'>, dtype=object)"
      ]
     },
     "execution_count": 55,
     "metadata": {},
     "output_type": "execute_result"
    }
   ],
   "source": [
    "np.array(object, dtype=None, copy=True, order=None, subok=False, ndmin=0)"
   ]
  },
  {
   "cell_type": "markdown",
   "id": "5e13c165",
   "metadata": {},
   "source": [
    "## parameters taken are as follows\n",
    "\n",
    "\n",
    "| **Sr.No.** | **Parameter** | **Description** | **Example** |\n",
    "|------------|---------------|-----------------|-------------|\n",
    "| 1 | **`object`** | This is the data (like a list, tuple, or another array) that you want to convert into a NumPy array. It is the most important argument. | `np.array([1, 2, 3, 4])` creates an array from a list. |\n",
    "| 2 | **`dtype`** | Specifies the desired data type for the array elements (e.g., `int`, `float`). If not specified, NumPy tries to infer the data type. refer official doc for knowing about suported dtypes | `np.array([1, 2, 3], dtype=np.float32)` creates an array with `float32` type. |\n",
    "| 3 | **`copy`** | By default, this is `True`, meaning a new copy of the data is made. If set to `False`, NumPy will use a reference to the original data. | `np.array([1, 2, 3], copy=False)` creates a reference to the input list. |\n",
    "| 4 | **`order`** | Specifies how the array is stored in memory. `'C'` is for row-major (C-style), and `'F'` is for column-major (Fortran-style). | `np.array([[1, 2], [3, 4]], order='F')` creates a 2D array in column-major order. |\n",
    "| 5 | **`subok`** | If `True`, sub-classes of `ndarray` (like masked arrays) are preserved when returning the array. If `False` (default), the result is always a base `ndarray`. | `np.array([1, 2, 3], subok=True)` keeps any subclass of `ndarray`. |\n",
    "| 6 | **`ndmin`** | Specifies the minimum number of dimensions for the resulting array. If the input has fewer dimensions, extra dimensions are added. | `np.array([1, 2, 3], ndmin=2)` converts the 1D array to a 2D array with shape `(1, 3)`. |\n"
   ]
  },
  {
   "cell_type": "markdown",
   "id": "e73ba94f",
   "metadata": {},
   "source": [
    "## Example: Create a One-dimensional Array"
   ]
  },
  {
   "cell_type": "code",
   "execution_count": 56,
   "id": "b6f3dc42",
   "metadata": {},
   "outputs": [
    {
     "data": {
      "text/plain": [
       "array([1, 2, 3])"
      ]
     },
     "execution_count": 56,
     "metadata": {},
     "output_type": "execute_result"
    }
   ],
   "source": [
    "\n",
    "a = np.array([1, 2, 3])\n",
    "a"
   ]
  },
  {
   "cell_type": "markdown",
   "id": "eadfd1ea",
   "metadata": {},
   "source": [
    "## Example: Create a Multi-dimensional Array"
   ]
  },
  {
   "cell_type": "code",
   "execution_count": 57,
   "id": "edcac430",
   "metadata": {},
   "outputs": [
    {
     "name": "stdout",
     "output_type": "stream",
     "text": [
      "[[1 2]\n",
      " [3 4]]\n"
     ]
    },
    {
     "data": {
      "text/plain": [
       "array([[1, 2],\n",
       "       [3, 4]])"
      ]
     },
     "execution_count": 57,
     "metadata": {},
     "output_type": "execute_result"
    }
   ],
   "source": [
    "\n",
    "a = np.array([[1, 2], [3, 4]])\n",
    "print(a)\n",
    "\n",
    "a = np.array([range(i,i+2) for i in [1,3]])\n",
    "a"
   ]
  },
  {
   "cell_type": "markdown",
   "id": "352cd703",
   "metadata": {},
   "source": [
    "## Example: Specify Minimum Dimensions"
   ]
  },
  {
   "cell_type": "code",
   "execution_count": 58,
   "id": "a61a9cdb",
   "metadata": {},
   "outputs": [
    {
     "data": {
      "text/plain": [
       "array([[1, 2, 3, 4, 5]])"
      ]
     },
     "execution_count": 58,
     "metadata": {},
     "output_type": "execute_result"
    }
   ],
   "source": [
    "\n",
    "a = np.array([1, 2, 3, 4, 5], ndmin=2)\n",
    "a"
   ]
  },
  {
   "cell_type": "markdown",
   "id": "e79ecc17",
   "metadata": {},
   "source": [
    "## Example: Specify Data Type"
   ]
  },
  {
   "cell_type": "code",
   "execution_count": 59,
   "id": "281665f4",
   "metadata": {},
   "outputs": [
    {
     "data": {
      "text/plain": [
       "array([1.+0.j, 2.+0.j, 3.+0.j])"
      ]
     },
     "execution_count": 59,
     "metadata": {},
     "output_type": "execute_result"
    }
   ],
   "source": [
    "\n",
    "a = np.array([1, 2, 3], dtype=complex)\n",
    "a"
   ]
  },
  {
   "cell_type": "markdown",
   "id": "ed680faa",
   "metadata": {},
   "source": [
    "# **Indexing Scheme**\n",
    "\n",
    "The indexing scheme in NumPy determines how elements in an ndarray are located in memory using a combination of shape and strides.\n",
    "\n",
    "## Shape and Strides in NumPy\n",
    "**Shape**:\n",
    "\n",
    "- The shape of an ndarray represents the size of the array along each dimension. It is a tuple of integers.\n",
    "\n",
    "- Example: For a 2x3 array, the shape would be (2, 3). This means there are 2 rows and 3 columns.\n",
    "\n",
    "**Strides**:\n",
    "\n",
    "- Strides refer to the number of bytes you need to move in memory to access the next element in each dimension. It tells NumPy how to step across the dimensions of the array when moving through its elements.\n",
    "\n",
    "- For instance, in a 2D array, the stride value for each dimension tells you how many bytes to move from one element to the next element in the same row (along the row axis) or to the next element in the same column (along the column axis)."
   ]
  },
  {
   "cell_type": "markdown",
   "id": "f03c5408",
   "metadata": {},
   "source": [
    "# **Row-major and Column-major Orders**\n",
    "\n",
    "**Row-major Order (C-style):**\n",
    "\n",
    "- In row-major order, the last index changes the fastest. This means that elements in the same row are stored next to each other in memory.\n",
    "\n",
    "- For example, in a 2x3 array like:\n",
    "\n",
    "[[1, 2, 3],\n",
    " [4, 5, 6]]\n",
    "\n",
    "The elements will be stored in memory as:\n",
    "1, 2, 3, 4, 5, 6.\n",
    "\n",
    "**Column-major Order (FORTRAN-style):**\n",
    "\n",
    "- In column-major order, the first index changes the fastest. This means that elements in the same column are stored next to each other in memory.\n",
    "\n",
    "- For example, in the same 2x3 array:\n",
    "\n",
    "[[1, 2, 3],\n",
    " [4, 5, 6]]\n",
    "\n",
    "The elements will be stored in memory as:\n",
    "1, 4, 2, 5, 3, 6.\n",
    "\n",
    "\n",
    "**Example**\n",
    "\n",
    "Following is a basic example to demonstrate the usage of the memory layout −\n"
   ]
  },
  {
   "cell_type": "code",
   "execution_count": 60,
   "id": "9f7aea6c",
   "metadata": {},
   "outputs": [
    {
     "name": "stdout",
     "output_type": "stream",
     "text": [
      "[[1 2 3]\n",
      " [4 5 6]]\n",
      "Shape: (2, 3)\n",
      "Strides: (24, 8)\n"
     ]
    }
   ],
   "source": [
    "\n",
    "\n",
    "# Creating a 2x3 array in row-major order\n",
    "a = np.array([[1, 2, 3], [4, 5, 6]])\n",
    "print(a)\n",
    "print(\"Shape:\", a.shape)\n",
    "print(\"Strides:\", a.strides)"
   ]
  },
  {
   "cell_type": "markdown",
   "id": "7cd0e64e",
   "metadata": {},
   "source": [
    "The shape of the array is (2, 3), indicating it has 2 rows and 3 columns. The strides are (24, 8), meaning that to move to the next row, we need to skip 24 bytes (since each element is an 8-byte integer, and there are 3 columns), and to move to the next column, we need to skip 8 bytes (the size of one integer)\n",
    "\n",
    "------------------------------------------"
   ]
  },
  {
   "cell_type": "markdown",
   "id": "59976106",
   "metadata": {},
   "source": [
    "# ***Creating Numpy arrays***\n",
    "\n",
    "In NumPy, you can create arrays using several built-in functions, each of which serves a different purpose depending on the type of array you want to create. Here’s a breakdown of some of the most commonly used functions for creating NumPy arrays:\n",
    "\n",
    "### 1. **`numpy.array()`**\n",
    "- Converts a list or other sequence into a NumPy array.\n",
    "- **Example**: `np.array([1, 2, 3])` turns a list into an array.\n",
    "\n",
    "### 2. **`numpy.zeros()`**\n",
    "- Creates an array filled with zeros.\n",
    "- **Example**: `np.zeros((2, 3))` creates a 2x3 array of zeros.\n",
    "\n",
    "### 3. **`numpy.ones()`**\n",
    "- Creates an array filled with ones.\n",
    "- **Example**: `np.ones((3, 2))` creates a 3x2 array of ones.\n",
    "\n",
    "### 4. **`numpy.arange()`**\n",
    "- Creates an array with numbers in a specified range, with a specific step size.\n",
    "- **Example**: `np.arange(0, 10, 2)` creates an array with numbers from 0 to 10, stepping by 2 (i.e., `[0, 2, 4, 6, 8]`).\n",
    "\n",
    "### 5. **`numpy.linspace()`**\n",
    "- Creates an array with evenly spaced numbers over a specified range.\n",
    "- **Example**: `np.linspace(0, 1, 5)` creates 5 evenly spaced numbers between 0 and 1.\n",
    "\n",
    "### 6. **`numpy.random.rand()`**\n",
    "- Creates an array of random numbers between 0 and 1.\n",
    "- **Example**: `np.random.rand(2, 3)` creates a 2x3 array of random numbers.\n",
    "\n",
    "### 7. **`numpy.empty()`**\n",
    "- Creates an array without initializing the values, meaning the array will contain random data initially.\n",
    "- **Example**: `np.empty((2, 2))` creates an empty 2x2 array with uninitialized values.\n",
    "\n",
    "### 8. **`numpy.full()`**\n",
    "- Creates an array filled with a specific value that you provide.\n",
    "- **Example**: `np.full((3, 3), 7)` creates a 3x3 array filled with the value `7`.\n"
   ]
  },
  {
   "cell_type": "markdown",
   "id": "d319f01d",
   "metadata": {},
   "source": [
    "### **Example: Creating a 1D & 2D NumPy Array uing list as input for numpy.array()**"
   ]
  },
  {
   "cell_type": "code",
   "execution_count": 61,
   "id": "77d7654f",
   "metadata": {},
   "outputs": [
    {
     "name": "stdout",
     "output_type": "stream",
     "text": [
      "1D Array: [1 2 3 4 5]\n",
      "2D Array(2x3):\n",
      " [[1 2 3]\n",
      " [4 5 6]]\n"
     ]
    }
   ],
   "source": [
    "\n",
    "\n",
    "# Creating a 1D array from a list\n",
    "# syntax - numpy.array(object, dtype=None, copy=True, order='K', subok=False, ndmin=0, like=None)\n",
    "\n",
    "my_list = [1, 2, 3, 4, 5] #my_list - object list\n",
    "my_array = np.array(my_list)\n",
    "\n",
    "print(\"1D Array:\", my_array)\n",
    "\n",
    "# Creating a 2D array from a list of lists\n",
    "arr = np.array([[1, 2, 3], [4, 5, 6]])\n",
    "\n",
    "print(\"2D Array(2x3):\\n\", arr)\n"
   ]
  },
  {
   "cell_type": "markdown",
   "id": "964329d5",
   "metadata": {},
   "source": [
    "### **Example: Creating a NumPy Array with values initialized to zeroes**"
   ]
  },
  {
   "cell_type": "code",
   "execution_count": 62,
   "id": "10e6e59f",
   "metadata": {},
   "outputs": [
    {
     "name": "stdout",
     "output_type": "stream",
     "text": [
      "[0. 0. 0. 0. 0.]\n"
     ]
    }
   ],
   "source": [
    "\n",
    "\n",
    "# Creating an array of zeros \n",
    "\n",
    "# syntax - numpy.zeros(shape, dtype=float, order='C')\n",
    "\n",
    "# here order desides whether to save in row major or column major memory layout indexing\n",
    "arr = np.zeros(5)\n",
    "print(arr)"
   ]
  },
  {
   "cell_type": "markdown",
   "id": "cad91014",
   "metadata": {},
   "source": [
    "### **Example: Creating a 1D & 2D NumPy Array with values initialized to one**"
   ]
  },
  {
   "cell_type": "code",
   "execution_count": 63,
   "id": "03841d46",
   "metadata": {},
   "outputs": [
    {
     "name": "stdout",
     "output_type": "stream",
     "text": [
      "1D Array: [1. 1. 1.]\n",
      "2D Array(2x3):\n",
      " [[1 1 1]\n",
      " [1 1 1]]\n",
      "strides for 2d for int32 dtype with Fortran style indexing:  (4, 8)\n"
     ]
    }
   ],
   "source": [
    "\n",
    "\n",
    "# Creating an array of ones \n",
    "# syntax - numpy.ones(shape, dtype=None, order='C')\n",
    "arr = np.ones(3)\n",
    "print(\"1D Array:\", arr)\n",
    "\n",
    "# Creating 2D array of ones \n",
    "array_2d = np.ones((2, 3), dtype=np.int32, order='F')\n",
    "print(\"2D Array(2x3):\\n\", array_2d)\n",
    "print(\"strides for 2d for int32 dtype with Fortran style indexing: \", array_2d.strides)"
   ]
  },
  {
   "cell_type": "markdown",
   "id": "854edc37",
   "metadata": {},
   "source": [
    "### **Using numpy.arange() Function**\n",
    "\n",
    "The numpy.arange() function generates a sequence of numbers in a specified range. You can define three parameters:\n",
    "\n",
    "- start: The starting value of the sequence (defaults to 0 if not provided).\n",
    "\n",
    "- stop: The end value of the sequence (exclusive, not included in the result).\n",
    "\n",
    "- step: The interval between consecutive values (defaults to 1 if not provided).\n",
    "\n",
    "It creates an array with evenly spaced numbers based on the start, stop, and step values.\n",
    "\n",
    "### **Example for numpy.arrange()**"
   ]
  },
  {
   "cell_type": "code",
   "execution_count": 64,
   "id": "cccabc07",
   "metadata": {},
   "outputs": [
    {
     "name": "stdout",
     "output_type": "stream",
     "text": [
      "array1: [0 1 2 3 4 5 6 7 8 9]\n",
      "array2: [1 3 5 7 9]\n"
     ]
    }
   ],
   "source": [
    "\n",
    "\n",
    "# Providing just the stop value\n",
    "array1 = np.arange(10)\n",
    "print(\"array1:\", array1)\n",
    "\n",
    "# Providing start, stop and step value\n",
    "array2 = np.arange(1, 10, 2)\n",
    "print(\"array2:\",array2)"
   ]
  },
  {
   "cell_type": "markdown",
   "id": "97fbe686",
   "metadata": {},
   "source": [
    "### **Using numpy.linspace() Function:**\n",
    "The numpy.linspace() function generates a sequence of evenly spaced numbers over a specified range. Unlike numpy.arange(), which generates numbers based on a specified step size, numpy.linspace() generates a fixed number of points between a given start and stop value.\n",
    "\n",
    "**Parameters:**\n",
    "- start: The starting value of the sequence.\n",
    "\n",
    "- stop: The end value of the sequence (inclusive by default).\n",
    "\n",
    "- num: The number of samples to generate. This is the total number of equally spaced points between start and stop (defaults to 50).\n",
    "\n",
    "- endpoint: If True (default), stop is included in the sequence. If False, stop is excluded.\n",
    "\n",
    "- retstep: If True, returns a tuple of the array and the step size used to generate it.\n",
    "\n",
    "- dtype: The data type of the returned array.\n",
    "\n",
    "- axis: The axis in the result along which the numbers are spaced."
   ]
  },
  {
   "cell_type": "code",
   "execution_count": 65,
   "id": "a25eec5e",
   "metadata": {},
   "outputs": [
    {
     "name": "stdout",
     "output_type": "stream",
     "text": [
      "array1: [0.     0.5557 1.111  1.667  2.223  2.777  3.334  3.889  4.445  5.    ]\n",
      "array2: [1.  1.2 1.4 1.6 1.8]\n",
      "array3: [ 0.   2.5  5.   7.5 10. ]\n",
      "Step size: 2.5\n"
     ]
    }
   ],
   "source": [
    "\n",
    "\n",
    "# syntax - numpy.linspace(start, stop, num=50, endpoint=True, retstep=False, dtype=None, axis=0)\n",
    "\n",
    "# Creating an array of 10 evenly spaced values from 0 to 5\n",
    "array1 = np.linspace(0, 5, num=10, dtype=np.float16)\n",
    "print(\"array1:\",array1)\n",
    "\n",
    "\n",
    "# Creating an array with 5 values from 1 to 2, excluding the endpoint\n",
    "array2 = np.linspace(1, 2, num=5, endpoint=False)\n",
    "print(\"array2:\",array2)\n",
    "\n",
    "# Creating an array and returning the step value\n",
    "array3, step = np.linspace(0, 10, num=5, retstep=True)\n",
    "print(\"array3:\",array3)\n",
    "print(\"Step size:\", step)"
   ]
  },
  {
   "cell_type": "markdown",
   "id": "a55f4805",
   "metadata": {},
   "source": [
    "### **Using numpy.random.rand() Function**:\n",
    "\n",
    "The `numpy.random.rand()` function creates an array filled with random values sampled from a uniform distribution over the interval [0, 1). This means that the values generated will lie between 0 and 1 (excluding 1).\n",
    "\n",
    "### **Example**\n"
   ]
  },
  {
   "cell_type": "code",
   "execution_count": 66,
   "id": "d939d312",
   "metadata": {},
   "outputs": [
    {
     "name": "stdout",
     "output_type": "stream",
     "text": [
      "Single random float: 0.6453882798771949\n",
      "1D array of random values: [0.3101581  0.94045198 0.43651236 0.43795084 0.81407427]\n",
      "2D array of random values:\n",
      " [[0.30821006 0.8260199  0.63412941]\n",
      " [0.01299507 0.90480551 0.4271574 ]]\n",
      "3D array of random values:\n",
      " [[[0.1445181  0.81563497 0.13288643 0.4474356 ]\n",
      "  [0.52224667 0.97076608 0.79143671 0.42032134]\n",
      "  [0.63312559 0.14279785 0.21534149 0.54294316]]\n",
      "\n",
      " [[0.03466923 0.1111042  0.77676049 0.54744616]\n",
      "  [0.42488036 0.14077336 0.66503893 0.47180862]\n",
      "  [0.27253205 0.51299454 0.45993585 0.03696354]]]\n"
     ]
    }
   ],
   "source": [
    "\n",
    "\n",
    "# syntax - numpy.random.rand(d0, d1, ..., dn)\n",
    "\n",
    "# 1. Generating a single random float\n",
    "random_float = np.random.rand()\n",
    "print(\"Single random float:\", random_float)\n",
    "\n",
    "# 2. Generating a 1D array of 5 random floats\n",
    "array_1d = np.random.rand(5)\n",
    "print(\"1D array of random values:\", array_1d)\n",
    "\n",
    "# 3. Generating a 2D array (2 rows, 3 columns) of random floats\n",
    "array_2d = np.random.rand(2, 3)\n",
    "print(\"2D array of random values:\\n\", array_2d)\n",
    "\n",
    "# 4. Generating a 3D array (2 matrices of 3x4) of random floats\n",
    "array_3d = np.random.rand(2, 3, 4)\n",
    "print(\"3D array of random values:\\n\", array_3d)\n"
   ]
  },
  {
   "cell_type": "markdown",
   "id": "3fea5556",
   "metadata": {},
   "source": [
    "### **Using numpy.empty() Function**:\n",
    "\n",
    "- **`numpy.empty()`** creates an array with the specified shape.\n",
    "- The values inside the array are **random** and uninitialized, depending on the memory state.\n",
    "- It is useful when you need to create an array **quickly** without filling it with values immediately.\n",
    "- Unlike `numpy.zeros()` (which fills the array with zeros) or `numpy.ones()` (which fills the array with ones), `numpy.empty()` does not initialize the array.\n",
    "- It is faster and saves memory because it doesn’t waste time initializing the array.\n",
    "- Best used when you plan to **fill** the array with your own data later.\n",
    "\n",
    "### **Example**"
   ]
  },
  {
   "cell_type": "code",
   "execution_count": 67,
   "id": "cc2f9ab5",
   "metadata": {},
   "outputs": [
    {
     "name": "stdout",
     "output_type": "stream",
     "text": [
      "array init with random values:\n",
      " [[0.30821006 0.8260199  0.63412941]\n",
      " [0.01299507 0.90480551 0.4271574 ]]\n"
     ]
    }
   ],
   "source": [
    "\n",
    "\n",
    "# syntax - numpy.empty(shape, dtype=float, order='C')\n",
    "\n",
    "empty_array = np.empty((2, 3))\n",
    "print(\"array init with random values:\\n\",empty_array)"
   ]
  },
  {
   "cell_type": "markdown",
   "id": "88760f76",
   "metadata": {},
   "source": [
    "### Explanation of `numpy.full()` Function\n",
    "\n",
    "The `numpy.full()` function is used to create a NumPy array of a specific shape and fill it with a **specified value**. This is useful when you want to initialize an array with a specific number across all its elements.\n",
    "\n",
    "### **paramters:**\n",
    "\n",
    "- **shape**: Specifies the dimensions of the array (e.g., (2, 3) for a 2x3 array).\n",
    "\n",
    "- **fill_value**: The value with which the array is filled. This value will be assigned to all elements of the array.\n",
    "\n",
    "- **dtype**: Optional. Specifies the data type of the array elements. The default is None, meaning the data type is inferred from the fill value.\n",
    "\n",
    "- **order**: Optional. Specifies the memory layout order ('C' for row-major, 'F' for column-major). It is not commonly used unless you have specific requirements."
   ]
  },
  {
   "cell_type": "code",
   "execution_count": 68,
   "id": "2b89a067",
   "metadata": {},
   "outputs": [
    {
     "name": "stdout",
     "output_type": "stream",
     "text": [
      "[[5 5 5]\n",
      " [5 5 5]]\n"
     ]
    }
   ],
   "source": [
    "\n",
    "\n",
    "# syntax - numpy.full(shape, fill_value, dtype=None, order='C')\n",
    "\n",
    "array1 = np.full((2, 3), 5)\n",
    "print(array1)"
   ]
  },
  {
   "cell_type": "markdown",
   "id": "4059e861",
   "metadata": {},
   "source": [
    "### Functions Used for Creation of NumPy Arrays\n",
    "\n",
    "In the NumPy module, there are various ways to create NumPy arrays that include basic creation methods, creation by reshaping and modifying data, creation using sequences, and creation using random functions. For further details on the creation functions, please refer to the official NumPy documentation.\n",
    "\n",
    "----------------------------------------------------------------"
   ]
  },
  {
   "cell_type": "markdown",
   "id": "6c0d2de7",
   "metadata": {},
   "source": [
    "## ***Manipulating the Shape of Arrays in NumPy***\n",
    "\n",
    "Several routines are available in NumPy for manipulating the shape of elements in an ndarray object. These routines allow you to change the shape without altering the data, making it easier to work with different dimensions. The following functions are used for changing the shape of arrays:\n",
    "\n",
    "## Frequently Used Functions\n",
    "\n",
    "### Reshape and Flattening\n",
    "- `reshape()`, `flatten()`, `ravel()` — Machine learning, data preprocessing.\n",
    "\n",
    "### Transpose\n",
    "- `transpose()`, `swapaxes()` — Linear algebra, deep learning.\n",
    "\n",
    "### Joining Arrays\n",
    "- `concatenate()`, `vstack()`, `hstack()` — Data preparation, feature engineering.\n",
    "\n",
    "### Sorting and Searching\n",
    "- `sort()`, `argsort()`, `argmax()` — Data analysis, optimization tasks.\n",
    "\n",
    "### Broadcasting\n",
    "- `broadcast_to()`, `expand_dims()` — Handling arrays of different shapes for operations.\n",
    "\n",
    "### Set Operations\n",
    "- `unique()`, `in1d()` — Data cleaning, analysis.\n",
    "\n",
    "Discussion below covers these topics, additional manipulation operations are rarely used, if need you can go through official user guide\n",
    "\n",
    "\n",
    "\n",
    "\n"
   ]
  },
  {
   "cell_type": "markdown",
   "id": "91d15f31",
   "metadata": {},
   "source": [
    "## **Reshape and Flattening of ndarray**: \n",
    "\n",
    "In NumPy, reshaping means changing the structure of an array without modifying its actual data.\n",
    "\n",
    "### 1. Numpy `reshape()` Function\n",
    "\n",
    "The `reshape()` function in NumPy is used to change the shape of an array, but the data in the array stays the same. It doesn't change the values inside; it just rearranges them into a new shape based on the dimensions you provide. The total number of elements must remain the same, meaning the number of elements in the original array must match the number of elements in the reshaped array.\n",
    "\n",
    "### Syntax:\n",
    "```python\n",
    "numpy.reshape(arr, newshape, order='C')"
   ]
  },
  {
   "cell_type": "markdown",
   "id": "95ef7667",
   "metadata": {},
   "source": [
    "### Parameters:\n",
    "- arr: The input array that you want to reshape.\n",
    "\n",
    "- newshape: A new shape for the array. This can be a single integer or a tuple of integers. The new shape must be compatible with the total number of elements in the original array.\n",
    "\n",
    "- order: (Optional) This specifies how the array should be read and written:\n",
    "\n",
    "  'C': Row-major order (default).\n",
    "\n",
    "  'F': Column-major order.\n",
    "\n",
    "### Return Value:\n",
    "The function returns a new array with the same data but a different shape.\n",
    "\n",
    "### Example 1: Basic Reshaping\n",
    "Let's say you have a 1D array and you want to reshape it into a 2D array."
   ]
  },
  {
   "cell_type": "code",
   "execution_count": 69,
   "id": "65757485",
   "metadata": {},
   "outputs": [
    {
     "name": "stdout",
     "output_type": "stream",
     "text": [
      "Original Array:\n",
      "[1 2 3 4 5 6]\n",
      "\n",
      "Reshaped Array (2x3):\n",
      "[[1 2 3]\n",
      " [4 5 6]]\n"
     ]
    }
   ],
   "source": [
    "\n",
    "\n",
    "# Create a 1D array with 6 elements\n",
    "arr = np.array([1, 2, 3, 4, 5, 6])\n",
    "\n",
    "# Reshape it into a 2D array with 2 rows and 3 columns\n",
    "reshaped_arr = arr.reshape(2, 3)\n",
    "\n",
    "print(\"Original Array:\")\n",
    "print(arr)\n",
    "\n",
    "print(\"\\nReshaped Array (2x3):\")\n",
    "print(reshaped_arr)"
   ]
  },
  {
   "cell_type": "markdown",
   "id": "95145c1e",
   "metadata": {},
   "source": [
    "### Example 2: Using -1 to Automatically Calculate One Dimension\n",
    "If you're unsure about one dimension of the new shape, you can use -1, and NumPy will automatically calculate it for you based on the total number of elements."
   ]
  },
  {
   "cell_type": "code",
   "execution_count": 70,
   "id": "48f89410",
   "metadata": {},
   "outputs": [
    {
     "name": "stdout",
     "output_type": "stream",
     "text": [
      "Original Array:\n",
      "[1 2 3 4 5 6 7 8 9]\n",
      "\n",
      "Reshaped Array (3x3):\n",
      "[[1 2 3]\n",
      " [4 5 6]\n",
      " [7 8 9]]\n"
     ]
    }
   ],
   "source": [
    "\n",
    "\n",
    "# Create a 1D array with 9 elements\n",
    "arr = np.array([1, 2, 3, 4, 5, 6, 7, 8, 9])\n",
    "\n",
    "reshaped_arr = arr.reshape(3, -1)\n",
    "\n",
    "print(\"Original Array:\")\n",
    "print(arr)\n",
    "\n",
    "print(\"\\nReshaped Array (3x3):\")\n",
    "print(reshaped_arr)"
   ]
  },
  {
   "cell_type": "markdown",
   "id": "3524fc6e",
   "metadata": {},
   "source": [
    "### Example 3: Reshaping with Column-Major Order\n",
    "You can also reshape the array using a different reading and writing order (column-major order). This is less common but may be useful in some cases."
   ]
  },
  {
   "cell_type": "code",
   "execution_count": 71,
   "id": "7c23a5cf",
   "metadata": {},
   "outputs": [
    {
     "name": "stdout",
     "output_type": "stream",
     "text": [
      "Original Array:\n",
      "[[1 2 3]\n",
      " [4 5 6]]\n",
      "\n",
      "Reshaped Array (3x2) in Column-Major Order:\n",
      "[[1 5]\n",
      " [4 3]\n",
      " [2 6]]\n"
     ]
    }
   ],
   "source": [
    "\n",
    "\n",
    "# Create a 2x3 array\n",
    "arr = np.array([[1, 2, 3], [4, 5, 6]])\n",
    "\n",
    "# Reshape it to 3x2 using 'F' for column-major order\n",
    "reshaped_arr = np.reshape(arr, (3, 2), order='F')\n",
    "\n",
    "print(\"Original Array:\")\n",
    "print(arr)\n",
    "\n",
    "print(\"\\nReshaped Array (3x2) in Column-Major Order:\")\n",
    "print(reshaped_arr)"
   ]
  },
  {
   "cell_type": "markdown",
   "id": "f7982004",
   "metadata": {},
   "source": [
    "### 2. Numpy `flatten()` Function\n",
    "\n",
    "The 'flatten()' method in NumPy is a useful function when you want to convert a multi-dimensional array (like a 2D, 3D array, etc.) into a **1D array**.\n",
    "\n",
    "### What Does flatten() Do?\n",
    "\n",
    "- Creates a new 1D array: The method takes all elements from the multi-dimensional array and arranges them into a single, 1D array.\n",
    "\n",
    "- Order of elements: The elements are placed into the 1D array in a specific order, which can be controlled. By default, it follows row-major order (similar to how a C programming language would store data), but you can change it based on your requirements.\n",
    "\n",
    "#### Syntax\n",
    "```python\n",
    "ndarray.flatten(order='C')\n",
    "```\n",
    "### parmeter description - \n",
    "\n",
    "order: This specifies how the elements should be flattened.\n",
    "\n",
    "- 'C' : Row-major (C-style) order, i.e., flattening happens row by row.\n",
    "\n",
    "- 'F' : Column-major (Fortran-style) order, i.e., flattening happens column by column.\n",
    "\n",
    "- 'A' : If the array is Fortran-contiguous in memory, it flattens in column-major order; otherwise, row-major order.\n",
    "\n",
    "- 'K' : Flatten in the order the elements occur in memory (preserves the original memory layout).\n",
    "\n",
    "### Example 1: Flattening a 2D Array (Row-Major Order)\n"
   ]
  },
  {
   "cell_type": "code",
   "execution_count": 72,
   "id": "43da5483",
   "metadata": {},
   "outputs": [
    {
     "name": "stdout",
     "output_type": "stream",
     "text": [
      "Original 2D Array:\n",
      "[[1 2 3]\n",
      " [4 5 6]]\n",
      "\n",
      "Flattened 1D Array:\n",
      "[1 4 2 5 3 6]\n"
     ]
    }
   ],
   "source": [
    "\n",
    "\n",
    "array_2d = np.array([[1, 2, 3], [4, 5, 6]])\n",
    "\n",
    "flattened_arr = array_2d.flatten('F')\n",
    "print(\"Original 2D Array:\")\n",
    "print(array_2d)\n",
    "print(\"\\nFlattened 1D Array:\")\n",
    "print(flattened_arr)"
   ]
  },
  {
   "cell_type": "markdown",
   "id": "00d019db",
   "metadata": {},
   "source": [
    "### Example 2: Flattening in Column-Major Order"
   ]
  },
  {
   "cell_type": "code",
   "execution_count": 73,
   "id": "f72cdb83",
   "metadata": {},
   "outputs": [
    {
     "name": "stdout",
     "output_type": "stream",
     "text": [
      "Original 2D Array:\n",
      "[[1 2 3]\n",
      " [4 5 6]]\n",
      "\n",
      "Flattened 1D Array (Column-major):\n",
      "[1 4 2 5 3 6]\n"
     ]
    }
   ],
   "source": [
    "\n",
    "\n",
    "# Creating a 2D numpy array\n",
    "array_2d = np.array([[1, 2, 3], [4, 5, 6]])\n",
    "\n",
    "# Flattening the array in column-major ('F' order)\n",
    "flattened_array = array_2d.flatten(order='F')\n",
    "\n",
    "print(\"Original 2D Array:\")\n",
    "print(array_2d)\n",
    "print(\"\\nFlattened 1D Array (Column-major):\")\n",
    "print(flattened_array)\n"
   ]
  },
  {
   "cell_type": "markdown",
   "id": "0226fbd0",
   "metadata": {},
   "source": [
    "### Example 3: Flattening a 3D Array"
   ]
  },
  {
   "cell_type": "code",
   "execution_count": 74,
   "id": "45f85119",
   "metadata": {},
   "outputs": [
    {
     "name": "stdout",
     "output_type": "stream",
     "text": [
      "Original 3D Array:\n",
      "[[[1 2]\n",
      "  [3 4]]\n",
      "\n",
      " [[5 6]\n",
      "  [7 8]]]\n",
      "Flattened 1D Array:\n",
      "[1 2 3 4 5 6 7 8]\n"
     ]
    }
   ],
   "source": [
    "\n",
    "\n",
    "# Creating a 3D numpy array\n",
    "array_3d = np.array([[[1, 2], [3, 4]], [[5, 6], [7, 8]]])\n",
    "\n",
    "# Flattening the array (default 'C' order)\n",
    "flattened_array = array_3d.flatten()\n",
    "\n",
    "print(\"Original 3D Array:\")\n",
    "print(array_3d)\n",
    "print(\"Flattened 1D Array:\")\n",
    "print(flattened_array)\n"
   ]
  },
  {
   "cell_type": "markdown",
   "id": "783f6aad",
   "metadata": {},
   "source": [
    "### Example 4: Flattening a Fortran-Contiguous Array"
   ]
  },
  {
   "cell_type": "code",
   "execution_count": 75,
   "id": "1b7a861b",
   "metadata": {},
   "outputs": [
    {
     "name": "stdout",
     "output_type": "stream",
     "text": [
      "Original Fortran-contiguous 2D Array:\n",
      "[[1 2 3]\n",
      " [4 5 6]]\n",
      "Flattened Array ('A' Order):\n",
      "[1 4 2 5 3 6]\n"
     ]
    }
   ],
   "source": [
    "\n",
    "\n",
    "# Creating a 2D numpy array with Fortran-contiguous memory layout\n",
    "array_fortran = np.asfortranarray([[1, 2, 3], [4, 5, 6]])\n",
    "\n",
    "# Flattening the array using 'A' order (column-major if Fortran-contiguous)\n",
    "flattened_array = array_fortran.flatten(order='A')\n",
    "\n",
    "print(\"Original Fortran-contiguous 2D Array:\")\n",
    "print(array_fortran)\n",
    "print(\"Flattened Array ('A' Order):\")\n",
    "print(flattened_array)\n"
   ]
  },
  {
   "cell_type": "markdown",
   "id": "ce0ee367",
   "metadata": {},
   "source": [
    "### 3. Numpy `ravel()` – Flatten Arrays (Efficiently!) Function\n",
    "\n",
    "### What is `ravel()`?\n",
    "\n",
    "The `numpy.ravel()` function is used to convert **multi-dimensional arrays into a 1D array**—just like `flatten()`—but it's smarter about **memory**. If possible, `ravel()` gives you a **view** (not a copy), meaning it **doesn't duplicate data** unless it has to. i.e changes done by ravel are reflected in original array\n",
    "\n",
    "It’s perfect when you want a flat array **without wasting memory**, and you don’t need to modify the original data independently.\n",
    "\n",
    "\n",
    "### Difference between `ravel()` and `flatten()`\n",
    "\n",
    "| Feature        | `ravel()`                        | `flatten()`                     |\n",
    "|----------------|----------------------------------|----------------------------------|\n",
    "| Return type    | Tries to return a **view**       | Always returns a **copy**       |\n",
    "| Memory usage   | More memory **efficient**        | Uses **more memory**            |\n",
    "| Modifying output affects original? | Yes (if it's a view)         | No (it's a separate copy)       |\n",
    "| Speed          | Faster (usually)                 | Slower (due to copying)         |\n",
    "\n",
    "\n",
    "### Syntax\n",
    "\n",
    "```python\n",
    "numpy.ravel(a, order='C')\n",
    "```\n",
    "- a - array we want to flatten\n",
    "- order - parameter inputs are same as flatten"
   ]
  },
  {
   "cell_type": "markdown",
   "id": "7ea41841",
   "metadata": {},
   "source": [
    "###  Example 1: ravel() affects the original array (if possible)"
   ]
  },
  {
   "cell_type": "code",
   "execution_count": 76,
   "id": "41000d5c",
   "metadata": {},
   "outputs": [
    {
     "name": "stdout",
     "output_type": "stream",
     "text": [
      "Modified ravel result: [999   2   3   4   5   6]\n",
      "\n",
      "Original array after ravel change:\n",
      "[[999   2   3]\n",
      " [  4   5   6]]\n"
     ]
    }
   ],
   "source": [
    "\n",
    "\n",
    "# Create a 2D numpy array\n",
    "array_2d = np.array([[1, 2, 3], [4, 5, 6]])\n",
    "\n",
    "# Use ravel() to flatten — gets a view (shared memory)\n",
    "ravel_result = np.ravel(array_2d)\n",
    "\n",
    "# Modify the flattened array\n",
    "ravel_result[0] = 999\n",
    "\n",
    "# Print results\n",
    "print(\"Modified ravel result:\", ravel_result)\n",
    "print(\"\\nOriginal array after ravel change:\")\n",
    "print(array_2d)"
   ]
  },
  {
   "cell_type": "markdown",
   "id": "03d34ed5",
   "metadata": {},
   "source": [
    "### Example comparision with Flatten - flatten() does not affect the original array"
   ]
  },
  {
   "cell_type": "code",
   "execution_count": 77,
   "id": "22d1f791",
   "metadata": {},
   "outputs": [
    {
     "name": "stdout",
     "output_type": "stream",
     "text": [
      "Modified flatten result: [111   2   3   4   5   6]\n",
      "\n",
      "Original array after flatten change:\n",
      "[[1 2 3]\n",
      " [4 5 6]]\n"
     ]
    }
   ],
   "source": [
    "\n",
    "\n",
    "# Create a 2D numpy array\n",
    "array_2d = np.array([[1, 2, 3], [4, 5, 6]])\n",
    "\n",
    "# Use flatten() to flatten — creates a new copy\n",
    "flatten_result = array_2d.flatten()\n",
    "\n",
    "# Modify the flattened array\n",
    "flatten_result[0] = 111\n",
    "\n",
    "# Print results\n",
    "print(\"Modified flatten result:\", flatten_result)\n",
    "print(\"\\nOriginal array after flatten change:\")\n",
    "print(array_2d)"
   ]
  },
  {
   "cell_type": "markdown",
   "id": "92f11013",
   "metadata": {},
   "source": [
    "## **Transpose operations**\n",
    "\n",
    "NumPy's transpose operations switch rows and columns in 2D arrays, and rearrange axes in arrays with more than two dimensions.\n",
    "\n",
    "### 1. Numpy `transpose()` Function \n",
    "\n",
    "**Understanding `numpy.transpose()` in a Beginner-Friendly Way**\n",
    "\n",
    "When we say we \"transpose\" an array in NumPy, it means we're flipping its axes.  \n",
    "But let's put that into a real-world scenario to make it click.\n",
    "\n",
    "\n",
    "**Real-World Analogy: Rotating a Set of Boxes**\n",
    "\n",
    "Imagine you run a warehouse and you're stacking boxes with labels like this:\n",
    "\n",
    "**Boxes (2 rows, 3 columns):**\n",
    "\n",
    "Row 1: Apple, Banana, Cherry  \n",
    "Row 2: Date, Fig, Grape\n",
    "\n",
    "This setup can be seen as a 2D array:\n",
    "\n",
    "```python\n",
    "[\n",
    "  [\"Apple\", \"Banana\", \"Cherry\"],\n",
    "  [\"Date\", \"Fig\", \"Grape\"]\n",
    "]\n",
    "```\n",
    "\n",
    "Now, suppose someone wants to view the boxes by columns instead of rows, like this:\n",
    "\n",
    "Column 1: Apple  Date\n",
    "Column 2: Banana Fig\n",
    "Column 3: Cherry Grape\n",
    "\n",
    "That's what numpy.transpose() does. It flips rows into columns and vice versa.\n",
    "\n",
    "### Syntax\n",
    "```python\n",
    "np.transpose(a, axes=None)\n",
    "```\n",
    "\n",
    "`a` is the array you want to transpose.\n",
    "`axes` lets you control how to rearrange the axes (optional).\n",
    "\n",
    "### Example 1 - School Timetable\n",
    "\n",
    "we have a timetable stored as rows = days, columns = periods:\n",
    "\n",
    "Real-World View (Rows = Days, Columns = Periods):\n",
    "\n",
    "|         |Period 1|Period 2|\n",
    "|----|----|----|\n",
    "|Monday |Math|English|\n",
    "|Tuesday|Physics|Chemistry|\n",
    "\n",
    "and if we want to tranpose it to view classes period wise as below\n",
    "|         |Monday|Tuesday|\n",
    "|----|----|----|\n",
    "|Period 1|Math|Physics|\n",
    "|Period 2|English|Chemistry|"
   ]
  },
  {
   "cell_type": "code",
   "execution_count": 78,
   "id": "e813fd00",
   "metadata": {},
   "outputs": [
    {
     "name": "stdout",
     "output_type": "stream",
     "text": [
      "Original Timetable (Day-wise):\n",
      " [['Math' 'English']\n",
      " ['Physics' 'Chemistry']]\n",
      "\n",
      "Transposed Timetable (Period-wise):\n",
      " [['Math' 'Physics']\n",
      " ['English' 'Chemistry']]\n"
     ]
    }
   ],
   "source": [
    "\n",
    "\n",
    "timetable = np.array([\n",
    "  ['Math', 'English'],\n",
    "  ['Physics', 'Chemistry']\n",
    "])\n",
    "\n",
    "# now if you want to view the table period wise instead of day wise we can transpose\n",
    "\n",
    "tranpose_mat = np.transpose(timetable)\n",
    "\n",
    "print(\"Original Timetable (Day-wise):\\n\", timetable)\n",
    "print(\"\\nTransposed Timetable (Period-wise):\\n\", tranpose_mat)"
   ]
  },
  {
   "cell_type": "markdown",
   "id": "3bdbfcfe",
   "metadata": {},
   "source": [
    "### Examples 2 - Image Processing (RGB Image) using specifying axes\n",
    "\n",
    "Images are stored as (height, width, channels) in many libraries. You want to change it to (channels, height, width) for deep learning libraries like PyTorch."
   ]
  },
  {
   "cell_type": "code",
   "execution_count": 79,
   "id": "91c00d2b",
   "metadata": {},
   "outputs": [
    {
     "name": "stdout",
     "output_type": "stream",
     "text": [
      "Original shape: (2, 2, 3)\n",
      "Transposed shape: (3, 2, 2)\n"
     ]
    }
   ],
   "source": [
    "# Shape: (height=2, width=2, channels=3)\n",
    "image = np.array([\n",
    "    [[255, 0, 0], [0, 255, 0]],    # Row 1\n",
    "    [[0, 0, 255], [255, 255, 0]]   # Row 2\n",
    "])\n",
    "\n",
    "# Transpose to (channels, height, width)\n",
    "transposed_img = np.transpose(image, (2, 0, 1)) # 2 channel to 0th pos, 0th height to 1st pos, 1st width to 2nd pos\n",
    "\n",
    "print(\"Original shape:\", image.shape)  # (2, 2, 3)\n",
    "print(\"Transposed shape:\", transposed_img.shape)  # (3, 2, 2)\n"
   ]
  },
  {
   "cell_type": "markdown",
   "id": "368570f8",
   "metadata": {},
   "source": [
    "### 2. Numpy `T` Function \n",
    "\n",
    "**Understanding `ndarray.T` in in NumPy (Transpose)**\n",
    "\n",
    "The `.T` attribute in NumPy is a shortcut for **transposing** an array—and it’s one of the most fundamental operations you’ll use in array manipulation, especially when working with tables, matrices, or multidimensional data.\n",
    "\n",
    "Think of `.T` as saying: **\"flip the shape of this data.\"**\n",
    "\n",
    "What Does \"Transpose\" Really Mean?\n",
    "\n",
    "At its core, transposing means:\n",
    "\n",
    "- For a **2D array** (like a spreadsheet), it's like swapping **rows** and **columns**.\n",
    "- For a **3D array** (like a stack of images), it’s like rotating or reordering the layers in some intuitive way.\n",
    "\n",
    "> The result is a **view**, not a copy — so it’s **fast** and **memory-efficient**!\n",
    "\n",
    "### Real-world Analogy for 2D Arrays\n",
    "\n",
    "Imagine a classroom attendance sheet:\n",
    "\n",
    "**Original**:\n",
    "|Names |   Math |  Science|   English|\n",
    "|---|---|---|---|\n",
    "|John        |85       |90         |88|\n",
    "|Alice|       92|       89         |94|\n",
    "\n",
    "**If we transpose this sheet, we switch rows and columns**:\n",
    "|Subjects|   John|   Alice|\n",
    "|---|---|---|\n",
    "|Math|          85|      92|\n",
    "|Science|       90|      89|\n",
    "|English|       88|      94|\n",
    "\n",
    "### Syntax\n",
    "```python\n",
    "ndarray.T\n",
    "```\n",
    "As simple as that and no additional parameters needs to be passed, thats it\n",
    "\n",
    "### Example 1 of previous discussed scenario\n",
    "\n"
   ]
  },
  {
   "cell_type": "code",
   "execution_count": 80,
   "id": "b32ebece",
   "metadata": {},
   "outputs": [
    {
     "name": "stdout",
     "output_type": "stream",
     "text": [
      "Original Grades (Students × Subjects):\n",
      "[[85 90 88]\n",
      " [92 89 94]\n",
      " [78 85 80]]\n",
      "\n",
      "Transposed Grades (Subjects × Students):\n",
      "[[85 92 78]\n",
      " [90 89 85]\n",
      " [88 94 80]]\n"
     ]
    }
   ],
   "source": [
    "\n",
    "\n",
    "# Rows = students, Columns = subjects\n",
    "grades = np.array([\n",
    "    [85, 90, 88],   # John\n",
    "    [92, 89, 94],   # Alice\n",
    "    [78, 85, 80]    # Sam\n",
    "])\n",
    "\n",
    "# Transpose to get: Rows = subjects, Columns = students\n",
    "grades_T = grades.T\n",
    "\n",
    "print(\"Original Grades (Students × Subjects):\")\n",
    "print(grades)\n",
    "\n",
    "print(\"\\nTransposed Grades (Subjects × Students):\")\n",
    "print(grades_T)"
   ]
  },
  {
   "cell_type": "markdown",
   "id": "35ba822f",
   "metadata": {},
   "source": [
    "### Example 2 - Transposing a 3D Image Batch (for ML Library)"
   ]
  },
  {
   "cell_type": "code",
   "execution_count": 81,
   "id": "c98d865b",
   "metadata": {},
   "outputs": [
    {
     "name": "stdout",
     "output_type": "stream",
     "text": [
      "Original shape (2 images, 2x2 pixels, RGB): (2, 2, 2, 3)\n",
      "Transposed shape (batch, channels, height, width): (2, 3, 2, 2)\n"
     ]
    }
   ],
   "source": [
    "\n",
    "\n",
    "# 2 images, 2x2 pixels each, with 3 color channels (RGB)\n",
    "images = np.array([\n",
    "    [[[255, 0, 0], [0, 255, 0]],\n",
    "     [[0, 0, 255], [255, 255, 0]]],  # Image 1\n",
    "\n",
    "    [[[125, 125, 0], [0, 125, 125]],\n",
    "     [[125, 0, 125], [50, 50, 50]]]   # Image 2\n",
    "])\n",
    "\n",
    "print(\"Original shape (2 images, 2x2 pixels, RGB):\", images.shape)\n",
    "\n",
    "# Transpose for a library that expects channels first: (2, 3, 2, 2)\n",
    "transposed_images = images.transpose(0, 3, 1, 2)\n",
    "\n",
    "print(\"Transposed shape (batch, channels, height, width):\", transposed_images.shape)\n"
   ]
  },
  {
   "cell_type": "markdown",
   "id": "1df4295d",
   "metadata": {},
   "source": [
    "### 3. Numpy `swapaxes()` Function\n",
    "\n",
    "Imagine you're organizing a multi-layered filing cabinet or stacked boxes where each dimension means something different — for example:\n",
    "\n",
    "- **Axis 0** → Different years\n",
    "- **Axis 1** → Different departments\n",
    "- **Axis 2** → Monthly reports for each department\n",
    "\n",
    "Now let’s say you're told:\n",
    "> \"Give me the data by month first, then department, then year.\"\n",
    "\n",
    "That’s exactly what `swapaxes()` helps with — reordering how you look at the data, without actually moving or copying it.  \n",
    "It's like rotating the cabinet drawers without touching the files inside.\n",
    "\n",
    "### Syntax and concept\n",
    "```python\n",
    "np.swapaxes(array, axis1, axis2)\n",
    "```\n",
    "- It swaps the labels or perspectives of two axes.\n",
    "- You don’t move data — you just change how you access or iterate over it.\n",
    "\n",
    "### Example 1- Sensor Data Example (Smartwatch)\n",
    "\n",
    "Imagine you’re collecting data from a smartwatch with 3 sensors:\n",
    "\n",
    "- Accelerometer (X, Y, Z)\n",
    "\n",
    "Over:\n",
    "\n",
    "- **100 time steps**\n",
    "- **10 different users**\n",
    "\n",
    "You store this in a NumPy array shaped like:\n",
    "\n",
    "```python\n",
    "# Shape: (users, time_steps, axes)\n",
    "(10, 100, 3)\n",
    "```\n",
    "Meaning:\n",
    "- Axis 0 → Users\n",
    "\n",
    "- Axis 1 → Time\n",
    "\n",
    "- Axis 2 → X, Y, Z sensor values\n",
    "\n",
    "Suppose you want to process it axis-wise — for example:\n",
    "\n",
    "Compute the mean X/Y/Z values over time and users and to do that, you'd bring the axis dimension (axis 2) to the front.\n",
    " "
   ]
  },
  {
   "cell_type": "code",
   "execution_count": 82,
   "id": "8267777c",
   "metadata": {},
   "outputs": [
    {
     "name": "stdout",
     "output_type": "stream",
     "text": [
      "(2, 100, 10)\n"
     ]
    }
   ],
   "source": [
    "# Simulate the data\n",
    "data = np.random.randn(10, 100, 2) # users × time × axes\n",
    "\n",
    "reoriented = np.swapaxes(data, 0, 2)\n",
    "\n",
    "# Now: axes × time × users\n",
    "print(reoriented.shape)"
   ]
  },
  {
   "cell_type": "markdown",
   "id": "a951e849",
   "metadata": {},
   "source": [
    "### Example 2 - Image Data Example\n",
    "\n",
    "Let’s say you're working with a colored image (RGB).  \n",
    "A typical image might be represented as:\n",
    "\n",
    "- **Shape**: Channels × Height × Width\n",
    "\n",
    "Create a Sample Image\n",
    "\n",
    "(3 channels for R, G, B, 64 pixels height, 64 pixels width)"
   ]
  },
  {
   "cell_type": "code",
   "execution_count": 83,
   "id": "b7d5f2a0",
   "metadata": {},
   "outputs": [
    {
     "name": "stdout",
     "output_type": "stream",
     "text": [
      "Original shape: (3, 64, 64)\n"
     ]
    }
   ],
   "source": [
    "# Channels × Height × Width\n",
    "image = np.random.randint(0, 255, (3, 64, 64))\n",
    "print(\"Original shape:\", image.shape)"
   ]
  },
  {
   "cell_type": "markdown",
   "id": "0f661b14",
   "metadata": {},
   "source": [
    "**Problem** - \n",
    "\n",
    "Some image processing tools (like OpenCV or TensorFlow) expect images in:\n",
    "\n",
    "- **Height × Width × Channels** format.\n",
    "\n",
    "We need to rearrange the axes accordingly."
   ]
  },
  {
   "cell_type": "code",
   "execution_count": 84,
   "id": "0dc12867",
   "metadata": {},
   "outputs": [
    {
     "name": "stdout",
     "output_type": "stream",
     "text": [
      "Converted shape: (64, 64, 3)\n",
      "image is ready to be displayed or passed to libraries that expect (Height, Width, Channels) format.\n"
     ]
    }
   ],
   "source": [
    "# Swap axes: move Channels (axis 0) to the last position\n",
    "converted_image = np.swapaxes(image, 0, 2)\n",
    "print(\"Converted shape:\", converted_image.shape)\n",
    "print(\"image is ready to be displayed or passed to libraries that expect (Height, Width, Channels) format.\")"
   ]
  },
  {
   "cell_type": "code",
   "execution_count": null,
   "id": "dc56ff96",
   "metadata": {},
   "outputs": [],
   "source": []
  }
 ],
 "metadata": {
  "kernelspec": {
   "display_name": ".venv",
   "language": "python",
   "name": "python3"
  },
  "language_info": {
   "codemirror_mode": {
    "name": "ipython",
    "version": 3
   },
   "file_extension": ".py",
   "mimetype": "text/x-python",
   "name": "python",
   "nbconvert_exporter": "python",
   "pygments_lexer": "ipython3",
   "version": "3.9.16"
  }
 },
 "nbformat": 4,
 "nbformat_minor": 5
}
