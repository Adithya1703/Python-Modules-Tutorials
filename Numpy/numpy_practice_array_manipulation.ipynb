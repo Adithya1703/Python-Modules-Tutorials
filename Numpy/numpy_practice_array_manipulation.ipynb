{
 "cells": [
  {
   "cell_type": "markdown",
   "id": "2dc98626",
   "metadata": {},
   "source": [
    "# ***Scenario: Student Performance Analysis***\n",
    "\n",
    "We'll use the [Student Performance Data Set from the UCI Machine Learning Repository](https://archive.ics.uci.edu/dataset/320/student+performance). This dataset includes student grades, demographic, social, and school-related features.\n",
    "\n",
    "This is just a example of how to use array mapnipulation operations which were discussed in tutorial in real scanrio\n",
    "\n",
    "## Load the Dataset\n",
    "\n",
    "First, we'll load the dataset into a Pandas DataFrame and then convert it into a NumPy array for manipulation."
   ]
  },
  {
   "cell_type": "code",
   "execution_count": 3,
   "id": "76eed6f7",
   "metadata": {},
   "outputs": [
    {
     "name": "stdout",
     "output_type": "stream",
     "text": [
      "  school sex  age address famsize Pstatus  Medu  Fedu     Mjob      Fjob  ...  \\\n",
      "0     GP   F   18       U     GT3       A     4     4  at_home   teacher  ...   \n",
      "1     GP   F   17       U     GT3       T     1     1  at_home     other  ...   \n",
      "2     GP   F   15       U     LE3       T     1     1  at_home     other  ...   \n",
      "3     GP   F   15       U     GT3       T     4     2   health  services  ...   \n",
      "4     GP   F   16       U     GT3       T     3     3    other     other  ...   \n",
      "\n",
      "  famrel freetime  goout  Dalc  Walc health absences  G1  G2  G3  \n",
      "0      4        3      4     1     1      3        6   5   6   6  \n",
      "1      5        3      3     1     1      3        4   5   5   6  \n",
      "2      4        3      2     2     3      3       10   7   8  10  \n",
      "3      3        2      2     1     1      5        2  15  14  15  \n",
      "4      4        3      2     1     2      5        4   6  10  10  \n",
      "\n",
      "[5 rows x 33 columns]\n"
     ]
    }
   ],
   "source": [
    "import pandas as pd\n",
    "import numpy as np\n",
    "\n",
    "# Load the dataset\n",
    "url = \"student-mat.csv\"\n",
    "df = pd.read_csv(url, sep=';')\n",
    "\n",
    "# Display the first few rows\n",
    "print(df.head())"
   ]
  },
  {
   "cell_type": "markdown",
   "id": "95e9ee1b",
   "metadata": {},
   "source": [
    "## Convert to NumPy Array\n",
    "\n",
    "We'll extract numerical columns for analysis."
   ]
  },
  {
   "cell_type": "code",
   "execution_count": 10,
   "id": "e3eebe6d",
   "metadata": {},
   "outputs": [
    {
     "name": "stdout",
     "output_type": "stream",
     "text": [
      "Index(['age', 'Medu', 'Fedu', 'traveltime', 'studytime', 'failures', 'famrel',\n",
      "       'freetime', 'goout', 'Dalc', 'Walc', 'health', 'absences', 'G1', 'G2',\n",
      "       'G3'],\n",
      "      dtype='object')\n",
      "Data shape: (395, 16)\n"
     ]
    }
   ],
   "source": [
    "# Select numerical columns\n",
    "numerical_cols = df.select_dtypes(include=[np.number]).columns\n",
    "print(numerical_cols)\n",
    "data = df[numerical_cols].to_numpy()\n",
    "\n",
    "# Display the shape of the data\n",
    "print(\"Data shape:\", data.shape)"
   ]
  },
  {
   "cell_type": "markdown",
   "id": "b7520fe2",
   "metadata": {},
   "source": [
    "## Apply NumPy Functions\n",
    "\n",
    "Now, let's apply various NumPy functions to this dataset."
   ]
  },
  {
   "cell_type": "code",
   "execution_count": 14,
   "id": "3744b906",
   "metadata": {},
   "outputs": [
    {
     "name": "stdout",
     "output_type": "stream",
     "text": [
      "Reshaped data shape: (395, 16, 1)\n",
      "Flattened data length: 6320\n",
      "Raveled data length: 6320\n",
      "Transposed data shape: (16, 395)\n",
      "Swapped data shape: (1, 16, 395)\n",
      "Concatenated data shape: (395, 32)\n",
      "Vstacked data shape: (790, 16)\n",
      "Hstacked data shape: (395, 32)\n",
      "Split data shapes: [(395, 8), (395, 8)]\n",
      "Sorted data shape: (395, 16)\n",
      "Argsorted data shape: (395, 16)\n",
      "Max indices: [247   0   0  61  47   2   1   9  18  29  29   3 276  42  47  47]\n",
      "Min indices: [  2 127  76   1  12   0  25   7   9   0   0   7   6 248 130 128]\n",
      "Where indices: (array([  0,   1,   2, ..., 393, 393, 394]), array([ 0,  0,  0, ..., 13, 14,  0]))\n",
      "Nonzero indices: (array([  0,   1,   2, ..., 393, 393, 394]), array([ 0,  0,  0, ..., 13, 14,  0]))\n",
      "Broadcasted data shape: (395, 16)\n",
      "Expanded data shape: (395, 16, 1)\n",
      "Unique elements: [ 0  1  2  3  4  5  6  7  8  9 10 11 12 13 14 15 16 17 18 19 20 21 22 23\n",
      " 24 25 26 28 30 38 40 54 56 75]\n",
      "In1d result shape: (6320,)\n"
     ]
    },
    {
     "name": "stderr",
     "output_type": "stream",
     "text": [
      "C:\\Users\\Z0228213\\AppData\\Local\\Temp\\ipykernel_39020\\3881644615.py:73: DeprecationWarning: `in1d` is deprecated. Use `np.isin` instead.\n",
      "  in1d_result = np.in1d(data, [15, 16, 17])\n"
     ]
    }
   ],
   "source": [
    "# Reshape the data to a 3D array.\n",
    "\n",
    "'''\n",
    "data.shape[0]: the number of rows (e.g., samples)\n",
    "\n",
    "data.shape[1]: the number of columns (e.g., features)\n",
    "\n",
    "1: adds a third dimension with size 1\n",
    "'''\n",
    "\n",
    "reshaped_data = data.reshape(data.shape[0], data.shape[1], 1)\n",
    "\n",
    "print(\"Reshaped data shape:\", reshaped_data.shape)\n",
    "\n",
    "\n",
    "# flatten() and ravel()\n",
    "# Flatten the data into a 1D array.\n",
    "\n",
    "flattened_data = data.flatten()\n",
    "raveled_data = data.ravel()\n",
    "print(\"Flattened data length:\", len(flattened_data))\n",
    "print(\"Raveled data length:\", len(raveled_data))\n",
    "\n",
    "# transpose() and swapaxes()\n",
    "# Transpose the data and swap axes.\n",
    "\n",
    "transposed_data = data.T\n",
    "swapped_data = np.swapaxes(reshaped_data, 0, 2)\n",
    "print(\"Transposed data shape:\", transposed_data.shape)\n",
    "print(\"Swapped data shape:\", swapped_data.shape)\n",
    "\n",
    "# concatenate(), vstack(), and hstack()\n",
    "\n",
    "# Create a dummy array for demonstration\n",
    "dummy_array = np.ones_like(data)\n",
    "\n",
    "concatenated_data = np.concatenate((data, dummy_array), axis=1)\n",
    "vstacked_data = np.vstack((data, dummy_array))\n",
    "hstacked_data = np.hstack((data, dummy_array))\n",
    "print(\"Concatenated data shape:\", concatenated_data.shape)\n",
    "print(\"Vstacked data shape:\", vstacked_data.shape)\n",
    "print(\"Hstacked data shape:\", hstacked_data.shape)\n",
    "\n",
    "# split()\n",
    "split_data = np.split(data, 2, axis=1)\n",
    "print(\"Split data shapes:\", [arr.shape for arr in split_data])\n",
    "\n",
    "# sort(), argsort(), argmax(), argmin(), where(), nonzero()\n",
    "sorted_data = np.sort(data, axis=0)\n",
    "argsorted_data = np.argsort(data, axis=0)\n",
    "max_indices = np.argmax(data, axis=0)\n",
    "min_indices = np.argmin(data, axis=0)\n",
    "condition = data > 10\n",
    "where_indices = np.where(condition)\n",
    "nonzero_indices = np.nonzero(condition)\n",
    "print(\"Sorted data shape:\", sorted_data.shape)\n",
    "print(\"Argsorted data shape:\", argsorted_data.shape)\n",
    "print(\"Max indices:\", max_indices)\n",
    "print(\"Min indices:\", min_indices)\n",
    "print(\"Where indices:\", where_indices)\n",
    "print(\"Nonzero indices:\", nonzero_indices)\n",
    "\n",
    "# broadcast_to(), expand_dims()\n",
    "# Create a 1D array to broadcast\n",
    "broadcast_array = np.array([1] * data.shape[1])\n",
    "broadcasted_data = np.broadcast_to(broadcast_array, data.shape)\n",
    "expanded_data = np.expand_dims(data, axis=2)\n",
    "print(\"Broadcasted data shape:\", broadcasted_data.shape)\n",
    "print(\"Expanded data shape:\", expanded_data.shape)\n",
    "\n",
    "# unique(), in1d()\n",
    "unique_elements = np.unique(data)\n",
    "in1d_result = np.in1d(data, [15, 16, 17])\n",
    "print(\"Unique elements:\", unique_elements)\n",
    "print(\"In1d result shape:\", in1d_result.shape)\n",
    "\n",
    "\n"
   ]
  }
 ],
 "metadata": {
  "kernelspec": {
   "display_name": ".venv",
   "language": "python",
   "name": "python3"
  },
  "language_info": {
   "codemirror_mode": {
    "name": "ipython",
    "version": 3
   },
   "file_extension": ".py",
   "mimetype": "text/x-python",
   "name": "python",
   "nbconvert_exporter": "python",
   "pygments_lexer": "ipython3",
   "version": "3.9.16"
  }
 },
 "nbformat": 4,
 "nbformat_minor": 5
}
