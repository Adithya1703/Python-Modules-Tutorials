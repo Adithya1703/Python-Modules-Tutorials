{
 "cells": [
  {
   "cell_type": "markdown",
   "id": "70c6213f",
   "metadata": {},
   "source": [
    "# **Numpy Python Module**\n",
    "\n",
    "NumPy, short for Numerical Python, is an open-source Python library designed to handle numerical computations efficiently. It provides support for multi-dimensional arrays (like tables and matrices), allowing you to work with large datasets and perform mathematical operations on them quickly. NumPy includes a wide range of mathematical functions, such as calculating averages, sums, and applying complex operations like matrix multiplication or statistical analysis, all with minimal code. It is widely used in scientific computing, data analysis, and machine learning because of its speed and ease in handling large volumes of numerical data, making it an essential tool in these fields.\n",
    "\n",
    "## Applications\n",
    "\n",
    "- Data Analysis: NumPy allows you to create and manipulate data (in the form of arrays), filter it, and perform operations like calculating the mean, standard deviation, etc.\n",
    "\n",
    "- Machine Learning & AI: Libraries like TensorFlow and PyTorch use NumPy to manage input data, model parameters, and process output values.\n",
    "\n",
    "- Array Manipulation: NumPy supports creating, resizing, slicing, indexing, stacking, splitting, and combining arrays.\n",
    "\n",
    "- Finance & Economics: NumPy is used for financial analysis, including portfolio optimization, risk assessment, time series analysis, and statistical modeling.\n",
    "\n",
    "- Image & Signal Processing: NumPy helps in processing and analyzing images and signals for various applications.\n",
    "\n",
    "- Data Visualization: While NumPy itself doesn’t generate visualizations, it works with libraries like Matplotlib and Seaborn to create charts and graphs from numerical data.\n",
    "\n",
    "\n",
    "## Why is NumPy Faster Than Lists?\n",
    "\n",
    "| **Aspect**        | **NumPy**                                                                                           | **Python List**                                                                                                  |\n",
    "|-------------------|-----------------------------------------------------------------------------------------------------------------|------------------------------------------------------------------------------------------------------------------|\n",
    "| **Memory Storage** | NumPy stores all data in one continuous block, making it faster to access and use less memory.                   | Python lists store references to objects, which can slow things down and use more memory.                        |\n",
    "| **Data Types**     | NumPy arrays have elements of the **same type**, which helps save memory and makes things faster.               | Python lists can hold elements of **different types**, which takes up more memory and makes things slower.      |\n",
    "| **Operations**     | NumPy can do math on entire arrays at once, making it faster.                                                   | Python lists need loops to do math on each element one by one, which is slower.                                |\n",
    "| **Efficiency**     | NumPy is written in **C**, making it much faster for numerical tasks.                                          | Python lists are slower because they are handled by Python’s slower byte-code.                                  |\n",
    "| **Memory Usage**   | NumPy uses less memory because all elements are the same type and stored in one place.                         | Python lists use more memory because each element is a separate object.                                         |\n",
    "| **Broadcasting**   | NumPy allows you to do operations on arrays of different sizes without copying data, making it faster.         | Python lists can't do this, so operations on different sized lists take longer.                                |\n",
    "| **Performance**    | NumPy is faster because it uses memory better and does things more efficiently.                                | Python lists are slower because their data is scattered around in memory.                                      |\n",
    "| **Functionality**  | NumPy has many built-in math functions for arrays, making it perfect for complex calculations.                 | Python lists only have basic functions and can’t handle complex math easily.                                   |\n"
   ]
  },
  {
   "cell_type": "code",
   "execution_count": 1,
   "id": "7fb9c932",
   "metadata": {},
   "outputs": [
    {
     "name": "stdout",
     "output_type": "stream",
     "text": [
      "int64\n"
     ]
    },
    {
     "data": {
      "text/plain": [
       "array([1, 2, 3, 4, 5])"
      ]
     },
     "execution_count": 1,
     "metadata": {},
     "output_type": "execute_result"
    }
   ],
   "source": [
    "import numpy as np\n",
    "\n",
    "array = np.array([1, 2, 3, 4, 5])\n",
    "print(array.dtype)  # Output: <class 'numpy.ndarray'>\n",
    "array"
   ]
  },
  {
   "cell_type": "markdown",
   "id": "8b42e206",
   "metadata": {},
   "source": [
    "## NumPy ndarray:\n",
    "- ndarray (short for N-dimensional array) is the **core object** in NumPy.\n",
    "\n",
    "- It represents a collection of items (elements) that are all of the same type.\n",
    "\n",
    "- Each element in the ndarray can be accessed using a zero-based index.\n",
    "\n",
    "- All elements of an ndarray take the same size block in memory.\n",
    "\n",
    "- The type of the elements is defined by a special object called **dtype** (data type), which specifies how much memory each element takes and what type it is (e.g., integer, float).\n",
    "\n",
    "## Relationship Between ndarray, dtype, and Array Scalar Types:\n",
    "- **ndarray**: This is the main object that holds the array of data.\n",
    "\n",
    "- **dtype**: This is the data type object that defines the type of each element within the ndarray (e.g., int32, float64).\n",
    "\n",
    "- **Array Scalar Type**: When you extract an element from an ndarray (like by slicing), the element is converted into a Python object of a specific array scalar type, which corresponds to the dtype of the ndarray."
   ]
  },
  {
   "cell_type": "markdown",
   "id": "ed483d65",
   "metadata": {},
   "source": [
    "### **Creating an ndarray with numpy.array()**\n",
    "The numpy.array() function is the most common way to create an ndarray. It takes in any object that can expose the array interface or any sequence (like lists, tuples, or nested sequences). Here's the basic syntax:"
   ]
  },
  {
   "cell_type": "code",
   "execution_count": 2,
   "id": "a200945b",
   "metadata": {},
   "outputs": [
    {
     "data": {
      "text/plain": [
       "array(<class 'object'>, dtype=object)"
      ]
     },
     "execution_count": 2,
     "metadata": {},
     "output_type": "execute_result"
    }
   ],
   "source": [
    "np.array(object, dtype=None, copy=True, order=None, subok=False, ndmin=0)"
   ]
  },
  {
   "cell_type": "markdown",
   "id": "5e13c165",
   "metadata": {},
   "source": [
    "## parameters taken are as follows\n",
    "\n",
    "\n",
    "| **Sr.No.** | **Parameter** | **Description** | **Example** |\n",
    "|------------|---------------|-----------------|-------------|\n",
    "| 1 | **`object`** | This is the data (like a list, tuple, or another array) that you want to convert into a NumPy array. It is the most important argument. | `np.array([1, 2, 3, 4])` creates an array from a list. |\n",
    "| 2 | **`dtype`** | Specifies the desired data type for the array elements (e.g., `int`, `float`). If not specified, NumPy tries to infer the data type. refer official doc for knowing about suported dtypes | `np.array([1, 2, 3], dtype=np.float32)` creates an array with `float32` type. |\n",
    "| 3 | **`copy`** | By default, this is `True`, meaning a new copy of the data is made. If set to `False`, NumPy will use a reference to the original data. | `np.array([1, 2, 3], copy=False)` creates a reference to the input list. |\n",
    "| 4 | **`order`** | Specifies how the array is stored in memory. `'C'` is for row-major (C-style), and `'F'` is for column-major (Fortran-style). | `np.array([[1, 2], [3, 4]], order='F')` creates a 2D array in column-major order. |\n",
    "| 5 | **`subok`** | If `True`, sub-classes of `ndarray` (like masked arrays) are preserved when returning the array. If `False` (default), the result is always a base `ndarray`. | `np.array([1, 2, 3], subok=True)` keeps any subclass of `ndarray`. |\n",
    "| 6 | **`ndmin`** | Specifies the minimum number of dimensions for the resulting array. If the input has fewer dimensions, extra dimensions are added. | `np.array([1, 2, 3], ndmin=2)` converts the 1D array to a 2D array with shape `(1, 3)`. |\n"
   ]
  },
  {
   "cell_type": "markdown",
   "id": "e73ba94f",
   "metadata": {},
   "source": [
    "## Example: Create a One-dimensional Array"
   ]
  },
  {
   "cell_type": "code",
   "execution_count": 3,
   "id": "b6f3dc42",
   "metadata": {},
   "outputs": [
    {
     "data": {
      "text/plain": [
       "array([1, 2, 3])"
      ]
     },
     "execution_count": 3,
     "metadata": {},
     "output_type": "execute_result"
    }
   ],
   "source": [
    "\n",
    "a = np.array([1, 2, 3])\n",
    "a"
   ]
  },
  {
   "cell_type": "markdown",
   "id": "eadfd1ea",
   "metadata": {},
   "source": [
    "## Example: Create a Multi-dimensional Array"
   ]
  },
  {
   "cell_type": "code",
   "execution_count": 4,
   "id": "edcac430",
   "metadata": {},
   "outputs": [
    {
     "name": "stdout",
     "output_type": "stream",
     "text": [
      "[[1 2]\n",
      " [3 4]]\n"
     ]
    },
    {
     "data": {
      "text/plain": [
       "array([[1, 2],\n",
       "       [3, 4]])"
      ]
     },
     "execution_count": 4,
     "metadata": {},
     "output_type": "execute_result"
    }
   ],
   "source": [
    "\n",
    "a = np.array([[1, 2], [3, 4]])\n",
    "print(a)\n",
    "\n",
    "a = np.array([range(i,i+2) for i in [1,3]])\n",
    "a"
   ]
  },
  {
   "cell_type": "markdown",
   "id": "352cd703",
   "metadata": {},
   "source": [
    "## Example: Specify Minimum Dimensions"
   ]
  },
  {
   "cell_type": "code",
   "execution_count": 5,
   "id": "a61a9cdb",
   "metadata": {},
   "outputs": [
    {
     "data": {
      "text/plain": [
       "array([[1, 2, 3, 4, 5]])"
      ]
     },
     "execution_count": 5,
     "metadata": {},
     "output_type": "execute_result"
    }
   ],
   "source": [
    "\n",
    "a = np.array([1, 2, 3, 4, 5], ndmin=2)\n",
    "a"
   ]
  },
  {
   "cell_type": "markdown",
   "id": "e79ecc17",
   "metadata": {},
   "source": [
    "## Example: Specify Data Type"
   ]
  },
  {
   "cell_type": "code",
   "execution_count": 6,
   "id": "281665f4",
   "metadata": {},
   "outputs": [
    {
     "data": {
      "text/plain": [
       "array([1.+0.j, 2.+0.j, 3.+0.j])"
      ]
     },
     "execution_count": 6,
     "metadata": {},
     "output_type": "execute_result"
    }
   ],
   "source": [
    "\n",
    "a = np.array([1, 2, 3], dtype=complex)\n",
    "a"
   ]
  },
  {
   "cell_type": "markdown",
   "id": "ed680faa",
   "metadata": {},
   "source": [
    "# **Indexing Scheme**\n",
    "\n",
    "The indexing scheme in NumPy determines how elements in an ndarray are located in memory using a combination of shape and strides.\n",
    "\n",
    "## Shape and Strides in NumPy\n",
    "**Shape**:\n",
    "\n",
    "- The shape of an ndarray represents the size of the array along each dimension. It is a tuple of integers.\n",
    "\n",
    "- Example: For a 2x3 array, the shape would be (2, 3). This means there are 2 rows and 3 columns.\n",
    "\n",
    "**Strides**:\n",
    "\n",
    "- Strides refer to the number of bytes you need to move in memory to access the next element in each dimension. It tells NumPy how to step across the dimensions of the array when moving through its elements.\n",
    "\n",
    "- For instance, in a 2D array, the stride value for each dimension tells you how many bytes to move from one element to the next element in the same row (along the row axis) or to the next element in the same column (along the column axis)."
   ]
  },
  {
   "cell_type": "markdown",
   "id": "f03c5408",
   "metadata": {},
   "source": [
    "# **Row-major and Column-major Orders**\n",
    "\n",
    "**Row-major Order (C-style):**\n",
    "\n",
    "- In row-major order, the last index changes the fastest. This means that elements in the same row are stored next to each other in memory.\n",
    "\n",
    "- For example, in a 2x3 array like:\n",
    "\n",
    "[[1, 2, 3],\n",
    " [4, 5, 6]]\n",
    "\n",
    "The elements will be stored in memory as:\n",
    "1, 2, 3, 4, 5, 6.\n",
    "\n",
    "**Column-major Order (FORTRAN-style):**\n",
    "\n",
    "- In column-major order, the first index changes the fastest. This means that elements in the same column are stored next to each other in memory.\n",
    "\n",
    "- For example, in the same 2x3 array:\n",
    "\n",
    "[[1, 2, 3],\n",
    " [4, 5, 6]]\n",
    "\n",
    "The elements will be stored in memory as:\n",
    "1, 4, 2, 5, 3, 6.\n",
    "\n",
    "\n",
    "**Example**\n",
    "\n",
    "Following is a basic example to demonstrate the usage of the memory layout −\n"
   ]
  },
  {
   "cell_type": "code",
   "execution_count": 7,
   "id": "9f7aea6c",
   "metadata": {},
   "outputs": [
    {
     "name": "stdout",
     "output_type": "stream",
     "text": [
      "[[1 2 3]\n",
      " [4 5 6]]\n",
      "Shape: (2, 3)\n",
      "Strides: (24, 8)\n"
     ]
    }
   ],
   "source": [
    "\n",
    "\n",
    "# Creating a 2x3 array in row-major order\n",
    "a = np.array([[1, 2, 3], [4, 5, 6]])\n",
    "print(a)\n",
    "print(\"Shape:\", a.shape)\n",
    "print(\"Strides:\", a.strides)"
   ]
  },
  {
   "cell_type": "markdown",
   "id": "7cd0e64e",
   "metadata": {},
   "source": [
    "The shape of the array is (2, 3), indicating it has 2 rows and 3 columns. The strides are (24, 8), meaning that to move to the next row, we need to skip 24 bytes (since each element is an 8-byte integer, and there are 3 columns), and to move to the next column, we need to skip 8 bytes (the size of one integer)\n",
    "\n",
    "------------------------------------------"
   ]
  },
  {
   "cell_type": "markdown",
   "id": "59976106",
   "metadata": {},
   "source": [
    "# ***Creating Numpy arrays***\n",
    "\n",
    "In NumPy, you can create arrays using several built-in functions, each of which serves a different purpose depending on the type of array you want to create. Here’s a breakdown of some of the most commonly used functions for creating NumPy arrays:\n",
    "\n",
    "### 1. **`numpy.array()`**\n",
    "- Converts a list or other sequence into a NumPy array.\n",
    "- **Example**: `np.array([1, 2, 3])` turns a list into an array.\n",
    "\n",
    "### 2. **`numpy.zeros()`**\n",
    "- Creates an array filled with zeros.\n",
    "- **Example**: `np.zeros((2, 3))` creates a 2x3 array of zeros.\n",
    "\n",
    "### 3. **`numpy.ones()`**\n",
    "- Creates an array filled with ones.\n",
    "- **Example**: `np.ones((3, 2))` creates a 3x2 array of ones.\n",
    "\n",
    "### 4. **`numpy.arange()`**\n",
    "- Creates an array with numbers in a specified range, with a specific step size.\n",
    "- **Example**: `np.arange(0, 10, 2)` creates an array with numbers from 0 to 10, stepping by 2 (i.e., `[0, 2, 4, 6, 8]`).\n",
    "\n",
    "### 5. **`numpy.linspace()`**\n",
    "- Creates an array with evenly spaced numbers over a specified range.\n",
    "- **Example**: `np.linspace(0, 1, 5)` creates 5 evenly spaced numbers between 0 and 1.\n",
    "\n",
    "### 6. **`numpy.logspace()`**\n",
    "- The numpy.logspace() function generates an array with values that are evenly spaced on a log scale.\n",
    "- **Example**: `np.logspace(1, 10, 10, base=2)` creates an array of 10 values evenly spaced on a logarithmic scale from 21 to 210 with base 2\n",
    "\n",
    "### 7. **`numpy.random.rand()`**\n",
    "- Creates an array of random numbers between 0 and 1.\n",
    "- **Example**: `np.random.rand(2, 3)` creates a 2x3 array of random numbers.\n",
    "\n",
    "### 8. **`numpy.empty()`**\n",
    "- Creates an array without initializing the values, meaning the array will contain random data initially.\n",
    "- **Example**: `np.empty((2, 2))` creates an empty 2x2 array with uninitialized values.\n",
    "\n",
    "### 9. **`numpy.full()`**\n",
    "- Creates an array filled with a specific value that you provide.\n",
    "- **Example**: `np.full((3, 3), 7)` creates a 3x3 array filled with the value `7`.\n"
   ]
  },
  {
   "cell_type": "markdown",
   "id": "d319f01d",
   "metadata": {},
   "source": [
    "### **Example: Creating a 1D & 2D NumPy Array uing list as input for numpy.array()**"
   ]
  },
  {
   "cell_type": "code",
   "execution_count": 8,
   "id": "77d7654f",
   "metadata": {},
   "outputs": [
    {
     "name": "stdout",
     "output_type": "stream",
     "text": [
      "1D Array: [1 2 3 4 5]\n",
      "2D Array(2x3):\n",
      " [[1 2 3]\n",
      " [4 5 6]]\n"
     ]
    }
   ],
   "source": [
    "\n",
    "\n",
    "# Creating a 1D array from a list\n",
    "# syntax - numpy.array(object, dtype=None, copy=True, order='K', subok=False, ndmin=0, like=None)\n",
    "\n",
    "my_list = [1, 2, 3, 4, 5] #my_list - object list\n",
    "my_array = np.array(my_list)\n",
    "\n",
    "print(\"1D Array:\", my_array)\n",
    "\n",
    "# Creating a 2D array from a list of lists\n",
    "arr = np.array([[1, 2, 3], [4, 5, 6]])\n",
    "\n",
    "print(\"2D Array(2x3):\\n\", arr)\n"
   ]
  },
  {
   "cell_type": "markdown",
   "id": "964329d5",
   "metadata": {},
   "source": [
    "### **Example: Creating a NumPy Array with values initialized to zeroes**"
   ]
  },
  {
   "cell_type": "code",
   "execution_count": 9,
   "id": "10e6e59f",
   "metadata": {},
   "outputs": [
    {
     "name": "stdout",
     "output_type": "stream",
     "text": [
      "[0. 0. 0. 0. 0.]\n"
     ]
    }
   ],
   "source": [
    "\n",
    "\n",
    "# Creating an array of zeros \n",
    "\n",
    "# syntax - numpy.zeros(shape, dtype=float, order='C')\n",
    "\n",
    "# here order desides whether to save in row major or column major memory layout indexing\n",
    "arr = np.zeros(5)\n",
    "print(arr)"
   ]
  },
  {
   "cell_type": "markdown",
   "id": "cad91014",
   "metadata": {},
   "source": [
    "### **Example: Creating a 1D & 2D NumPy Array with values initialized to one**"
   ]
  },
  {
   "cell_type": "code",
   "execution_count": 10,
   "id": "03841d46",
   "metadata": {},
   "outputs": [
    {
     "name": "stdout",
     "output_type": "stream",
     "text": [
      "1D Array: [1. 1. 1.]\n",
      "2D Array(2x3):\n",
      " [[1 1 1]\n",
      " [1 1 1]]\n",
      "strides for 2d for int32 dtype with Fortran style indexing:  (4, 8)\n"
     ]
    }
   ],
   "source": [
    "\n",
    "\n",
    "# Creating an array of ones \n",
    "# syntax - numpy.ones(shape, dtype=None, order='C')\n",
    "arr = np.ones(3)\n",
    "print(\"1D Array:\", arr)\n",
    "\n",
    "# Creating 2D array of ones \n",
    "array_2d = np.ones((2, 3), dtype=np.int32, order='F')\n",
    "print(\"2D Array(2x3):\\n\", array_2d)\n",
    "print(\"strides for 2d for int32 dtype with Fortran style indexing: \", array_2d.strides)"
   ]
  },
  {
   "cell_type": "markdown",
   "id": "854edc37",
   "metadata": {},
   "source": [
    "### **Using numpy.arange() Function**\n",
    "\n",
    "The numpy.arange() function generates a sequence of numbers in a specified range. You can define three parameters:\n",
    "\n",
    "- start: The starting value of the sequence (defaults to 0 if not provided).\n",
    "\n",
    "- stop: The end value of the sequence (exclusive, not included in the result).\n",
    "\n",
    "- step: The interval between consecutive values (defaults to 1 if not provided).\n",
    "\n",
    "It creates an array with evenly spaced numbers based on the start, stop, and step values.\n",
    "\n",
    "### **Example for numpy.arrange()**"
   ]
  },
  {
   "cell_type": "code",
   "execution_count": 11,
   "id": "cccabc07",
   "metadata": {},
   "outputs": [
    {
     "name": "stdout",
     "output_type": "stream",
     "text": [
      "array1: [0 1 2 3 4 5 6 7 8 9]\n",
      "array2: [1 3 5 7 9]\n"
     ]
    }
   ],
   "source": [
    "\n",
    "\n",
    "# Providing just the stop value\n",
    "array1 = np.arange(10)\n",
    "print(\"array1:\", array1)\n",
    "\n",
    "# Providing start, stop and step value\n",
    "array2 = np.arange(1, 10, 2)\n",
    "print(\"array2:\",array2)"
   ]
  },
  {
   "cell_type": "markdown",
   "id": "97fbe686",
   "metadata": {},
   "source": [
    "### **Using numpy.linspace() Function:**\n",
    "The numpy.linspace() function generates a sequence of evenly spaced numbers over a specified range. Unlike numpy.arange(), which generates numbers based on a specified step size, numpy.linspace() generates a fixed number of points between a given start and stop value.\n",
    "\n",
    "**Parameters:**\n",
    "- start: The starting value of the sequence.\n",
    "\n",
    "- stop: The end value of the sequence (inclusive by default).\n",
    "\n",
    "- num: The number of samples to generate. This is the total number of equally spaced points between start and stop (defaults to 50).\n",
    "\n",
    "- endpoint: If True (default), stop is included in the sequence. If False, stop is excluded.\n",
    "\n",
    "- retstep: If True, returns a tuple of the array and the step size used to generate it.\n",
    "\n",
    "- dtype: The data type of the returned array.\n",
    "\n",
    "- axis: The axis in the result along which the numbers are spaced."
   ]
  },
  {
   "cell_type": "code",
   "execution_count": 12,
   "id": "a25eec5e",
   "metadata": {},
   "outputs": [
    {
     "name": "stdout",
     "output_type": "stream",
     "text": [
      "array1: [0.     0.5557 1.111  1.667  2.223  2.777  3.334  3.889  4.445  5.    ]\n",
      "array2: [1.  1.2 1.4 1.6 1.8]\n",
      "array3: [ 0.   2.5  5.   7.5 10. ]\n",
      "Step size: 2.5\n"
     ]
    }
   ],
   "source": [
    "\n",
    "\n",
    "# syntax - numpy.linspace(start, stop, num=50, endpoint=True, retstep=False, dtype=None, axis=0)\n",
    "\n",
    "# Creating an array of 10 evenly spaced values from 0 to 5\n",
    "array1 = np.linspace(0, 5, num=10, dtype=np.float16)\n",
    "print(\"array1:\",array1)\n",
    "\n",
    "\n",
    "# Creating an array with 5 values from 1 to 2, excluding the endpoint\n",
    "array2 = np.linspace(1, 2, num=5, endpoint=False)\n",
    "print(\"array2:\",array2)\n",
    "\n",
    "# Creating an array and returning the step value\n",
    "array3, step = np.linspace(0, 10, num=5, retstep=True)\n",
    "print(\"array3:\",array3)\n",
    "print(\"Step size:\", step)"
   ]
  },
  {
   "cell_type": "markdown",
   "id": "e2f18fee",
   "metadata": {},
   "source": [
    "### Using `numpu.logspace()` Function:\n",
    "\n",
    "Generates numbers that are evenly spaced on a logarithmic scale, which is useful when your data spans several orders of magnitude (like 10, 100, 1000...).\n",
    "\n",
    "**Syntax & parameters**\n",
    "```python\n",
    "np.logspace(start, stop, num=50, endpoint=True, base=10.0, dtype=None, axis=0)\n",
    "```\n",
    "\n",
    "| Parameter | Description |\n",
    "|----------|-------------|\n",
    "| `start` | Exponent of the starting value (`base^start`). |\n",
    "| `stop` | Exponent of the ending value (`base^stop`). |\n",
    "| `num` | Number of samples to generate (default = 50). |\n",
    "| `endpoint` | If `True`, include `base**stop`; otherwise exclude it. |\n",
    "| `base` | Base of the log scale (default = 10). |\n",
    "| `dtype` | Data type of the resulting array. |\n",
    "| `axis` | The axis along which the output is stored (for multi-dimensional use). |\n",
    "\n",
    "\n"
   ]
  },
  {
   "cell_type": "code",
   "execution_count": 13,
   "id": "4f5da9f6",
   "metadata": {},
   "outputs": [
    {
     "name": "stdout",
     "output_type": "stream",
     "text": [
      "Log-spaced frequencies: [   2.    4.    8.   16.   32.   64.  128.  256.  512. 1024.]\n"
     ]
    }
   ],
   "source": [
    "# microphone's response from 2 Hz to 1024 Hz, and you want even log spacing (not linear), using base 2:\n",
    "# Frequencies from 2^1 to 2^10 (i.e., 2 to 1024)\n",
    "\n",
    "frequencies = np.logspace(1, 10, num=10, base=2)\n",
    "print(\"Log-spaced frequencies:\", frequencies)"
   ]
  },
  {
   "cell_type": "markdown",
   "id": "a55f4805",
   "metadata": {},
   "source": [
    "### **Using numpy.random.rand() Function**:\n",
    "\n",
    "The `numpy.random.rand()` function creates an array filled with random values sampled from a uniform distribution over the interval [0, 1). This means that the values generated will lie between 0 and 1 (excluding 1).\n",
    "\n",
    "### **Example**\n"
   ]
  },
  {
   "cell_type": "code",
   "execution_count": 14,
   "id": "d939d312",
   "metadata": {},
   "outputs": [
    {
     "name": "stdout",
     "output_type": "stream",
     "text": [
      "Single random float: 0.2603166646906496\n",
      "1D array of random values: [0.07097053 0.16760147 0.88601334 0.83066785 0.92509942]\n",
      "2D array of random values:\n",
      " [[0.48173098 0.45225485 0.55657073]\n",
      " [0.47911143 0.44992784 0.77219552]]\n",
      "3D array of random values:\n",
      " [[[0.77844212 0.74015932 0.46742119 0.80845376]\n",
      "  [0.49726735 0.6288721  0.47225338 0.76884297]\n",
      "  [0.71903181 0.704893   0.38439389 0.32950579]]\n",
      "\n",
      " [[0.77915593 0.45735061 0.74538303 0.93700316]\n",
      "  [0.94294513 0.9343461  0.96552908 0.42186477]\n",
      "  [0.05668961 0.50843357 0.05458259 0.28101145]]]\n"
     ]
    }
   ],
   "source": [
    "\n",
    "\n",
    "# syntax - numpy.random.rand(d0, d1, ..., dn)\n",
    "\n",
    "# 1. Generating a single random float\n",
    "random_float = np.random.rand()\n",
    "print(\"Single random float:\", random_float)\n",
    "\n",
    "# 2. Generating a 1D array of 5 random floats\n",
    "array_1d = np.random.rand(5)\n",
    "print(\"1D array of random values:\", array_1d)\n",
    "\n",
    "# 3. Generating a 2D array (2 rows, 3 columns) of random floats\n",
    "array_2d = np.random.rand(2, 3)\n",
    "print(\"2D array of random values:\\n\", array_2d)\n",
    "\n",
    "# 4. Generating a 3D array (2 matrices of 3x4) of random floats\n",
    "array_3d = np.random.rand(2, 3, 4)\n",
    "print(\"3D array of random values:\\n\", array_3d)\n"
   ]
  },
  {
   "cell_type": "markdown",
   "id": "3fea5556",
   "metadata": {},
   "source": [
    "### **Using numpy.empty() Function**:\n",
    "\n",
    "- **`numpy.empty()`** creates an array with the specified shape.\n",
    "- The values inside the array are **random** and uninitialized, depending on the memory state.\n",
    "- It is useful when you need to create an array **quickly** without filling it with values immediately.\n",
    "- Unlike `numpy.zeros()` (which fills the array with zeros) or `numpy.ones()` (which fills the array with ones), `numpy.empty()` does not initialize the array.\n",
    "- It is faster and saves memory because it doesn’t waste time initializing the array.\n",
    "- Best used when you plan to **fill** the array with your own data later.\n",
    "\n",
    "### **Example**"
   ]
  },
  {
   "cell_type": "code",
   "execution_count": 15,
   "id": "cc2f9ab5",
   "metadata": {},
   "outputs": [
    {
     "name": "stdout",
     "output_type": "stream",
     "text": [
      "array init with random values:\n",
      " [[0.48173098 0.45225485 0.55657073]\n",
      " [0.47911143 0.44992784 0.77219552]]\n"
     ]
    }
   ],
   "source": [
    "\n",
    "\n",
    "# syntax - numpy.empty(shape, dtype=float, order='C')\n",
    "\n",
    "empty_array = np.empty((2, 3))\n",
    "print(\"array init with random values:\\n\",empty_array)"
   ]
  },
  {
   "cell_type": "markdown",
   "id": "88760f76",
   "metadata": {},
   "source": [
    "### Explanation of `numpy.full()` Function\n",
    "\n",
    "The `numpy.full()` function is used to create a NumPy array of a specific shape and fill it with a **specified value**. This is useful when you want to initialize an array with a specific number across all its elements.\n",
    "\n",
    "### **paramters:**\n",
    "\n",
    "- **shape**: Specifies the dimensions of the array (e.g., (2, 3) for a 2x3 array).\n",
    "\n",
    "- **fill_value**: The value with which the array is filled. This value will be assigned to all elements of the array.\n",
    "\n",
    "- **dtype**: Optional. Specifies the data type of the array elements. The default is None, meaning the data type is inferred from the fill value.\n",
    "\n",
    "- **order**: Optional. Specifies the memory layout order ('C' for row-major, 'F' for column-major). It is not commonly used unless you have specific requirements."
   ]
  },
  {
   "cell_type": "code",
   "execution_count": 16,
   "id": "2b89a067",
   "metadata": {},
   "outputs": [
    {
     "name": "stdout",
     "output_type": "stream",
     "text": [
      "[[5 5 5]\n",
      " [5 5 5]]\n"
     ]
    }
   ],
   "source": [
    "# syntax - numpy.full(shape, fill_value, dtype=None, order='C')\n",
    "\n",
    "array1 = np.full((2, 3), 5)\n",
    "print(array1)"
   ]
  },
  {
   "cell_type": "markdown",
   "id": "76a3b7a2",
   "metadata": {},
   "source": [
    "### **Using `numpy.meshgrid()` Function:**\n",
    "\n",
    "Creates coordinate matrices from 1D arrays. Essential for:\n",
    "\n",
    "- Evaluating 2D/3D functions\n",
    "\n",
    "- Plotting surface or contour plots\n",
    "\n",
    "- 3D simulations and space mapping\n",
    "\n",
    "**Syntax and Parameters**\n",
    "```python\n",
    "np.meshgrid(*xi, copy=True, sparse=False, indexing='xy')\n",
    "```\n",
    "\n",
    "| Parameter   | Description                                                                 |\n",
    "|-------------|-----------------------------------------------------------------------------|\n",
    "| `*xi`       | One or more 1D arrays (e.g., `x`, `y`, `z`).                                 |\n",
    "| `copy`      | If `True`, data is copied. If `False`, a view may be returned.              |\n",
    "| `sparse`    | If `True`, returns sparse meshgrid (saves memory).                          |\n",
    "| `indexing`  | `'xy'` (default for plotting), or `'ij'` (matrix-style indexing).           |\n",
    "\n",
    "\n"
   ]
  },
  {
   "cell_type": "code",
   "execution_count": 17,
   "id": "84d96d6c",
   "metadata": {},
   "outputs": [
    {
     "name": "stdout",
     "output_type": "stream",
     "text": [
      "X Grid:\n",
      " [[1 2 3]\n",
      " [1 2 3]]\n",
      "Y Grid:\n",
      " [[1 1 1]\n",
      " [2 2 2]]\n"
     ]
    }
   ],
   "source": [
    "# 2D Grid Example:\n",
    "\n",
    "x = np.arange(1, 4)  # [1, 2, 3]\n",
    "y = np.arange(1, 3)  # [1, 2]\n",
    "\n",
    "X, Y = np.meshgrid(x, y)\n",
    "\n",
    "print(\"X Grid:\\n\", X)\n",
    "print(\"Y Grid:\\n\", Y)\n"
   ]
  },
  {
   "cell_type": "markdown",
   "id": "69412d86",
   "metadata": {},
   "source": [
    "This represents all (x, y) positions on the grid:\n",
    "```\n",
    "(1,1), (2,1), (3,1)\n",
    "(1,2), (2,2), (3,2)\n",
    "```"
   ]
  },
  {
   "cell_type": "code",
   "execution_count": 18,
   "id": "fbf0263f",
   "metadata": {},
   "outputs": [
    {
     "name": "stdout",
     "output_type": "stream",
     "text": [
      "X Grid:\n",
      " [[[1 1]\n",
      "  [1 1]]\n",
      "\n",
      " [[2 2]\n",
      "  [2 2]]\n",
      "\n",
      " [[3 3]\n",
      "  [3 3]]]\n",
      "Y Grid:\n",
      " [[[1 1]\n",
      "  [2 2]]\n",
      "\n",
      " [[1 1]\n",
      "  [2 2]]\n",
      "\n",
      " [[1 1]\n",
      "  [2 2]]]\n",
      "Z Grid:\n",
      " [[[1 2]\n",
      "  [1 2]]\n",
      "\n",
      " [[1 2]\n",
      "  [1 2]]\n",
      "\n",
      " [[1 2]\n",
      "  [1 2]]]\n"
     ]
    },
    {
     "data": {
      "text/plain": [
       "'\\nX varies in x-direction (1 to 3)\\n\\nY varies in y-direction (1 to 2)\\n\\nZ varies in z-direction (1 to 2)\\n\\nEach element in (X[i,j,k], Y[i,j,k], Z[i,j,k]) forms one 3D point.\\n'"
      ]
     },
     "execution_count": 18,
     "metadata": {},
     "output_type": "execute_result"
    }
   ],
   "source": [
    "# 3D Grid Example:\n",
    "\n",
    "x = np.arange(1, 4)\n",
    "y = np.arange(1, 3)\n",
    "z = np.arange(1, 3)\n",
    "\n",
    "X, Y, Z = np.meshgrid(x, y, z, indexing='ij')\n",
    "\n",
    "print(\"X Grid:\\n\", X)\n",
    "print(\"Y Grid:\\n\", Y)\n",
    "print(\"Z Grid:\\n\", Z)\n",
    "\n",
    "\n",
    "\"\"\"\n",
    "X varies in x-direction (1 to 3)\n",
    "\n",
    "Y varies in y-direction (1 to 2)\n",
    "\n",
    "Z varies in z-direction (1 to 2)\n",
    "\n",
    "Each element in (X[i,j,k], Y[i,j,k], Z[i,j,k]) forms one 3D point.\n",
    "\"\"\"\n"
   ]
  },
  {
   "cell_type": "markdown",
   "id": "4059e861",
   "metadata": {},
   "source": [
    "### To sum it up\n",
    "\n",
    "In the NumPy module, there are various ways to create NumPy arrays that include basic creation methods, creation by reshaping and modifying data, creation using sequences, and creation using random functions. For further details on the creation functions, please refer to the official NumPy documentation.\n",
    "\n",
    "----------------------------------------------------------------"
   ]
  },
  {
   "cell_type": "markdown",
   "id": "dbfc60a8",
   "metadata": {},
   "source": [
    "# ***Creating NumPy Arrays from Existing Data***\n",
    "\n",
    "In data science, machine learning, and numerical computing, NumPy arrays form the backbone of efficient data storage and computation. But before you can analyze, transform, or model data, you need to first create arrays from existing sources.\n",
    "\n",
    "Think of it like this:\n",
    "\n",
    "> ❝You already have data in various formats—lists, files, buffers, generators—and now you want to transform that into a powerful structure (a NumPy array) that can be sliced, transformed, visualized, or fed into ML models.❞\n",
    "\n",
    "Following are few common ways to acheive this:\n",
    "\n",
    "## 1. **From Python Lists**\n",
    "\n",
    "Lists are one of the most basic data structures in Python. We often collect data in lists—like scores, names, sensor readings. NumPy can convert these into arrays for fast numerical operations."
   ]
  },
  {
   "cell_type": "code",
   "execution_count": 19,
   "id": "d7cd7931",
   "metadata": {},
   "outputs": [
    {
     "name": "stdout",
     "output_type": "stream",
     "text": [
      "Array from list: [22 24 21 23 25]\n"
     ]
    }
   ],
   "source": [
    "## syntax - np.array(object, dtype=None, copy=True, order='K', subok=False, ndmin=0)\n",
    "\n",
    "# recording daily temperatures as list:\n",
    "temperatures = [22, 24, 21, 23, 25]\n",
    "\n",
    "temp_array = np.array(temperatures)\n",
    "\n",
    "print(\"Array from list:\", temp_array)\n",
    "\n",
    "# Now you can perform operations like mean, std deviation etc., which are hard with normal lists.\n"
   ]
  },
  {
   "cell_type": "markdown",
   "id": "795b4ee1",
   "metadata": {},
   "source": [
    "## 2. **From Nested Lists**\n",
    "\n",
    "Nested lists = lists of lists → can represent 2D (or more) data like matrices, grids, tables."
   ]
  },
  {
   "cell_type": "code",
   "execution_count": 20,
   "id": "909a5c2f",
   "metadata": {},
   "outputs": [
    {
     "name": "stdout",
     "output_type": "stream",
     "text": [
      "2D Array from nested list:\n",
      " [[85 90 78]\n",
      " [92 88 84]\n",
      " [70 75 80]]\n"
     ]
    }
   ],
   "source": [
    "scores = [[85, 90, 78], [92, 88, 84], [70, 75, 80]]\n",
    "score_array = np.array(scores)\n",
    "\n",
    "print(\"2D Array from nested list:\\n\", score_array)\n",
    "\n",
    "# You can now access scores like score_array[1][2]"
   ]
  },
  {
   "cell_type": "markdown",
   "id": "8812ef2d",
   "metadata": {},
   "source": [
    "## 3. **From Python Tuples**\n",
    "\n",
    "Tuples are like lists but immutable. You might use tuples for fixed data—like coordinates or RGB color values."
   ]
  },
  {
   "cell_type": "code",
   "execution_count": 21,
   "id": "d6090172",
   "metadata": {},
   "outputs": [
    {
     "name": "stdout",
     "output_type": "stream",
     "text": [
      "Array from tuple: [48.8566  2.3522]\n"
     ]
    }
   ],
   "source": [
    "coordinates = (48.8566, 2.3522)\n",
    "coord_array = np.array(coordinates)\n",
    "\n",
    "print(\"Array from tuple:\", coord_array)\n",
    "\n",
    "# Now you can apply math functions (e.g., convert to radians, compute distances)."
   ]
  },
  {
   "cell_type": "markdown",
   "id": "e16a67be",
   "metadata": {},
   "source": [
    "## 4. **From Existing NumPy Arrays**\n",
    "\n",
    "There are 5 submethods here, useful when working with existing data:\n",
    "\n",
    "  1. `np.copy()`: Full data copy"
   ]
  },
  {
   "cell_type": "code",
   "execution_count": 22,
   "id": "0f25ab9f",
   "metadata": {},
   "outputs": [
    {
     "name": "stdout",
     "output_type": "stream",
     "text": [
      "Original: [1 2 3] Copied: [100   2   3]\n"
     ]
    }
   ],
   "source": [
    "original = np.array([1, 2, 3])\n",
    "copy = np.copy(original)\n",
    "copy[0] = 100\n",
    "print(\"Original:\", original, \"Copied:\", copy)\n",
    "\n",
    "# Use when you want a safe duplicate to modify without affecting the original.\n"
   ]
  },
  {
   "cell_type": "markdown",
   "id": "e89811a9",
   "metadata": {},
   "source": [
    "  2. `np.asarray()`: Converts to array but avoids unnecessary copying"
   ]
  },
  {
   "cell_type": "code",
   "execution_count": 23,
   "id": "0b3cb5ab",
   "metadata": {},
   "outputs": [
    {
     "name": "stdout",
     "output_type": "stream",
     "text": [
      "Same object? True\n"
     ]
    }
   ],
   "source": [
    "original = np.array([1, 2, 3])\n",
    "converted = np.asarray(original)\n",
    "print(\"Same object?\", original is converted)  # True\n",
    "\n",
    "# Useful when you’re not sure if input is array or list."
   ]
  },
  {
   "cell_type": "markdown",
   "id": "8e388776",
   "metadata": {},
   "source": [
    "  3. `np.view()`: Shares data with a new perspective (like changing dtype)"
   ]
  },
  {
   "cell_type": "code",
   "execution_count": 24,
   "id": "5d6ebbdd",
   "metadata": {},
   "outputs": [
    {
     "name": "stdout",
     "output_type": "stream",
     "text": [
      "Viewed array: [1.e-45 3.e-45 4.e-45]\n"
     ]
    }
   ],
   "source": [
    "original = np.array([1, 2, 3], dtype=np.int32)\n",
    "viewed = original.view(dtype=np.float32)\n",
    "print(\"Viewed array:\", viewed)\n",
    "\n",
    "# Use this to reinterpret binary data types.\n"
   ]
  },
  {
   "cell_type": "markdown",
   "id": "a8d8b9c2",
   "metadata": {},
   "source": [
    "  4. `np.reshape()`: Change shape without altering data - already discussed in array manipulation\n",
    "\n",
    "  5. `Slicing`: Get part of the array"
   ]
  },
  {
   "cell_type": "code",
   "execution_count": 25,
   "id": "cc8006d5",
   "metadata": {},
   "outputs": [
    {
     "name": "stdout",
     "output_type": "stream",
     "text": [
      "Sliced: [20 30 40]\n"
     ]
    }
   ],
   "source": [
    "original = np.array([10, 20, 30, 40, 50])\n",
    "sliced = original[1:4]\n",
    "print(\"Sliced:\", sliced)\n",
    "\n",
    "# Use this to process or analyze only a subset (e.g., last week’s data).\n"
   ]
  },
  {
   "cell_type": "markdown",
   "id": "ef058f37",
   "metadata": {},
   "source": [
    "## 5. **Using Python Range Objects**\n",
    "\n",
    "range() generates sequences efficiently. Convert to array when you want to manipulate or analyze them.\n",
    "\n"
   ]
  },
  {
   "cell_type": "code",
   "execution_count": 26,
   "id": "7a5e1007",
   "metadata": {},
   "outputs": [
    {
     "name": "stdout",
     "output_type": "stream",
     "text": [
      "First 10 IDs: [ 1  2  3  4  5  6  7  8  9 10]\n"
     ]
    }
   ],
   "source": [
    "student_ids = range(1, 1001)\n",
    "id_array = np.array(student_ids)\n",
    "\n",
    "print(\"First 10 IDs:\", id_array[:10])\n",
    "\n",
    "# Much faster than writing out a list manually."
   ]
  },
  {
   "cell_type": "markdown",
   "id": "f45fa6a7",
   "metadata": {},
   "source": [
    "## 6. **Using np.asarray()**\n",
    "\n",
    "Use asarray() when input might already be an array. It avoids copying unless necessary."
   ]
  },
  {
   "cell_type": "code",
   "execution_count": 27,
   "id": "28a77d6e",
   "metadata": {},
   "outputs": [
    {
     "name": "stdout",
     "output_type": "stream",
     "text": [
      "[[1 2 3 4]\n",
      " [5 6 7 8]]\n"
     ]
    }
   ],
   "source": [
    "# syntax - np.asarray(a, dtype=None, order=None)\n",
    "\n",
    "data = [[1, 2, 3, 4],[5, 6, 7, 8]] # of any dimension 1D/2D etc\n",
    "safe_array = np.asarray(data)\n",
    "print(safe_array)\n",
    "\n",
    "# Efficiently converts to array without redundancy."
   ]
  },
  {
   "cell_type": "markdown",
   "id": "2e144f02",
   "metadata": {},
   "source": [
    "## 7. **Using np.frombuffer()**\n",
    "\n",
    "Used when working with binary data or memory buffers. Useful for low-level tasks like image, audio processing."
   ]
  },
  {
   "cell_type": "code",
   "execution_count": 28,
   "id": "4b76242c",
   "metadata": {},
   "outputs": [
    {
     "name": "stdout",
     "output_type": "stream",
     "text": [
      "Array from buffer: [b'h' b'e' b'l' b'l' b'o']\n"
     ]
    }
   ],
   "source": [
    "# syntax - np.frombuffer(buffer, dtype=float, count=-1, offset=0)\n",
    "\n",
    "byte_data = b'hello'\n",
    "arr = np.frombuffer(byte_data, dtype='S1')\n",
    "print(\"Array from buffer:\", arr)\n",
    "\n",
    "# Each byte becomes an array element."
   ]
  },
  {
   "cell_type": "markdown",
   "id": "b2c6de78",
   "metadata": {},
   "source": [
    "## 8. **Using np.fromiter()**\n",
    "\n",
    "Creates array from any iterable (like a generator). Efficient when reading large data streams."
   ]
  },
  {
   "cell_type": "code",
   "execution_count": 29,
   "id": "fc86361a",
   "metadata": {},
   "outputs": [
    {
     "name": "stdout",
     "output_type": "stream",
     "text": [
      "Sensor array: [ 0 10 20 30 40]\n"
     ]
    }
   ],
   "source": [
    "# syntax - np.fromiter(iterable, dtype, count=-1)\n",
    "\n",
    "def sensor_data():\n",
    "    for i in range(5):\n",
    "        yield i * 10\n",
    "\n",
    "arr = np.fromiter(sensor_data(), dtype=int)\n",
    "print(\"Sensor array:\", arr)\n",
    "\n",
    "# Great for large datasets where you don’t want to hold everything in memory."
   ]
  },
  {
   "cell_type": "markdown",
   "id": "a5c09b56",
   "metadata": {},
   "source": [
    "-----"
   ]
  },
  {
   "cell_type": "markdown",
   "id": "6c0d2de7",
   "metadata": {},
   "source": [
    "## ***Manipulating the Shape of Arrays in NumPy***\n",
    "\n",
    "Several routines are available in NumPy for manipulating the shape of elements in an ndarray object. These routines allow you to change the shape without altering the data, making it easier to work with different dimensions. The following functions are used for changing the shape of arrays:\n",
    "\n",
    "## Frequently Used Functions\n",
    "\n",
    "### Reshape and Flattening\n",
    "- `reshape()`, `flatten()`, `ravel()` — Machine learning, data preprocessing.\n",
    "\n",
    "### Transpose\n",
    "- `transpose()`, `swapaxes()` — Linear algebra, deep learning.\n",
    "\n",
    "### Joining Arrays\n",
    "- `concatenate()`, `vstack()`, `hstack()` — Data preparation, feature engineering.\n",
    "\n",
    "### Sorting and Searching\n",
    "- `sort()`, `argsort()`, `argmax()` — Data analysis, optimization tasks.\n",
    "\n",
    "### Broadcasting\n",
    "- `broadcast_to()`, `expand_dims()` — Handling arrays of different shapes for operations.\n",
    "\n",
    "### Set Operations\n",
    "- `unique()`, `in1d()` — Data cleaning, analysis.\n",
    "\n",
    "Discussion below covers these topics, additional manipulation operations are rarely used, if needed you can go through official user guide\n",
    "\n",
    "\n",
    "\n",
    "\n"
   ]
  },
  {
   "cell_type": "markdown",
   "id": "91d15f31",
   "metadata": {},
   "source": [
    "## **Reshape and Flattening of ndarray**: \n",
    "\n",
    "In NumPy, reshaping means changing the structure of an array without modifying its actual data.\n",
    "\n",
    "### 1. Numpy `reshape()` Function\n",
    "\n",
    "The `reshape()` function in NumPy is used to change the shape of an array, but the data in the array stays the same. It doesn't change the values inside; it just rearranges them into a new shape based on the dimensions you provide. The total number of elements must remain the same, meaning the number of elements in the original array must match the number of elements in the reshaped array.\n",
    "\n",
    "### Syntax:\n",
    "```python\n",
    "numpy.reshape(arr, newshape, order='C')"
   ]
  },
  {
   "cell_type": "markdown",
   "id": "95ef7667",
   "metadata": {},
   "source": [
    "### Parameters:\n",
    "- arr: The input array that you want to reshape.\n",
    "\n",
    "- newshape: A new shape for the array. This can be a single integer or a tuple of integers. The new shape must be compatible with the total number of elements in the original array.\n",
    "\n",
    "- order: (Optional) This specifies how the array should be read and written:\n",
    "\n",
    "  'C': Row-major order (default).\n",
    "\n",
    "  'F': Column-major order.\n",
    "\n",
    "### Return Value:\n",
    "The function returns a new array with the same data but a different shape.\n",
    "\n",
    "### Example 1: Basic Reshaping\n",
    "Let's say you have a 1D array and you want to reshape it into a 2D array."
   ]
  },
  {
   "cell_type": "code",
   "execution_count": 30,
   "id": "65757485",
   "metadata": {},
   "outputs": [
    {
     "name": "stdout",
     "output_type": "stream",
     "text": [
      "Original Array:\n",
      "[1 2 3 4 5 6]\n",
      "\n",
      "Reshaped Array (2x3):\n",
      "[[1 2 3]\n",
      " [4 5 6]]\n"
     ]
    }
   ],
   "source": [
    "\n",
    "\n",
    "# Create a 1D array with 6 elements\n",
    "arr = np.array([1, 2, 3, 4, 5, 6])\n",
    "\n",
    "# Reshape it into a 2D array with 2 rows and 3 columns\n",
    "reshaped_arr = arr.reshape(2, 3) # here no need to add arr to function as 1st input as that function is called from the arr itself\n",
    "\n",
    "print(\"Original Array:\")\n",
    "print(arr)\n",
    "\n",
    "print(\"\\nReshaped Array (2x3):\")\n",
    "print(reshaped_arr)"
   ]
  },
  {
   "cell_type": "markdown",
   "id": "95145c1e",
   "metadata": {},
   "source": [
    "### Example 2: Using -1 to Automatically Calculate One Dimension\n",
    "If you're unsure about one dimension of the new shape, you can use -1, and NumPy will automatically calculate it for you based on the total number of elements."
   ]
  },
  {
   "cell_type": "code",
   "execution_count": 31,
   "id": "48f89410",
   "metadata": {},
   "outputs": [
    {
     "name": "stdout",
     "output_type": "stream",
     "text": [
      "Original Array:\n",
      "[1 2 3 4 5 6 7 8 9]\n",
      "\n",
      "Reshaped Array (3x3):\n",
      "[[1 2 3]\n",
      " [4 5 6]\n",
      " [7 8 9]]\n"
     ]
    }
   ],
   "source": [
    "\n",
    "\n",
    "# Create a 1D array with 9 elements\n",
    "arr = np.array([1, 2, 3, 4, 5, 6, 7, 8, 9])\n",
    "\n",
    "reshaped_arr = arr.reshape(3, -1)\n",
    "\n",
    "print(\"Original Array:\")\n",
    "print(arr)\n",
    "\n",
    "print(\"\\nReshaped Array (3x3):\")\n",
    "print(reshaped_arr)"
   ]
  },
  {
   "cell_type": "markdown",
   "id": "3524fc6e",
   "metadata": {},
   "source": [
    "### Example 3: Reshaping with Column-Major Order\n",
    "You can also reshape the array using a different reading and writing order (column-major order). This is less common but may be useful in some cases."
   ]
  },
  {
   "cell_type": "code",
   "execution_count": 32,
   "id": "7c23a5cf",
   "metadata": {},
   "outputs": [
    {
     "name": "stdout",
     "output_type": "stream",
     "text": [
      "Original Array:\n",
      "[[1 2 3]\n",
      " [4 5 6]]\n",
      "\n",
      "Reshaped Array (3x2) in Column-Major Order:\n",
      "[[1 5]\n",
      " [4 3]\n",
      " [2 6]]\n"
     ]
    }
   ],
   "source": [
    "\n",
    "\n",
    "# Create a 2x3 array\n",
    "arr = np.array([[1, 2, 3], [4, 5, 6]])\n",
    "\n",
    "# Reshape it to 3x2 using 'F' for column-major order\n",
    "reshaped_arr = np.reshape(arr, (3, 2), order='F')\n",
    "\n",
    "print(\"Original Array:\")\n",
    "print(arr)\n",
    "\n",
    "print(\"\\nReshaped Array (3x2) in Column-Major Order:\")\n",
    "print(reshaped_arr)"
   ]
  },
  {
   "cell_type": "markdown",
   "id": "c33cb052",
   "metadata": {},
   "source": [
    "### 🔁 Error Occurrence while Reshaping Arrays in NumPy\n",
    "\n",
    "When reshaping arrays in NumPy, you might run into errors — especially if the total number of elements doesn't match the new shape. It's important to make sure the new shape is compatible with the original number of elements.\n",
    "\n",
    "\n",
    "### ❗ Common Errors While Reshaping\n",
    "\n",
    "#### 1. **ValueError: Total size of new array must be unchanged**\n",
    "This error happens when the total elements in the original array don’t match the product of the dimensions you are trying to reshape to.\n",
    "\n",
    "**Example:**\n",
    "```python\n",
    "import numpy as np\n",
    "np.arange(10).reshape(3, 3)  # Error: 10 elements can't fit into a 3x3 matrix (needs 9)\n",
    "```\n",
    "\n",
    "#### 2. **ValueError: cannot reshape array of size X into shape (Y, Z)**\n",
    "This means you're trying to reshape an array of size `X` into a shape that doesn't match. Even if the math looks right, the structure might not fit.\n",
    "\n",
    "**Example:**\n",
    "```python\n",
    "arr = np.arange(10)  # size 10\n",
    "arr.reshape(2, 5)     # ✅ works\n",
    "arr.reshape(2, 3)     # ❌ Error: 2x3 = 6, but array has 10 elements\n",
    "```\n",
    "\n",
    "#### 3. **TypeError: 'numpy.ndarray' object cannot be interpreted as an integer**\n",
    "This happens if you accidentally pass a non-integer (like a float or an array) as a dimension.\n",
    "\n",
    "**Example:**\n",
    "```python\n",
    "arr = np.arange(6)\n",
    "arr.reshape([2.0, 3])  # ❌ Error: 2.0 is a float, not an int\n",
    "```\n",
    "\n",
    "### ✅ How to Handle Reshaping Errors\n",
    "\n",
    "#### ✔️ 1. Check Array Size\n",
    "Use `.size` to check total elements and ensure the new shape's dimensions multiply to that value.\n",
    "\n",
    "```python\n",
    "arr = np.arange(12)\n",
    "print(arr.size)  # Output: 12\n",
    "```\n",
    "\n",
    "#### ✔️ 2. Use `-1` for Unknown Dimension\n",
    "Let NumPy calculate one of the dimensions automatically:\n",
    "\n",
    "```python\n",
    "arr = np.arange(12)\n",
    "arr.reshape(3, -1)  # Output: shape (3, 4)\n",
    "```\n",
    "\n",
    "#### ✔️ 3. Use Try-Except to Catch Errors\n",
    "Wrap your reshaping in a try-except block to handle errors gracefully:\n",
    "\n",
    "```python\n",
    "import numpy as np\n",
    "\n",
    "arr = np.array([1, 2, 3, 4, 5])\n",
    "\n",
    "try:\n",
    "    reshaped_arr = arr.reshape((2, 3))\n",
    "except ValueError as e:\n",
    "    print(\"Error Occurred During Reshaping:\")\n",
    "    print(e)\n",
    "```\n",
    "\n",
    "**Output:**\n",
    "```\n",
    "Error Occurred During Reshaping:\n",
    "cannot reshape array of size 5 into shape (2,3)\n",
    "```\n",
    "\n",
    "---\n",
    "\n",
    "### 💡 Summary\n",
    "\n",
    "- Always make sure the new shape's total elements match the original.\n",
    "- Use `-1` when you're unsure of one dimension.\n",
    "- Wrap reshaping code in `try-except` blocks to avoid crashes.\n"
   ]
  },
  {
   "cell_type": "markdown",
   "id": "f7982004",
   "metadata": {},
   "source": [
    "### 2. Numpy `flatten()` Function\n",
    "\n",
    "The 'flatten()' method in NumPy is a useful function when you want to convert a multi-dimensional array (like a 2D, 3D array, etc.) into a **1D array**.\n",
    "\n",
    "### What Does flatten() Do?\n",
    "\n",
    "- Creates a new 1D array: The method takes all elements from the multi-dimensional array and arranges them into a single, 1D array.\n",
    "\n",
    "- Order of elements: The elements are placed into the 1D array in a specific order, which can be controlled. By default, it follows row-major order (similar to how a C programming language would store data), but you can change it based on your requirements.\n",
    "\n",
    "#### Syntax\n",
    "```python\n",
    "ndarray.flatten(order='C')\n",
    "```\n",
    "### parmeter description - \n",
    "\n",
    "order: This specifies how the elements should be flattened.\n",
    "\n",
    "- 'C' : Row-major (C-style) order, i.e., flattening happens row by row.\n",
    "\n",
    "- 'F' : Column-major (Fortran-style) order, i.e., flattening happens column by column.\n",
    "\n",
    "- 'A' : If the array is Fortran-contiguous in memory, it flattens in column-major order; otherwise, row-major order.\n",
    "\n",
    "- 'K' : Flatten in the order the elements occur in memory (preserves the original memory layout).\n",
    "\n",
    "### Example 1: Flattening a 2D Array (Row-Major Order)\n"
   ]
  },
  {
   "cell_type": "code",
   "execution_count": 33,
   "id": "43da5483",
   "metadata": {},
   "outputs": [
    {
     "name": "stdout",
     "output_type": "stream",
     "text": [
      "Original 2D Array:\n",
      "[[1 2 3]\n",
      " [4 5 6]]\n",
      "\n",
      "Flattened 1D Array:\n",
      "[1 4 2 5 3 6]\n"
     ]
    }
   ],
   "source": [
    "\n",
    "\n",
    "array_2d = np.array([[1, 2, 3], [4, 5, 6]])\n",
    "\n",
    "flattened_arr = array_2d.flatten('F')\n",
    "print(\"Original 2D Array:\")\n",
    "print(array_2d)\n",
    "print(\"\\nFlattened 1D Array:\")\n",
    "print(flattened_arr)"
   ]
  },
  {
   "cell_type": "markdown",
   "id": "00d019db",
   "metadata": {},
   "source": [
    "### Example 2: Flattening in Column-Major Order"
   ]
  },
  {
   "cell_type": "code",
   "execution_count": 34,
   "id": "f72cdb83",
   "metadata": {},
   "outputs": [
    {
     "name": "stdout",
     "output_type": "stream",
     "text": [
      "Original 2D Array:\n",
      "[[1 2 3]\n",
      " [4 5 6]]\n",
      "\n",
      "Flattened 1D Array (Column-major):\n",
      "[1 4 2 5 3 6]\n"
     ]
    }
   ],
   "source": [
    "\n",
    "\n",
    "# Creating a 2D numpy array\n",
    "array_2d = np.array([[1, 2, 3], [4, 5, 6]])\n",
    "\n",
    "# Flattening the array in column-major ('F' order)\n",
    "flattened_array = array_2d.flatten(order='F')\n",
    "\n",
    "print(\"Original 2D Array:\")\n",
    "print(array_2d)\n",
    "print(\"\\nFlattened 1D Array (Column-major):\")\n",
    "print(flattened_array)\n"
   ]
  },
  {
   "cell_type": "markdown",
   "id": "0226fbd0",
   "metadata": {},
   "source": [
    "### Example 3: Flattening a 3D Array"
   ]
  },
  {
   "cell_type": "code",
   "execution_count": 35,
   "id": "45f85119",
   "metadata": {},
   "outputs": [
    {
     "name": "stdout",
     "output_type": "stream",
     "text": [
      "Original 3D Array:\n",
      "[[[1 2]\n",
      "  [3 4]]\n",
      "\n",
      " [[5 6]\n",
      "  [7 8]]]\n",
      "Flattened 1D Array:\n",
      "[1 2 3 4 5 6 7 8]\n"
     ]
    }
   ],
   "source": [
    "\n",
    "\n",
    "# Creating a 3D numpy array\n",
    "array_3d = np.array([[[1, 2], [3, 4]], [[5, 6], [7, 8]]])\n",
    "\n",
    "# Flattening the array (default 'C' order)\n",
    "flattened_array = array_3d.flatten()\n",
    "\n",
    "print(\"Original 3D Array:\")\n",
    "print(array_3d)\n",
    "print(\"Flattened 1D Array:\")\n",
    "print(flattened_array)\n"
   ]
  },
  {
   "cell_type": "markdown",
   "id": "783f6aad",
   "metadata": {},
   "source": [
    "### Example 4: Flattening a Fortran-Contiguous Array"
   ]
  },
  {
   "cell_type": "code",
   "execution_count": 36,
   "id": "1b7a861b",
   "metadata": {},
   "outputs": [
    {
     "name": "stdout",
     "output_type": "stream",
     "text": [
      "Original Fortran-contiguous 2D Array:\n",
      "[[1 2 3]\n",
      " [4 5 6]]\n",
      "Flattened Array ('A' Order):\n",
      "[1 4 2 5 3 6]\n"
     ]
    }
   ],
   "source": [
    "\n",
    "\n",
    "# Creating a 2D numpy array with Fortran-contiguous memory layout\n",
    "array_fortran = np.asfortranarray([[1, 2, 3], [4, 5, 6]])\n",
    "\n",
    "# Flattening the array using 'A' order (column-major if Fortran-contiguous)\n",
    "flattened_array = array_fortran.flatten(order='A')\n",
    "\n",
    "print(\"Original Fortran-contiguous 2D Array:\")\n",
    "print(array_fortran)\n",
    "print(\"Flattened Array ('A' Order):\")\n",
    "print(flattened_array)\n"
   ]
  },
  {
   "cell_type": "markdown",
   "id": "ce0ee367",
   "metadata": {},
   "source": [
    "### 3. Numpy `ravel()` – Flatten Arrays (Efficiently!) Function\n",
    "\n",
    "### What is `ravel()`?\n",
    "\n",
    "The `numpy.ravel()` function is used to convert **multi-dimensional arrays into a 1D array**—just like `flatten()`—but it's smarter about **memory**. If possible, `ravel()` gives you a **view** (not a copy), meaning it **doesn't duplicate data** unless it has to. i.e changes done by ravel are reflected in original array\n",
    "\n",
    "It’s perfect when you want a flat array **without wasting memory**, and you don’t need to modify the original data independently.\n",
    "\n",
    "\n",
    "### Difference between `ravel()` and `flatten()`\n",
    "\n",
    "| Feature        | `ravel()`                        | `flatten()`                     |\n",
    "|----------------|----------------------------------|----------------------------------|\n",
    "| Return type    | Tries to return a **view**       | Always returns a **copy**       |\n",
    "| Memory usage   | More memory **efficient**        | Uses **more memory**            |\n",
    "| Modifying output affects original? | Yes (if it's a view)         | No (it's a separate copy)       |\n",
    "| Speed          | Faster (usually)                 | Slower (due to copying)         |\n",
    "\n",
    "\n",
    "### Syntax\n",
    "\n",
    "```python\n",
    "numpy.ravel(a, order='C')\n",
    "```\n",
    "- a - array we want to flatten\n",
    "- order - parameter inputs are same as flatten"
   ]
  },
  {
   "cell_type": "markdown",
   "id": "7ea41841",
   "metadata": {},
   "source": [
    "###  Example 1: ravel() affects the original array (if possible)"
   ]
  },
  {
   "cell_type": "code",
   "execution_count": 37,
   "id": "41000d5c",
   "metadata": {},
   "outputs": [
    {
     "name": "stdout",
     "output_type": "stream",
     "text": [
      "Modified ravel result: [999   2   3   4   5   6]\n",
      "\n",
      "Original array after ravel change:\n",
      "[[999   2   3]\n",
      " [  4   5   6]]\n"
     ]
    }
   ],
   "source": [
    "\n",
    "\n",
    "# Create a 2D numpy array\n",
    "array_2d = np.array([[1, 2, 3], [4, 5, 6]])\n",
    "\n",
    "# Use ravel() to flatten — gets a view (shared memory)\n",
    "ravel_result = np.ravel(array_2d)\n",
    "\n",
    "# Modify the flattened array\n",
    "ravel_result[0] = 999\n",
    "\n",
    "# Print results\n",
    "print(\"Modified ravel result:\", ravel_result)\n",
    "print(\"\\nOriginal array after ravel change:\")\n",
    "print(array_2d)"
   ]
  },
  {
   "cell_type": "markdown",
   "id": "03d34ed5",
   "metadata": {},
   "source": [
    "### Example comparision with Flatten - flatten() does not affect the original array"
   ]
  },
  {
   "cell_type": "code",
   "execution_count": 38,
   "id": "22d1f791",
   "metadata": {},
   "outputs": [
    {
     "name": "stdout",
     "output_type": "stream",
     "text": [
      "Modified flatten result: [111   2   3   4   5   6]\n",
      "\n",
      "Original array after flatten change:\n",
      "[[1 2 3]\n",
      " [4 5 6]]\n"
     ]
    }
   ],
   "source": [
    "\n",
    "\n",
    "# Create a 2D numpy array\n",
    "array_2d = np.array([[1, 2, 3], [4, 5, 6]])\n",
    "\n",
    "# Use flatten() to flatten — creates a new copy\n",
    "flatten_result = array_2d.flatten()\n",
    "\n",
    "# Modify the flattened array\n",
    "flatten_result[0] = 111\n",
    "\n",
    "# Print results\n",
    "print(\"Modified flatten result:\", flatten_result)\n",
    "print(\"\\nOriginal array after flatten change:\")\n",
    "print(array_2d)"
   ]
  },
  {
   "cell_type": "markdown",
   "id": "92f11013",
   "metadata": {},
   "source": [
    "## **Transpose operations**\n",
    "\n",
    "NumPy's transpose operations switch rows and columns in 2D arrays, and rearrange axes in arrays with more than two dimensions.\n",
    "\n",
    "### 1. Numpy `transpose()` Function \n",
    "\n",
    "**Understanding `numpy.transpose()` in a Beginner-Friendly Way**\n",
    "\n",
    "When we say we \"transpose\" an array in NumPy, it means we're flipping its axes.  \n",
    "But let's put that into a real-world scenario to make it click.\n",
    "\n",
    "\n",
    "**Real-World Analogy: Rotating a Set of Boxes**\n",
    "\n",
    "Imagine you run a warehouse and you're stacking boxes with labels like this:\n",
    "\n",
    "**Boxes (2 rows, 3 columns):**\n",
    "\n",
    "Row 1: Apple, Banana, Cherry  \n",
    "Row 2: Date, Fig, Grape\n",
    "\n",
    "This setup can be seen as a 2D array:\n",
    "\n",
    "```python\n",
    "[\n",
    "  [\"Apple\", \"Banana\", \"Cherry\"],\n",
    "  [\"Date\", \"Fig\", \"Grape\"]\n",
    "]\n",
    "```\n",
    "\n",
    "Now, suppose someone wants to view the boxes by columns instead of rows, like this:\n",
    "\n",
    "Column 1: Apple  Date\n",
    "Column 2: Banana Fig\n",
    "Column 3: Cherry Grape\n",
    "\n",
    "That's what numpy.transpose() does. It flips rows into columns and vice versa.\n",
    "\n",
    "### Syntax\n",
    "```python\n",
    "np.transpose(a, axes=None)\n",
    "```\n",
    "\n",
    "`a` is the array you want to transpose.\n",
    "`axes` lets you control how to rearrange the axes (optional).\n",
    "\n",
    "### Example 1 - School Timetable\n",
    "\n",
    "we have a timetable stored as rows = days, columns = periods:\n",
    "\n",
    "Real-World View (Rows = Days, Columns = Periods):\n",
    "\n",
    "|         |Period 1|Period 2|\n",
    "|----|----|----|\n",
    "|Monday |Math|English|\n",
    "|Tuesday|Physics|Chemistry|\n",
    "\n",
    "and if we want to tranpose it to view classes period wise as below\n",
    "|         |Monday|Tuesday|\n",
    "|----|----|----|\n",
    "|Period 1|Math|Physics|\n",
    "|Period 2|English|Chemistry|"
   ]
  },
  {
   "cell_type": "code",
   "execution_count": 39,
   "id": "e813fd00",
   "metadata": {},
   "outputs": [
    {
     "name": "stdout",
     "output_type": "stream",
     "text": [
      "Original Timetable (Day-wise):\n",
      " [['Math' 'English']\n",
      " ['Physics' 'Chemistry']]\n",
      "\n",
      "Transposed Timetable (Period-wise):\n",
      " [['Math' 'Physics']\n",
      " ['English' 'Chemistry']]\n"
     ]
    }
   ],
   "source": [
    "\n",
    "\n",
    "timetable = np.array([\n",
    "  ['Math', 'English'],\n",
    "  ['Physics', 'Chemistry']\n",
    "])\n",
    "\n",
    "# now if you want to view the table period wise instead of day wise we can transpose\n",
    "\n",
    "tranpose_mat = np.transpose(timetable)\n",
    "\n",
    "print(\"Original Timetable (Day-wise):\\n\", timetable)\n",
    "print(\"\\nTransposed Timetable (Period-wise):\\n\", tranpose_mat)"
   ]
  },
  {
   "cell_type": "markdown",
   "id": "3bdbfcfe",
   "metadata": {},
   "source": [
    "### Examples 2 - Image Processing (RGB Image) using specifying axes\n",
    "\n",
    "Images are stored as (height, width, channels) in many libraries. You want to change it to (channels, height, width) for deep learning libraries like PyTorch."
   ]
  },
  {
   "cell_type": "code",
   "execution_count": 40,
   "id": "91c00d2b",
   "metadata": {},
   "outputs": [
    {
     "name": "stdout",
     "output_type": "stream",
     "text": [
      "Original shape: (2, 2, 3)\n",
      "Transposed shape: (3, 2, 2)\n"
     ]
    }
   ],
   "source": [
    "# Shape: (height=2, width=2, channels=3)\n",
    "image = np.array([\n",
    "    [[255, 0, 0], [0, 255, 0]],    # Row 1\n",
    "    [[0, 0, 255], [255, 255, 0]]   # Row 2\n",
    "])\n",
    "\n",
    "# Transpose to (channels, height, width)\n",
    "transposed_img = np.transpose(image, (2, 0, 1)) # 2 channel to 0th pos, 0th height to 1st pos, 1st width to 2nd pos\n",
    "\n",
    "print(\"Original shape:\", image.shape)  # (2, 2, 3)\n",
    "print(\"Transposed shape:\", transposed_img.shape)  # (3, 2, 2)\n"
   ]
  },
  {
   "cell_type": "markdown",
   "id": "368570f8",
   "metadata": {},
   "source": [
    "### 2. Numpy `T` Function \n",
    "\n",
    "**Understanding `ndarray.T` in in NumPy (Transpose)**\n",
    "\n",
    "The `.T` attribute in NumPy is a shortcut for **transposing** an array—and it’s one of the most fundamental operations you’ll use in array manipulation, especially when working with tables, matrices, or multidimensional data.\n",
    "\n",
    "Think of `.T` as saying: **\"flip the shape of this data.\"**\n",
    "\n",
    "What Does \"Transpose\" Really Mean?\n",
    "\n",
    "At its core, transposing means:\n",
    "\n",
    "- For a **2D array** (like a spreadsheet), it's like swapping **rows** and **columns**.\n",
    "- For a **3D array** (like a stack of images), it’s like rotating or reordering the layers in some intuitive way.\n",
    "\n",
    "> The result is a **view**, not a copy — so it’s **fast** and **memory-efficient**!\n",
    "\n",
    "### Real-world Analogy for 2D Arrays\n",
    "\n",
    "Imagine a classroom attendance sheet:\n",
    "\n",
    "**Original**:\n",
    "|Names |   Math |  Science|   English|\n",
    "|---|---|---|---|\n",
    "|John        |85       |90         |88|\n",
    "|Alice|       92|       89         |94|\n",
    "\n",
    "**If we transpose this sheet, we switch rows and columns**:\n",
    "|Subjects|   John|   Alice|\n",
    "|---|---|---|\n",
    "|Math|          85|      92|\n",
    "|Science|       90|      89|\n",
    "|English|       88|      94|\n",
    "\n",
    "### Syntax\n",
    "```python\n",
    "ndarray.T\n",
    "```\n",
    "As simple as that and no additional parameters needs to be passed, thats it\n",
    "\n",
    "### Example 1 of previous discussed scenario\n",
    "\n"
   ]
  },
  {
   "cell_type": "code",
   "execution_count": 41,
   "id": "b32ebece",
   "metadata": {},
   "outputs": [
    {
     "name": "stdout",
     "output_type": "stream",
     "text": [
      "Original Grades (Students × Subjects):\n",
      "[[85 90 88]\n",
      " [92 89 94]\n",
      " [78 85 80]]\n",
      "\n",
      "Transposed Grades (Subjects × Students):\n",
      "[[85 92 78]\n",
      " [90 89 85]\n",
      " [88 94 80]]\n"
     ]
    }
   ],
   "source": [
    "\n",
    "\n",
    "# Rows = students, Columns = subjects\n",
    "grades = np.array([\n",
    "    [85, 90, 88],   # John\n",
    "    [92, 89, 94],   # Alice\n",
    "    [78, 85, 80]    # Sam\n",
    "])\n",
    "\n",
    "# Transpose to get: Rows = subjects, Columns = students\n",
    "grades_T = grades.T\n",
    "\n",
    "print(\"Original Grades (Students × Subjects):\")\n",
    "print(grades)\n",
    "\n",
    "print(\"\\nTransposed Grades (Subjects × Students):\")\n",
    "print(grades_T)"
   ]
  },
  {
   "cell_type": "markdown",
   "id": "35ba822f",
   "metadata": {},
   "source": [
    "### Example 2 - Transposing a 3D Image Batch (for ML Library)"
   ]
  },
  {
   "cell_type": "code",
   "execution_count": 42,
   "id": "c98d865b",
   "metadata": {},
   "outputs": [
    {
     "name": "stdout",
     "output_type": "stream",
     "text": [
      "Original shape (2 images, 2x2 pixels, RGB): (2, 2, 2, 3)\n",
      "Transposed shape (batch, channels, height, width): (2, 3, 2, 2)\n"
     ]
    }
   ],
   "source": [
    "\n",
    "\n",
    "# 2 images, 2x2 pixels each, with 3 color channels (RGB)\n",
    "images = np.array([\n",
    "    [[[255, 0, 0], [0, 255, 0]],\n",
    "     [[0, 0, 255], [255, 255, 0]]],  # Image 1\n",
    "\n",
    "    [[[125, 125, 0], [0, 125, 125]],\n",
    "     [[125, 0, 125], [50, 50, 50]]]   # Image 2\n",
    "])\n",
    "\n",
    "print(\"Original shape (2 images, 2x2 pixels, RGB):\", images.shape)\n",
    "\n",
    "# Transpose for a library that expects channels first: (2, 3, 2, 2)\n",
    "transposed_images = images.transpose(0, 3, 1, 2)\n",
    "\n",
    "print(\"Transposed shape (batch, channels, height, width):\", transposed_images.shape)\n"
   ]
  },
  {
   "cell_type": "markdown",
   "id": "1df4295d",
   "metadata": {},
   "source": [
    "### 3. Numpy `swapaxes()` Function\n",
    "\n",
    "Imagine you're organizing a multi-layered filing cabinet or stacked boxes where each dimension means something different — for example:\n",
    "\n",
    "- **Axis 0** → Different years\n",
    "- **Axis 1** → Different departments\n",
    "- **Axis 2** → Monthly reports for each department\n",
    "\n",
    "Now let’s say you're told:\n",
    "> \"Give me the data by month first, then department, then year.\"\n",
    "\n",
    "That’s exactly what `swapaxes()` helps with — reordering how you look at the data, without actually moving or copying it.  \n",
    "It's like rotating the cabinet drawers without touching the files inside.\n",
    "\n",
    "### Syntax and concept\n",
    "```python\n",
    "np.swapaxes(array, axis1, axis2)\n",
    "```\n",
    "- It swaps the labels or perspectives of two axes.\n",
    "- You don’t move data — you just change how you access or iterate over it.\n",
    "\n",
    "### Example 1- Sensor Data Example (Smartwatch)\n",
    "\n",
    "Imagine you’re collecting data from a smartwatch with 3 sensors:\n",
    "\n",
    "- Accelerometer (X, Y, Z)\n",
    "\n",
    "Over:\n",
    "\n",
    "- **100 time steps**\n",
    "- **10 different users**\n",
    "\n",
    "You store this in a NumPy array shaped like:\n",
    "\n",
    "```python\n",
    "# Shape: (users, time_steps, axes)\n",
    "(10, 100, 3)\n",
    "```\n",
    "Meaning:\n",
    "- Axis 0 → Users\n",
    "\n",
    "- Axis 1 → Time\n",
    "\n",
    "- Axis 2 → X, Y, Z sensor values\n",
    "\n",
    "Suppose you want to process it axis-wise — for example:\n",
    "\n",
    "Compute the mean X/Y/Z values over time and users and to do that, you'd bring the axis dimension (axis 2) to the front.\n",
    " "
   ]
  },
  {
   "cell_type": "code",
   "execution_count": 43,
   "id": "8267777c",
   "metadata": {},
   "outputs": [
    {
     "name": "stdout",
     "output_type": "stream",
     "text": [
      "(2, 100, 10)\n"
     ]
    }
   ],
   "source": [
    "# Simulate the data\n",
    "data = np.random.randn(10, 100, 2) # users × time × axes\n",
    "\n",
    "reoriented = np.swapaxes(data, 0, 2)\n",
    "\n",
    "# Now: axes × time × users\n",
    "print(reoriented.shape)"
   ]
  },
  {
   "cell_type": "markdown",
   "id": "a951e849",
   "metadata": {},
   "source": [
    "### Example 2 - Image Data Example\n",
    "\n",
    "Let’s say you're working with a colored image (RGB).  \n",
    "A typical image might be represented as:\n",
    "\n",
    "- **Shape**: Channels × Height × Width\n",
    "\n",
    "Create a Sample Image\n",
    "\n",
    "(3 channels for R, G, B, 64 pixels height, 64 pixels width)"
   ]
  },
  {
   "cell_type": "code",
   "execution_count": 44,
   "id": "b7d5f2a0",
   "metadata": {},
   "outputs": [
    {
     "name": "stdout",
     "output_type": "stream",
     "text": [
      "Original shape: (3, 64, 64)\n"
     ]
    }
   ],
   "source": [
    "# Channels × Height × Width\n",
    "image = np.random.randint(0, 255, (3, 64, 64))\n",
    "print(\"Original shape:\", image.shape)"
   ]
  },
  {
   "cell_type": "markdown",
   "id": "0f661b14",
   "metadata": {},
   "source": [
    "**Problem** - \n",
    "\n",
    "Some image processing tools (like OpenCV or TensorFlow) expect images in:\n",
    "\n",
    "- **Height × Width × Channels** format.\n",
    "\n",
    "We need to rearrange the axes accordingly."
   ]
  },
  {
   "cell_type": "code",
   "execution_count": 45,
   "id": "0dc12867",
   "metadata": {},
   "outputs": [
    {
     "name": "stdout",
     "output_type": "stream",
     "text": [
      "Converted shape: (64, 64, 3)\n",
      "image is ready to be displayed or passed to libraries that expect (Height, Width, Channels) format.\n"
     ]
    }
   ],
   "source": [
    "# Swap axes: move Channels (axis 0) to the last position\n",
    "converted_image = np.swapaxes(image, 0, 2)\n",
    "print(\"Converted shape:\", converted_image.shape)\n",
    "print(\"image is ready to be displayed or passed to libraries that expect (Height, Width, Channels) format.\")"
   ]
  },
  {
   "cell_type": "markdown",
   "id": "01670acc",
   "metadata": {},
   "source": [
    "_____\n",
    "\n",
    "## **Joining Arrays Operations**\n",
    "\n",
    "In NumPy, joining arrays involves concatenating multiple arrays along specified axes.\n",
    "\n",
    "### 1. Numpy `concatenate()` Function\n",
    "\n",
    "**What Is It?**\n",
    "\n",
    "The numpy.concatenate() function is used to join two or more arrays into a single array along an existing axis. It does not create new axes—it combines the arrays along one of the dimensions they already share.\n",
    "\n",
    "This is useful in many real-world scenarios:\n",
    "\n",
    "- Merging batches of sensor readings.\n",
    "\n",
    "- Combining image data from multiple channels.\n",
    "\n",
    "- Appending rows or columns to a dataset in machine learning or statistics.\n",
    "\n",
    "For suppose, Imagine you're collecting temperature data from two cities. Each city's data is a NumPy array. If you want to analyze them together—maybe to compute combined trends—you'd concatenate the two arrays. Similarly, you may want to stack image data or append new data to a training set.\n",
    "\n",
    "> **Important:** All input arrays must match in shape except along the specified axis. This is a common source of error.\n",
    "\n",
    "**Syntax & Parameters**\n",
    "```python\n",
    "\n",
    "numpy.concatenate((a1, a2, ...), axis=0, out=None, dtype=None, casting=\"same_kind\")\n",
    "```\n",
    "\n",
    "| Parameter | Description |\n",
    "|:----------|:------------|\n",
    "| `a1, a2, ...` | Arrays to be joined. They must have the same shape except in the dimension you're concatenating along. |\n",
    "| `axis` | The axis along which to join. Default is 0. If `None`, all arrays are flattened first. |\n",
    "| `out` | Optional output array to store result. |\n",
    "| `dtype` | Optional type for the result array. Inferred by default. |\n",
    "| `casting` | Rules about how data is cast (type-converted). Default is `\"same_kind\"` for safety. |\n",
    "\n",
    "\n",
    "### Example 1 - Combining Student Test Scores (Rows and Columns)\n",
    "\n"
   ]
  },
  {
   "cell_type": "code",
   "execution_count": 46,
   "id": "9380aa71",
   "metadata": {},
   "outputs": [
    {
     "name": "stdout",
     "output_type": "stream",
     "text": [
      "new students added scores: \n",
      " [[85 90]\n",
      " [78 88]\n",
      " [80 89]\n",
      " [76 82]]\n",
      "\n",
      "new subject added scores: \n",
      " [[85 90 75 85]\n",
      " [78 88 82 79]]\n"
     ]
    }
   ],
   "source": [
    "# Each row is a student, each column is a subject\n",
    "core_scores = np.array([[85, 90], [78, 88]])   # Math, Science\n",
    "new_students = np.array([[80, 89], [76, 82]])  # More student scores\n",
    "\n",
    "# Electives for the original students\n",
    "elective_scores = np.array([[75, 85], [82, 79]])  # Art, Music\n",
    "\n",
    "# Add new students (more rows) → axis=0\n",
    "full_scores = np.concatenate((core_scores, new_students), axis=0)\n",
    "print(\"new students added scores: \\n\", full_scores)\n",
    "\n",
    "# Add new subjects (more columns) → axis=1\n",
    "full_scores = np.concatenate((core_scores, elective_scores), axis=1)\n",
    "print(\"\\nnew subject added scores: \\n\",full_scores)"
   ]
  },
  {
   "cell_type": "markdown",
   "id": "8ff01969",
   "metadata": {},
   "source": [
    "### Example 2 - Flatten and Combine Simulation Data (Using axis=None)\n",
    "\n",
    "You have two simulation result grids. Each is a 2D matrix, but for analysis (e.g. plotting histogram or ML), you want to flatten and join everything into a 1D list."
   ]
  },
  {
   "cell_type": "code",
   "execution_count": 47,
   "id": "b92950af",
   "metadata": {},
   "outputs": [
    {
     "name": "stdout",
     "output_type": "stream",
     "text": [
      "[1 2 3 4 5 6 7 8]\n"
     ]
    }
   ],
   "source": [
    "sim1 = np.array([[1, 2], [3, 4]])\n",
    "sim2 = np.array([[5, 6], [7, 8]])\n",
    "\n",
    "# Flatten first, then concatenate\n",
    "flat_combined = np.concatenate((sim1.ravel(), sim2.ravel()), axis=None) # no need to mention axis too here\n",
    "print(flat_combined)"
   ]
  },
  {
   "cell_type": "markdown",
   "id": "c519f49f",
   "metadata": {},
   "source": [
    "### Example 3 - Concatenating Arrays with Mixed Dimensions\n",
    "\n",
    "In NumPy, you can **combine (concatenate) arrays** even when they have different shapes or dimensions — but only after making them compatible. This is done using **broadcasting techniques**, which allow you to adjust the shape of smaller arrays so they match the larger ones for proper alignment.\n",
    "\n",
    "To adjust array shapes, you can use:\n",
    "\n",
    "- `np.reshape()` – to change the overall shape.\n",
    "- `np.expand_dims()` – to add a new axis (dimension).\n",
    "- **Slicing** – to manipulate dimensions directly if needed.\n",
    "\n",
    "These tools help ensure that arrays align correctly along the axis you want to concatenate.\n",
    "\n",
    "Let’s say you have a 1D array and a 2D array, and you want to combine them **along rows (axis=0)**. You can’t do this directly because their shapes don’t match. But by **expanding the 1D array into 2D**, you can make them compatible.\n",
    "\n",
    "### ***Adding a New Student to a Gradebook***\n",
    "\n",
    "Suppose you’re working with student scores in a school. You already have a 2D array where each row represents a student, and each column represents a test score. Now, you want to add scores of a new student, which are in a 1D array.\n",
    "\n",
    "To add this 1D array as a new row to the 2D gradebook, you need to match the dimensions first.\n"
   ]
  },
  {
   "cell_type": "code",
   "execution_count": 48,
   "id": "09aba7f8",
   "metadata": {},
   "outputs": [
    {
     "name": "stdout",
     "output_type": "stream",
     "text": [
      "Updated Gradebook:\n",
      "[[85 90 88]\n",
      " [78 82 84]\n",
      " [92 95 91]\n",
      " [80 85 89]]\n"
     ]
    }
   ],
   "source": [
    "# Existing gradebook: 3 students, 3 tests each\n",
    "gradebook = np.array([\n",
    "    [85, 90, 88],\n",
    "    [78, 82, 84],\n",
    "    [92, 95, 91]\n",
    "])\n",
    "\n",
    "# New student's scores (1D array)\n",
    "new_student_scores = np.array([80, 85, 89])\n",
    "\n",
    "# Expand the 1D array to 2D so it becomes a row\n",
    "new_student_expanded = np.expand_dims(new_student_scores, axis=0)\n",
    "\n",
    "# Concatenate the new student to the gradebook\n",
    "updated_gradebook = np.concatenate((gradebook, new_student_expanded), axis=0)\n",
    "\n",
    "print(\"Updated Gradebook:\")\n",
    "print(updated_gradebook)\n"
   ]
  },
  {
   "cell_type": "markdown",
   "id": "8a1774a1",
   "metadata": {},
   "source": [
    "### 2. Numpy `vstack()` Function\n",
    "\n",
    "The numpy.vstack() function is used to **`stack multiple arrays vertically`**, meaning it joins them row by row into a single array. This is especially useful when dealing with data that is naturally organized in rows — such as time-series logs, datasets where each row is a record, or tabular data like spreadsheets.\n",
    "\n",
    "Think of it like this:\n",
    "> Imagine each array is a sheet of paper with data in a row. When you use vstack(), you're placing each sheet on top of the next, forming a taller stack of rows.\n",
    "\n",
    "**When to Use vstack()?**\n",
    "\n",
    "- When you are accumulating data row-wise — like adding daily records or hourly sensor readings.\n",
    "\n",
    "- When you are combining 1D or 2D arrays where each one represents a row or block of rows.\n",
    "\n",
    "- When working with machine learning or data science where rows represent samples and columns represent features.\n",
    "\n",
    "**Key requirements:**\n",
    "- All arrays must have the same number of columns.\n",
    "\n",
    "- If using 1D arrays, each must have the same length and will be converted to a row.\n",
    "\n",
    "**Syntax & parameter**\n",
    "```python\n",
    "numpy.vstack(tup)\n",
    "```\n",
    "\n",
    "tup -\tA tuple or list of 1-D or 2-D arrays that will be stacked. All arrays must match in shape except along axis 0 (rows).\n",
    "\n",
    "### Example 1 - Logging Sensor Data Over Time\n",
    "\n",
    "Suppose you're collecting temperature sensor readings every hour from different locations. Each reading is stored as a 1D array row represeting 1 hour.\n",
    "Now you want to build a table where:\n",
    "\n",
    "Rows = time snapshots (1pm, 2pm, 3pm)\n",
    "\n",
    "Columns = rooms (Room A, B, C)"
   ]
  },
  {
   "cell_type": "code",
   "execution_count": 49,
   "id": "52384019",
   "metadata": {},
   "outputs": [
    {
     "data": {
      "text/plain": [
       "array([[23.5, 24.1, 22.8],\n",
       "       [23.9, 24.3, 23.1],\n",
       "       [24.2, 24.5, 23.4]])"
      ]
     },
     "execution_count": 49,
     "metadata": {},
     "output_type": "execute_result"
    }
   ],
   "source": [
    "reading_1pm = np.array([23.5, 24.1, 22.8])  # Sensors: Room A, B, C\n",
    "reading_2pm = np.array([23.9, 24.3, 23.1])\n",
    "reading_3pm = np.array([24.2, 24.5, 23.4])\n",
    "\n",
    "log_table = np.vstack([reading_1pm, reading_2pm, reading_3pm])\n",
    "log_table"
   ]
  },
  {
   "cell_type": "markdown",
   "id": "30c09d20",
   "metadata": {},
   "source": [
    "### Example 2 - Adding New Rows to an Existing Dataset\n",
    "\n",
    "You have a 2D dataset of user data and a new user signs up and you receive their data as a 1D array"
   ]
  },
  {
   "cell_type": "code",
   "execution_count": 50,
   "id": "7ac00565",
   "metadata": {},
   "outputs": [
    {
     "data": {
      "text/plain": [
       "array([[101,  25],\n",
       "       [102,  30],\n",
       "       [103,  27]])"
      ]
     },
     "execution_count": 50,
     "metadata": {},
     "output_type": "execute_result"
    }
   ],
   "source": [
    "user_data = np.array([[101, 25], [102, 30]])  # [User ID, Age]\n",
    "\n",
    "# new user\n",
    "new_user = np.array([103, 27])\n",
    "\n",
    "# you need to stack the data of new user to user data\n",
    "\n",
    "user_data = np.vstack([user_data, new_user])\n",
    "user_data"
   ]
  },
  {
   "cell_type": "markdown",
   "id": "78a4a033",
   "metadata": {},
   "source": [
    "### Example 3 - Mixing 1D and 2D arrays\n",
    "\n",
    "You can mix 1D and 2D arrays as long as the dimensions are compatible."
   ]
  },
  {
   "cell_type": "code",
   "execution_count": 51,
   "id": "82f4dac1",
   "metadata": {},
   "outputs": [
    {
     "data": {
      "text/plain": [
       "array([[1, 2, 3],\n",
       "       [4, 5, 6],\n",
       "       [7, 8, 9]])"
      ]
     },
     "execution_count": 51,
     "metadata": {},
     "output_type": "execute_result"
    }
   ],
   "source": [
    "a = np.array([1, 2, 3])             # Shape (3,)\n",
    "b = np.array([[4, 5, 6], [7, 8, 9]])  # Shape (2, 3)\n",
    "\n",
    "result = np.vstack((a, b))\n",
    "\n",
    "#NumPy automatically promotes the 1D array into a row vector with shape (1, 3) before stacking.\n",
    "result"
   ]
  },
  {
   "cell_type": "markdown",
   "id": "14b93fde",
   "metadata": {},
   "source": [
    "### 3. Numpy `hstack()` Function\n",
    "\n",
    "**What Is It?**\n",
    "\n",
    "`numpy.hstack()` is a NumPy function that stacks arrays `horizontally`, i.e., side-by-side, along axis 1.\n",
    "\n",
    "This function is commonly used for tasks where you need to:\n",
    "\n",
    "- Join multiple arrays where each array represents different attributes of the same entities.\n",
    "\n",
    "- Data enrichment: Adding new feature columns to a dataset.\n",
    "\n",
    "- Merging structured data: Joining multiple 2D arrays into a larger table of data.\n",
    "\n",
    "- Combining vectors for modeling: Say you have X_coordinates and Y_coordinates of points — use hstack() to merge them into one 2D matrix [[x1, y1], [x2, y2], ...].etc\n",
    "\n",
    "**important notes:**\n",
    "\n",
    ">All arrays must have the same number of rows, or be broadcast-compatible (e.g., a 1D array being reshaped to match a 2D array’s rows).\n",
    "\n",
    ">reshape(-1, 1) is often necessary to make 1D arrays compatible with 2D horizontal stacking.\n",
    "\n",
    "**Syntax and Parameters**\n",
    "\n",
    "```python\n",
    "numpy.hstack(tup, *, dtype=None, casting='same_kind')\n",
    "```\n",
    "\n",
    "| Parameter | Description |\n",
    "|:----------|:------------|\n",
    "| `tup` | A sequence (tuple/list) of arrays to be horizontally stacked. All must match in row count (axis 0). |\n",
    "| `dtype` | Optional. If provided, all arrays are cast to this data type before stacking. Useful for type consistency. |\n",
    "| `casting` | Controls how strictly data types can be converted. Commonly used when `dtype` is specified. Default is 'same_kind'. |\n",
    "\n",
    "### Example 1: Combining Demographic Data\n",
    "\n",
    "Suppose you’re building a dataset for analysis where:\n",
    "\n",
    "- One array holds ages of users.\n",
    "\n",
    "- Another holds salaries.\n",
    "\n",
    "You want to create a single 2D array where each row is [age, salary].\n",
    "\n"
   ]
  },
  {
   "cell_type": "code",
   "execution_count": 52,
   "id": "7d4bbe7e",
   "metadata": {},
   "outputs": [
    {
     "name": "stdout",
     "output_type": "stream",
     "text": [
      "before reshape [   25    30    45 50000 60000 80000]\n",
      "\n",
      "after reshape: \n"
     ]
    },
    {
     "data": {
      "text/plain": [
       "array([[   25, 50000],\n",
       "       [   30, 60000],\n",
       "       [   45, 80000]])"
      ]
     },
     "execution_count": 52,
     "metadata": {},
     "output_type": "execute_result"
    }
   ],
   "source": [
    "ages = np.array([25, 30, 45])\n",
    "salaries = np.array([50000, 60000, 80000])\n",
    "\n",
    "# Combine them side by side\n",
    "user_data = np.hstack((ages, salaries))\n",
    "print(\"before reshape\", user_data)\n",
    "\n",
    "# reshape them to column vector to allow horizantal stacking\n",
    "ages = ages.reshape(-1, 1) #-1 to automatically calculate one dimension\n",
    "salaries = salaries.reshape(-1, 1)\n",
    "user_data = np.hstack((ages, salaries))\n",
    "print(\"\\nafter reshape: \")\n",
    "user_data\n",
    "\n"
   ]
  },
  {
   "cell_type": "markdown",
   "id": "759da453",
   "metadata": {},
   "source": [
    "## Example 2: Augmenting Data with Derived Features\n",
    "\n",
    "Let’s say you have a dataset of test scores and now, you want to add a new column — the average score of each student — calculated from the existing ones."
   ]
  },
  {
   "cell_type": "code",
   "execution_count": 53,
   "id": "7a5c68d3",
   "metadata": {},
   "outputs": [
    {
     "name": "stdout",
     "output_type": "stream",
     "text": [
      "[Math, English, Average] scores: \n",
      " [[85.  90.  87.5]\n",
      " [78.  82.  80. ]\n",
      " [92.  88.  90. ]]\n"
     ]
    }
   ],
   "source": [
    "scores = np.array([[85, 90], [78, 82], [92, 88]])  # Columns: [Math, English]\n",
    "\n",
    "averages = scores.mean(axis=1).reshape(-1, 1) # in further tutorials/description we will come to know how to use mean\n",
    "\n",
    "aug_scores = np.hstack((scores, averages))\n",
    "print(\"[Math, English, Average] scores: \\n\",aug_scores)"
   ]
  },
  {
   "cell_type": "markdown",
   "id": "af45ef8c",
   "metadata": {},
   "source": [
    "### 4. Numpy `split()` Function\n",
    "\n",
    "**What Is It?**\n",
    "\n",
    "The `numpy.split()` function is used to divide an array into multiple sub-arrays along a specific axis. It helps when you want to:\n",
    "\n",
    "- Split large datasets into smaller, easier-to-handle parts\n",
    "- Group arrays into batches for processing\n",
    "- Organize data into different sections\n",
    "\n",
    "**Imagine this:**  \n",
    "You have a long list of data coming from a sensor or a server — maybe it's temperature readings every second.  \n",
    "Instead of working with the whole thing at once, you can use `numpy.split()` to **divide it into smaller chunks** — like one-minute or one-hour parts — and work with them separately!\n",
    "\n",
    "That's exactly what `numpy.split()` is made for!\n",
    "\n",
    "**Syntax & Parameters**\n",
    "```python\n",
    "numpy.split(ary, indices_or_sections, axis=0)\n",
    "```\n",
    "\n",
    "| Parameter             | Description |\n",
    "|-----------------------|-------------|\n",
    "| `ary` (array_like)    | The array you want to split. |\n",
    "| `indices_or_sections` | Decides how the array is split:<br>– If it's an **integer**, the array is split into **equal parts**.<br>– If it's a **1D list**, splits happen at those **index positions**. |\n",
    "| `axis` (int, optional)| The axis along which to split.<br>Default is `0` (split **row-wise**).<br>Use `axis=1` to split **column-wise**. |\n",
    "\n",
    "### Example 1: Splitting Survey Responses\n",
    "\n",
    "You have collected a flat array of 30 survey answers, and each person answered 5 questions. You want to group these answers by person.\n",
    "\n"
   ]
  },
  {
   "cell_type": "code",
   "execution_count": 54,
   "id": "af77c94c",
   "metadata": {},
   "outputs": [
    {
     "name": "stdout",
     "output_type": "stream",
     "text": [
      "Person 1's responses: [0 1 2 3 4]\n",
      "Person 2's responses: [5 6 7 8 9]\n",
      "Person 3's responses: [10 11 12 13 14]\n",
      "Person 4's responses: [15 16 17 18 19]\n",
      "Person 5's responses: [20 21 22 23 24]\n",
      "Person 6's responses: [25 26 27 28 29]\n"
     ]
    }
   ],
   "source": [
    "responses = np.arange(30)  # Simulated answers: 0 to 29\n",
    "\n",
    "# Split into 6 parts, each representing 1 person's 5 responses(6 splits of 5 responses each)\n",
    "grouped_responses = np.split(responses, 6)\n",
    "\n",
    "for i, person in enumerate(grouped_responses):\n",
    "    print(f\"Person {i+1}'s responses: {person}\")"
   ]
  },
  {
   "cell_type": "markdown",
   "id": "e46c0fc4",
   "metadata": {},
   "source": [
    "### Example 2: Separating Data Columns\n",
    "\n",
    "You receive a 2D array with customer data in 3 columns: [CustomerID, Age, Spending]. You want to separate the ID column from the rest."
   ]
  },
  {
   "cell_type": "code",
   "execution_count": 55,
   "id": "8db5ca98",
   "metadata": {},
   "outputs": [
    {
     "name": "stdout",
     "output_type": "stream",
     "text": [
      "Customer IDs:\n",
      " [[101]\n",
      " [102]\n",
      " [103]]\n",
      "Ages:\n",
      " [[25]\n",
      " [30]\n",
      " [22]]\n",
      "Remaining Info:\n",
      " [[200]\n",
      " [150]\n",
      " [180]]\n"
     ]
    }
   ],
   "source": [
    "data = np.array([\n",
    "    [101, 25, 200],\n",
    "    [102, 30, 150],\n",
    "    [103, 22, 180],\n",
    "])\n",
    "\n",
    "# Split at column index 1: one split before 'Age'\n",
    "idx, age_col, rest = np.split(data, [1,2], axis=1) # idx - customer id, age_col - age, rest - remaining info\n",
    "print(\"Customer IDs:\\n\", idx)\n",
    "print(\"Ages:\\n\", age_col)\n",
    "print(\"Remaining Info:\\n\", rest)"
   ]
  },
  {
   "cell_type": "markdown",
   "id": "64ad0241",
   "metadata": {},
   "source": [
    "> Also refer Numpy **`hsplit()`** and **`vsplit()`** which work on same principles that we saw previously for joining stack\n",
    "\n",
    "----"
   ]
  },
  {
   "cell_type": "markdown",
   "id": "5ad5273f",
   "metadata": {},
   "source": [
    "## **Sorting and Searching**\n",
    "\n",
    "NumPy provides efficient functions to sort and search arrays, making data handling and analysis faster and easier.\n",
    "\n",
    "### 1. Numpy `sort()` Function\n",
    "\n",
    "The numpy.sort() function is used to sort elements of an array in ascending order by default. This sorting can be performed:\n",
    "\n",
    "- On a flat (1D) array,\n",
    "\n",
    "- On a 2D or bigger array — you can choose to sort each row or each column separately by setting the axis parameter.\n",
    "\n",
    "It is important to know that this function returns a new sorted array and does not modify the original array in-place.\n",
    "\n",
    "**Syntax & Parameters**\n",
    "```python()\n",
    "numpy.sort(a, axis=-1, kind=None, order=None)\n",
    "```\n",
    "| Parameter | Description |\n",
    "|:----------|:------------|\n",
    "| `a` | The array to be sorted. |\n",
    "| `axis` | Axis along which to sort. Default is -1 (last axis). <br> `0` = sort by columns, `1` = sort by rows. |\n",
    "| `kind` | Sorting algorithm to use: `'quicksort'` (default), `'mergesort'`, `'heapsort'`, `'stable'`. |\n",
    "| `order` | For structured arrays. Specifies which field(s) to sort by. |\n",
    "\n",
    "### Example 1 -  Sort Student Marks Row-wise Using a Stable Sort\n",
    "\n",
    "You have a record of marks scored by students in three subjects, and want to sort each student’s scores, but preserve the order of equal scores.\n",
    "\n",
    "imp point:\n",
    "> `stable` (via `kind='stable'`)  Ensures that elements that compare equal retain their original order."
   ]
  },
  {
   "cell_type": "code",
   "execution_count": 56,
   "id": "46d6beda",
   "metadata": {},
   "outputs": [
    {
     "name": "stdout",
     "output_type": "stream",
     "text": [
      "Original Marks:\n",
      " [[75 90 75]\n",
      " [88 70 70]\n",
      " [92 92 85]]\n",
      "\n",
      "Sorted Marks (Row-wise, stable):\n",
      " [[75 75 90]\n",
      " [70 70 88]\n",
      " [85 92 92]]\n"
     ]
    }
   ],
   "source": [
    "# Rows = Students, Columns = Scores in [Math, Physics, Chemistry]\n",
    "marks = np.array([\n",
    "    [75, 90, 75],\n",
    "    [88, 70, 70],\n",
    "    [92, 92, 85]\n",
    "])\n",
    "\n",
    "\n",
    "sorted_marks = np.sort(marks, axis=1, kind='stable')\n",
    "# kind='stable' → Ensures that repeated scores like [75, 90, 75] keep the first 75 before the second.\n",
    "\n",
    "print(\"Original Marks:\\n\", marks)\n",
    "print(\"\\nSorted Marks (Row-wise, stable):\\n\", sorted_marks)\n"
   ]
  },
  {
   "cell_type": "markdown",
   "id": "db41882a",
   "metadata": {},
   "source": [
    "### Example 2 - Sort Product Data (Structured Array) by Name and Then by Price\n",
    "\n",
    "You're managing product data with fields: name, price, and rating. You want to sort products by name, and also optionally by price when names are the same."
   ]
  },
  {
   "cell_type": "code",
   "execution_count": 57,
   "id": "44697c01",
   "metadata": {},
   "outputs": [
    {
     "name": "stdout",
     "output_type": "stream",
     "text": [
      "Original Product List:\n",
      " [('Banana', 40, 4.5) ('Apple', 30, 4.7) ('Banana', 35, 4.6)\n",
      " ('Mango', 50, 4.2)]\n",
      "\n",
      "Sorted by Name, then Price:\n",
      " [('Apple', 30, 4.7) ('Banana', 35, 4.6) ('Banana', 40, 4.5)\n",
      " ('Mango', 50, 4.2)]\n"
     ]
    }
   ],
   "source": [
    "# Structured array: Products with name, price, and rating\n",
    "products = np.array([\n",
    "    ('Banana', 40, 4.5),\n",
    "    ('Apple', 30, 4.7),\n",
    "    ('Banana', 35, 4.6),\n",
    "    ('Mango', 50, 4.2)\n",
    "], dtype=[('name', 'U10'), ('price', int), ('rating', float)])\n",
    "\n",
    "sorted_name_price = np.sort(products, order=['name', 'price'])\n",
    "print(\"Original Product List:\\n\", products)\n",
    "print(\"\\nSorted by Name, then Price:\\n\", sorted_name_price)"
   ]
  },
  {
   "cell_type": "markdown",
   "id": "250a7c4e",
   "metadata": {},
   "source": [
    "### Example 3: Sort Log Records by Time, Using axis=0 and kind='mergesort'\n",
    "\n",
    "You're analyzing log data where each row represents a log entry: [timestamp, severity_code]. You want to sort logs by timestamp (column 0), keeping log entries stable in case of same time (e.g., log batching).\n"
   ]
  },
  {
   "cell_type": "code",
   "execution_count": 58,
   "id": "ae8636bf",
   "metadata": {},
   "outputs": [
    {
     "name": "stdout",
     "output_type": "stream",
     "text": [
      "Original Logs:\n",
      " [(3, 1) (1, 3) (3, 2) (2, 1)]\n",
      "Sorted Logs:\n",
      " [(1, 3) (2, 1) (3, 1) (3, 2)]\n"
     ]
    }
   ],
   "source": [
    "# Logs as structured array : [timestamp, severity]\n",
    "logs = np.array([\n",
    "    (3, 1),  # [timestamp, severity]\n",
    "    (1, 3),\n",
    "    (3, 2),\n",
    "    (2, 1)\n",
    "], dtype=[('timestamp', int), ('severity', int)])\n",
    "\n",
    "# Sort by 'timestamp' using stable sort\n",
    "sorted_logs = np.sort(logs, order='timestamp', kind='mergesort')\n",
    "\n",
    "print(\"Original Logs:\\n\", logs)\n",
    "\n",
    "print(\"Sorted Logs:\\n\", sorted_logs)"
   ]
  },
  {
   "cell_type": "markdown",
   "id": "0f7c0647",
   "metadata": {},
   "source": [
    "### 2. Numpy `argsort()` Function\n",
    "\n",
    "**What is it?**\n",
    "\n",
    "It doesn’t sort the array itself. Instead, it tells you where each element would go if the array were sorted.\n",
    "\n",
    "This is useful when:\n",
    "\n",
    "- You want to rearrange another array based on how one array would be sorted.\n",
    "\n",
    "- You're dealing with complex data and only want the sorted order (not the values).\n",
    "\n",
    "- You need stable or specific sorting algorithms for consistency or performance.\n",
    "\n",
    "simply put - np.argsort() tells you how to reorder your data to get it sorted, without actually sorting it for you. It returns the indices of the array in the order you should use to get a sorted version.\n",
    "\n",
    "**Syntax & Paramters**\n",
    "```python\n",
    "numpy.argsort(arr, axis=-1, kind=None, order=None)\n",
    "```\n",
    "> Parameters follow the same structure and meaning that we saw in normal sort() function of numpy\n",
    "\n",
    "\n",
    "### Example 1 -  Ranking Students with Tied Scores (using kind='stable')\n",
    "\n",
    "You want to sort scores but preserve the order of equal elements."
   ]
  },
  {
   "cell_type": "code",
   "execution_count": 59,
   "id": "261d903e",
   "metadata": {},
   "outputs": [
    {
     "name": "stdout",
     "output_type": "stream",
     "text": [
      "Original Scores: [90 70 90 85]\n",
      "Sorted Indices: [1 3 0 2]\n",
      "Scores in Sorted Order: [70 85 90 90]\n"
     ]
    }
   ],
   "source": [
    "scores = np.array([90, 70, 90, 85])\n",
    "sort_preserve = np.argsort(scores, kind='stable')\n",
    "\n",
    "print(\"Original Scores:\", scores)\n",
    "print(\"Sorted Indices:\", sort_preserve)\n",
    "print(\"Scores in Sorted Order:\", scores[sort_preserve])\n",
    "\n",
    "# as you can see in output the original array is not disturbed"
   ]
  },
  {
   "cell_type": "markdown",
   "id": "8d94351f",
   "metadata": {},
   "source": [
    "### Example 2 - Sorting Game Scores per Player (using axis=1)\n",
    "\n",
    "Each row is a player, and you want to find the order of their scores across games."
   ]
  },
  {
   "cell_type": "code",
   "execution_count": 60,
   "id": "c822e226",
   "metadata": {},
   "outputs": [
    {
     "name": "stdout",
     "output_type": "stream",
     "text": [
      "Original Scores:\n",
      " [[20 10 30]\n",
      " [ 5 25 15]]\n",
      "Argsort Indices Row-wise:\n",
      " [[1 0 2]\n",
      " [0 2 1]]\n",
      "Sorted Scores Row-wise:\n",
      " [[10 20 30]\n",
      " [ 5 15 25]]\n"
     ]
    }
   ],
   "source": [
    "scores = np.array([\n",
    "    [20, 10, 30],  # Player 1\n",
    "    [5, 25, 15]    # Player 2\n",
    "])\n",
    "\n",
    "indices = np.argsort(scores, axis=1)\n",
    "print(\"Original Scores:\\n\", scores)\n",
    "print(\"Argsort Indices Row-wise:\\n\", indices)\n",
    "\n",
    "# Let's sort using the indices to see sorted row values\n",
    "sorted_scores = np.take_along_axis(scores, indices, axis=1)\n",
    "print(\"Sorted Scores Row-wise:\\n\", sorted_scores)"
   ]
  },
  {
   "cell_type": "markdown",
   "id": "69767113",
   "metadata": {},
   "source": [
    "### Example 3 - E-commerce Products Sorted by Price & Rating (using order)\n",
    "\n",
    "You want to sort products by price, and then by rating if prices are equal."
   ]
  },
  {
   "cell_type": "code",
   "execution_count": 61,
   "id": "b965c9df",
   "metadata": {},
   "outputs": [
    {
     "name": "stdout",
     "output_type": "stream",
     "text": [
      "Original Products:\n",
      " [('Keyboard', 100, 4.5) ('Mouse',  50, 4.8) ('Monitor', 100, 4.2)]\n",
      "Sorted Indices: [1 2 0]\n",
      "Sorted Products in descending:\n",
      " [('Keyboard', 100, 4.5) ('Monitor', 100, 4.2) ('Mouse',  50, 4.8)]\n"
     ]
    }
   ],
   "source": [
    "products = np.array([\n",
    "    ('Keyboard', 100, 4.5),\n",
    "    ('Mouse', 50, 4.8),\n",
    "    ('Monitor', 100, 4.2)\n",
    "], dtype=[('name', 'U10'), ('price', 'i4'), ('rating', 'f4')])\n",
    "\n",
    "indices = np.argsort(products, order=('price', 'rating'))\n",
    "sorted_products = products[indices][::-1] # slicing can be used to revert the array - [::-1]\n",
    "\n",
    "print(\"Original Products:\\n\", products)\n",
    "print(\"Sorted Indices:\", indices)\n",
    "print(\"Sorted Products in descending:\\n\", sorted_products)"
   ]
  },
  {
   "cell_type": "markdown",
   "id": "eb7ee1c5",
   "metadata": {},
   "source": [
    "### 3. Numpy `argmax()/argmin()` Function\n",
    "\n",
    "**What is numpy.argmax()?**\n",
    "\n",
    "`numpy.argmax()` returns the `index` of the maximum value in an array. If the maximum occurs multiple times, it gives the index of the `first occurrence`.\n",
    "\n",
    "This is especially useful in tasks where you're not just interested in the `maximum value`, but in `where` that maximum occurs (like choosing a winner based on highest score, or finding the best-performing model/parameter).\n",
    "\n",
    "**What is numpy.argmin()?**\n",
    "\n",
    "`numpy.argmin()` returns the index (or indices) of the smallest value in an array. It’s commonly used in situations where you need to identify the position of the lowest score, smallest measurement, or minimum cost, etc.\n",
    "\n",
    "\n",
    "**Syntax & Paramters of `argmax()`**\n",
    "```python\n",
    ">numpy.argmax(a, axis=None, out=None, *, keepdims=<no value>)\n",
    "\n",
    ">numpy.argmin(a, axis=None, out=None, keepdims=<no value>)\n",
    "```\n",
    "\n",
    "| Parameter | Description |\n",
    "|:----------|:------------|\n",
    "| `a` | The input array from which to find the index of the maximum value. |\n",
    "| `axis` | (Optional) The axis along which to find the maximum index:<br> - `None` (default): Flattens array and returns index of global max.<br> - `0`: Column-wise max index.<br> - `1`: Row-wise max index. |\n",
    "| `out` | (Optional) An array where the result is stored. Must be same shape/type as output. |\n",
    "| `keepdims` | (Optional) If `True`, the reduced axis is kept as a dimension with size 1, making output shape compatible with broadcasting. |\n",
    "\n",
    "### Example 1 - Selecting the Best Product Based on Ratings\n",
    "\n",
    "Out of several products, find which product has the highest average rating.\n"
   ]
  },
  {
   "cell_type": "code",
   "execution_count": 62,
   "id": "581780ed",
   "metadata": {},
   "outputs": [
    {
     "name": "stdout",
     "output_type": "stream",
     "text": [
      "Average Ratings: [4.23333333 4.26666667 4.4       ]\n",
      "Best Product Index: 2\n"
     ]
    }
   ],
   "source": [
    "# Rows = Products, Columns = Ratings from different users\n",
    "ratings = np.array([\n",
    "    [4.2, 4.5, 4.0],   # Product A\n",
    "    [3.9, 4.8, 4.1],   # Product B\n",
    "    [4.5, 4.4, 4.3]    # Product C\n",
    "])\n",
    "\n",
    "average_mean = ratings.mean(axis=1)\n",
    "\n",
    "avg_max = np.argmax(average_mean)\n",
    "\n",
    "print(\"Average Ratings:\", average_mean)\n",
    "\n",
    "print(\"Best Product Index:\", avg_max)"
   ]
  },
  {
   "cell_type": "markdown",
   "id": "e56bd8d5",
   "metadata": {},
   "source": [
    "### Example 2 - Classroom Exam – Find Top Scorer in Each Subject\n",
    "\n",
    "Identify the student with the highest score in each subject."
   ]
  },
  {
   "cell_type": "code",
   "execution_count": 63,
   "id": "43eff811",
   "metadata": {},
   "outputs": [
    {
     "name": "stdout",
     "output_type": "stream",
     "text": [
      "Topper Indices by Subject: [1 2 1]\n"
     ]
    }
   ],
   "source": [
    "# Rows = Students, Columns = Subjects\n",
    "scores = np.array([\n",
    "    [85, 92, 78],   # Student 1\n",
    "    [88, 91, 90],   # Student 2\n",
    "    [75, 94, 85]    # Student 3\n",
    "])\n",
    "\n",
    "# Column-wise argmax → axis=0 (which student topped each subject)\n",
    "topper_indices = np.argmax(scores, axis=0)\n",
    "\n",
    "print(\"Topper Indices by Subject:\", topper_indices)"
   ]
  },
  {
   "cell_type": "markdown",
   "id": "dd9413b6",
   "metadata": {},
   "source": [
    "### Example 3 - Tracking Winning Teams in a Sports League (with out and keepdims)"
   ]
  },
  {
   "cell_type": "code",
   "execution_count": 64,
   "id": "2d0343ea",
   "metadata": {},
   "outputs": [
    {
     "name": "stdout",
     "output_type": "stream",
     "text": [
      "Scores:\n",
      " [[3 2 1]\n",
      " [0 5 2]\n",
      " [1 1 4]]\n",
      "Winning Team Indices (kept as 2D):\n",
      " [[0]\n",
      " [1]\n",
      " [2]]\n"
     ]
    }
   ],
   "source": [
    "# Rows = Match weeks, Columns = Teams\n",
    "scores = np.array([\n",
    "    [3, 2, 1],   # Week 1\n",
    "    [0, 5, 2],   # Week 2\n",
    "    [1, 1, 4]    # Week 3\n",
    "])\n",
    "\n",
    "out_array = np.empty((3, 1), dtype=int)\n",
    "win_teams = np.argmax(scores, axis=1, out=out_array, keepdims=True)\n",
    "print(\"Scores:\\n\", scores)\n",
    "print(\"Winning Team Indices (kept as 2D):\\n\", win_teams)"
   ]
  },
  {
   "cell_type": "markdown",
   "id": "566d3fae",
   "metadata": {},
   "source": [
    "### Example 4 - Comparing Employee Productivity(using both argmin and argmax)"
   ]
  },
  {
   "cell_type": "code",
   "execution_count": 65,
   "id": "6d0bf000",
   "metadata": {},
   "outputs": [
    {
     "name": "stdout",
     "output_type": "stream",
     "text": [
      "Total tasks per employee: [26 21 30]\n",
      "Most productive employee index: 2\n",
      "Least productive employee index: 1\n",
      "Most productive employee's task total: 30\n",
      "Least productive employee's task total: 21\n"
     ]
    }
   ],
   "source": [
    "# Tasks Completed Per Day by Each Employee\n",
    "# Rows = employees (E1, E2, E3)\n",
    "# Columns = days (Day1, Day2, Day3, Day4)\n",
    "tasks = np.array([\n",
    "    [5, 7, 8, 6],    # Employee 1\n",
    "    [9, 4, 3, 5],    # Employee 2\n",
    "    [6, 8, 9, 7]     # Employee 3\n",
    "])\n",
    "\n",
    "# total tasks for each row (employee). So we sum across columns (axis=1).\n",
    "total_tasks = np.sum(tasks, axis=1)\n",
    "print(\"Total tasks per employee:\", total_tasks)\n",
    "\n",
    "# Most & Least Productive Employees\n",
    "most_productive_idx = np.argmax(total_tasks)\n",
    "least_productive_idx = np.argmin(total_tasks)\n",
    "print(\"Most productive employee index:\", most_productive_idx)\n",
    "print(\"Least productive employee index:\", least_productive_idx)\n",
    "\n",
    "print(\"Most productive employee's task total:\", total_tasks[most_productive_idx])\n",
    "print(\"Least productive employee's task total:\", total_tasks[least_productive_idx])\n",
    "\n",
    "# argmax() → Employee 3 (index 2) did the most\n",
    "# argmin() → Employee 2 (index 1) did the least"
   ]
  },
  {
   "cell_type": "markdown",
   "id": "3206e233",
   "metadata": {},
   "source": [
    "### 4. Numpy `where()` Function\n",
    "\n",
    "The numpy.where() function performs element-wise conditional logic on arrays. It can:\n",
    "\n",
    "- Return indices of array elements that satisfy a condition.\n",
    "\n",
    "- Select values from two options (x and y) based on whether a condition is True or False.\n",
    "\n",
    "It serves as a vectorized version of the if-else statement, making it especially powerful for array-based decision-making.\n",
    "\n",
    ">**np.where()** returns a tuple of arrays based on condition given — one for row indices, one for column indices of all elements\n",
    "\n",
    "**Syntax and parameters**\n",
    "```python\n",
    "numpy.where(condition, [x, y])\n",
    "```\n",
    "\n",
    "| Parameter | Description |\n",
    "|:----------|:------------|\n",
    "| `condition` | A boolean array or condition expression. For each element, this condition determines whether to choose a value from `x` or `y`, or to return its index. |\n",
    "| `x` | Values to use where the condition is `True`. This can be an array, scalar, or expression. |\n",
    "| `y` | Values to use where the condition is `False`. This must be broadcastable to the shape of `x` or the input array. |\n",
    "\n",
    "### Example - Inventory Management for a Supermarket\n",
    "\n",
    "You are managing inventory for a supermarket. You have the current stock levels of several products, and you want to do three things:\n",
    "\n",
    "- Identify which items are out of stock (i.e., stock = 0).\n",
    "\n",
    "- Label them as 'Restock' if they are out of stock, or 'Sufficient' if they are available.\n",
    "\n",
    "- Additionally, you want to store the indices of items that need restocking in a pre-allocated output array (using the out parameter with np.where() indirectly).\n",
    "\n",
    "- You want the result to maintain the original shape of the array, even after finding positions (using keepdims=True, if applicable in related use).\n"
   ]
  },
  {
   "cell_type": "code",
   "execution_count": 66,
   "id": "c63c5cf2",
   "metadata": {},
   "outputs": [
    {
     "name": "stdout",
     "output_type": "stream",
     "text": [
      "Stock Matrix:\n",
      " [[3 0 5]\n",
      " [0 6 2]\n",
      " [1 0 4]]\n",
      "Labels Matrix:\n",
      " [['Sufficient' 'Restock' 'Sufficient']\n",
      " ['Restock' 'Sufficient' 'Sufficient']\n",
      " ['Sufficient' 'Restock' 'Sufficient']]\n",
      "\n",
      "Indices of out-of-stock products: (array([0, 1, 2]), array([1, 0, 1]))\n",
      "Index of first out-of-stock product in flattened array: 1\n",
      "Restock needed (by row):\n",
      " [[ True]\n",
      " [ True]\n",
      " [ True]]\n"
     ]
    }
   ],
   "source": [
    "# Step 1: 3x3 - Inventory data (each item represents quantity in stock)\n",
    "stock = np.array([[3, 0, 5],\n",
    "                  [0, 6, 2],\n",
    "                  [1, 0, 4]])\n",
    "\n",
    "# label each item as restock if stock is 0\n",
    "label = np.where(stock==0, 'Restock', 'Sufficient')\n",
    "print(\"Stock Matrix:\\n\", stock)\n",
    "print(\"Labels Matrix:\\n\", label)\n",
    "\n",
    "# Getting the Indices of Products That Need Restocking\n",
    "# Step 3: Only the condition, to get indices of out-of-stock items\n",
    "out_of_stock_indices = np.where(stock==0)\n",
    "print(\"\\nIndices of out-of-stock products:\", out_of_stock_indices)\n",
    "\n",
    "#Using the out Parameter to Store Index Information\n",
    "# Step 4: Flattened version of stock array to find first 0\n",
    "flat_stock = stock.flatten()\n",
    "\n",
    "# Pre-allocated output array to store result\n",
    "output = np.empty((), dtype=int)\n",
    "\n",
    "# Get index of first zero using argwhere and store it in 'output'\n",
    "np.argwhere(flat_stock == 0).flatten()[0].__int__()\n",
    "\n",
    "# OR, using np.where for boolean result\n",
    "first_zero_index = np.where(flat_stock == 0)[0][0]\n",
    "output[...] = first_zero_index #this will return couple of arrays, one for rows and other for columns(indices)\n",
    "# output[...] is NumPy’s way of writing “assign this value to the entire output scalar.”\n",
    "\n",
    "print(\"Index of first out-of-stock product in flattened array:\", output)\n",
    "\n",
    "\n",
    "# Maintain Dimensionality with keepdims=True (When Used in Combination)\n",
    "# Step 5: Check which rows need restocking using any(), preserving shape\n",
    "restock_rows = np.any(stock == 0, axis=1, keepdims=True)\n",
    "\n",
    "print(\"Restock needed (by row):\\n\", restock_rows)\n",
    "\n"
   ]
  },
  {
   "cell_type": "markdown",
   "id": "7b0f3e19",
   "metadata": {},
   "source": [
    "------"
   ]
  },
  {
   "cell_type": "markdown",
   "id": "efc4df6c",
   "metadata": {},
   "source": [
    "## **Broadcasting**\n",
    "\n",
    "### 1. Numpy `broadcast()` Function\n",
    "\n",
    "The numpy.broadcast() class mimics NumPy's internal broadcasting rules. It lets you \"manually\" explore and iterate over broadcasted arrays without creating huge expanded versions in memory.\n",
    "\n",
    "in simple terms: \n",
    "It lets arrays with different shapes work together as if they had the same shape and you don’t need to create a bigger array; broadcasting simulates it.\n",
    "\n",
    "**Syntax**\n",
    "\n",
    "```python\n",
    "numpy.broadcast(*array_like)\n",
    "```\n",
    "\n",
    "**Parameters**\n",
    "- *array_like: One or more arrays that you want to broadcast. These arrays must be compatible in shape according to NumPy's broadcasting rules.\n",
    "\n",
    "**Returns**\n",
    "\n",
    "Returns a numpy.broadcast object which:\n",
    "\n",
    "- Has a .shape attribute (the broadcasted shape).\n",
    "\n",
    "- Can be iterated element-wise.\n",
    "\n",
    "- Supports .index and .iters to inspect broadcasting steps.\n",
    "\n",
    "### Example with explanation if you didnt still quite understand the above description\n",
    "\n",
    "Let’s explain this using a real-world example with zero assumptions.\n",
    "\n",
    "Imagine a shop that sells 3 products:\n",
    "\n",
    "- Product A\n",
    "\n",
    "- Product B\n",
    "\n",
    "- Product C\n",
    "\n",
    "It tracks the prices for 2 days:"
   ]
  },
  {
   "cell_type": "code",
   "execution_count": 67,
   "id": "ce659562",
   "metadata": {},
   "outputs": [],
   "source": [
    "# 2 rows for 2 days, 3 columns for 3 products\n",
    "daily_prices = np.array([\n",
    "    [100, 200, 300],  # Day 1\n",
    "    [110, 210, 310]   # Day 2\n",
    "])\n",
    "\n",
    "\n",
    "# One discount for each product\n",
    "discount = np.array([10, 20, 30])\n"
   ]
  },
  {
   "cell_type": "markdown",
   "id": "8c1124ec",
   "metadata": {},
   "source": [
    "Here we have dairy prices and discount, and now the store wants to subtract discounts per product:\n",
    "\n",
    "ususally without explicitly declaring broadcasting, the below syntax automatically takes broadcasting into picture to complete this operation"
   ]
  },
  {
   "cell_type": "code",
   "execution_count": 68,
   "id": "01844b45",
   "metadata": {},
   "outputs": [
    {
     "data": {
      "text/plain": [
       "array([[ 90, 180, 270],\n",
       "       [100, 190, 280]])"
      ]
     },
     "execution_count": 68,
     "metadata": {},
     "output_type": "execute_result"
    }
   ],
   "source": [
    "final_prices = daily_prices - discount\n",
    "final_prices"
   ]
  },
  {
   "cell_type": "markdown",
   "id": "7da058a9",
   "metadata": {},
   "source": [
    "**background**\n",
    "```python\n",
    "daily_prices:\n",
    "[[100 200 300]\n",
    " [110 210 310]]\n",
    "\n",
    "discount_(broadcasted version):\n",
    "[[10 20 30]\n",
    " [10 20 30]]\n",
    "\n",
    "Result after subtraction:\n",
    "[[90 180 270]\n",
    " [100 190 280]]\n",
    " ```\n",
    "\n",
    "But this broadcasted [[10, 20, 30], [10, 20, 30]] was never created in memory — NumPy just pretends it’s there. That saves memory.\n",
    "\n",
    ">The np.broadcast() class lets you manually see this process."
   ]
  },
  {
   "cell_type": "code",
   "execution_count": 69,
   "id": "761b1ff6",
   "metadata": {},
   "outputs": [
    {
     "name": "stdout",
     "output_type": "stream",
     "text": [
      "Shape: (2, 3)\n",
      "Original Price: 100, Discount: 10, Final Price: 90\n",
      "Original Price: 200, Discount: 20, Final Price: 180\n",
      "Original Price: 300, Discount: 30, Final Price: 270\n",
      "Original Price: 110, Discount: 10, Final Price: 100\n",
      "Original Price: 210, Discount: 20, Final Price: 190\n",
      "Original Price: 310, Discount: 30, Final Price: 280\n"
     ]
    }
   ],
   "source": [
    "daily_prices = np.array([\n",
    "    [100, 200, 300],\n",
    "    [110, 210, 310]\n",
    "])\n",
    "\n",
    "discount = np.array([10, 20, 30])\n",
    "\n",
    "# Create a broadcast object (no actual array created!)\n",
    "b = np.broadcast(daily_prices, discount)\n",
    "\n",
    "print(\"Shape:\", b.shape)  # Output: (2, 3)\n",
    "\n",
    "# You Can Loop Through the Broadcasted Pairs\n",
    "for price, disc in b:\n",
    "    print(f\"Original Price: {price}, Discount: {disc}, Final Price: {price - disc}\")"
   ]
  },
  {
   "cell_type": "markdown",
   "id": "058e7d7f",
   "metadata": {},
   "source": [
    "**To sum it up**\n",
    "\n",
    "numpy.broadcast() helps NumPy figure out how to match two (or more) arrays of different shapes so they can work together in calculations — without actually copying or expanding any data.\n",
    "\n",
    "**Imagine This:**\n",
    "You want to add a small array (like bonus marks for 3 subjects) to a big array (like marks of 4 students in 3 subjects).\n",
    "But their shapes don’t match exactly.\n",
    "\n",
    "- Instead of manually looping through every row, NumPy:\n",
    "\n",
    "- Virtually stretches the small array to match the big one.\n",
    "\n",
    "- Lets you do the addition directly — fast and memory-efficient."
   ]
  },
  {
   "cell_type": "markdown",
   "id": "ed5b99bb",
   "metadata": {},
   "source": [
    "### 2. Numpy `expand_dims()` Function\n",
    "\n",
    "The numpy.expand_dims() function **adds a new axis (dimension)** to an existing NumPy array at a specified position.\n",
    "This is often used when:\n",
    "\n",
    "- You want to change the shape of an array to make it compatible with broadcasting or machine learning models.\n",
    "\n",
    "- You need to reshape data for operations like stacking, batch processing, or feeding into functions that require specific input shapes.\n",
    "\n",
    "**Syntax & Parameters**\n",
    "```python\n",
    "numpy.expand_dims(a, axis)\n",
    "```\n",
    "\n",
    "| Parameter | Description |\n",
    "|:----------|:------------|\n",
    "| `a` | The input array you want to expand. |\n",
    "| `axis` | The position (index) where the new axis should be added. Can be positive (from beginning) or negative (from end). |\n",
    "\n",
    "**Returns**\n",
    "\n",
    "Returns a view of the array with one more dimension (without copying the data).\n",
    "The shape changes, but the data remains the same.\n",
    "\n",
    "### Example Scanrio where this function is used: \n",
    "\n",
    "**Preparing Data for a Machine Learning Model :**\n",
    "\n",
    "Imagine you're building a machine learning model to predict stock prices.\n",
    "Your raw data for one day is stored in a 1D array:"
   ]
  },
  {
   "cell_type": "code",
   "execution_count": 70,
   "id": "740920ef",
   "metadata": {},
   "outputs": [
    {
     "data": {
      "text/plain": [
       "array([100.5, 101. ,  99.8])"
      ]
     },
     "execution_count": 70,
     "metadata": {},
     "output_type": "execute_result"
    }
   ],
   "source": [
    "daily_features = np.array([100.5, 101.0, 99.8])  # [Open, High, Low]\n",
    "daily_features"
   ]
  },
  {
   "cell_type": "markdown",
   "id": "44759aa0",
   "metadata": {},
   "source": [
    "But your ML model expects input in the shape:\n",
    "(batch_size, timesteps, features) — e.g., (1, 1, 3) for a single day."
   ]
  },
  {
   "cell_type": "code",
   "execution_count": 71,
   "id": "bbdd2ae6",
   "metadata": {},
   "outputs": [
    {
     "name": "stdout",
     "output_type": "stream",
     "text": [
      "Final input shape for model: (1, 1, 3)\n",
      "\n",
      "FInal array with expanded dimension: [[[100.5 101.   99.8]]]\n"
     ]
    }
   ],
   "source": [
    "# You can reshape your daily_features from shape (3,) to (1, 1, 3) like this:\n",
    "\n",
    "# Step 1: Add a batch dimension → shape becomes (1, 3)\n",
    "step1 = np.expand_dims(daily_features, axis=0)\n",
    "\n",
    "# Step 2: Add a timestep dimension → shape becomes (1, 1, 3)\n",
    "finalStep = np.expand_dims(step1, axis=1)\n",
    "\n",
    "print(\"Final input shape for model:\", finalStep.shape)\n",
    "print(\"\\nFInal array with expanded dimension:\", finalStep)\n",
    "\n",
    "# Now this array can be feeded to model"
   ]
  },
  {
   "cell_type": "markdown",
   "id": "5913d764",
   "metadata": {},
   "source": [
    "to sum it up\n",
    "\n",
    "> \"np.expand_dims() adds a new axis to your array at the position you choose — helping you reshape data for ML, broadcasting, and more — without changing the data itself.\"\n",
    "\n",
    "- Use np.broadcast() when you just want to perform operations like a + b without modifying shapes.\n",
    "\n",
    "- Use np.expand_dims() when you need to physically reshape the array (e.g., for ML models or explicit shape matching).\n",
    "\n",
    "------"
   ]
  },
  {
   "cell_type": "markdown",
   "id": "bbad8f15",
   "metadata": {},
   "source": [
    "## **Set Operations**\n",
    "\n",
    "NumPy provides functions to perform set-based operations on arrays—like finding unique values, combining arrays (union), finding common elements (intersection), and identifying differences. These are especially helpful when working with distinct or non-repeating values in your data.\n",
    "\n",
    "### 1. Numpy `unique()` Function\n",
    "\n",
    "**np.unique()** function is used to find all the unique (non-repeating) elements in a NumPy array. In addition to identifying the unique elements, it can also return:\n",
    "\n",
    "- The indices where those unique elements first appear in the original array.\n",
    "\n",
    "- An array of indices that can be used to reconstruct the original array from the unique elements.\n",
    "\n",
    "- The count of occurrences of each unique element in the original array.\n",
    "\n",
    "**Syntax & Parameters**\n",
    "```python\n",
    "numpy.unique(ar, return_index=False, return_inverse=False, return_counts=False, axis=None)\n",
    "```\n",
    "\n",
    "| Parameter | Description |\n",
    "|:----------|:------------|\n",
    "| `ar` | Input array. It will be flattened if it is not 1-dimensional. |\n",
    "| `return_index` | If `True`, returns the indices of the first occurrences of the unique values in the original array. |\n",
    "| `return_inverse` | If `True`, returns the indices to reconstruct the original array from the unique values. |\n",
    "| `return_counts` | If `True`, returns the number of times each unique item appears. |\n",
    "| `axis` *(optional)* | If specified, finds unique values along the specified axis (advanced use). |\n",
    "\n",
    "\n",
    "**Return Values**\n",
    "\n",
    "Depending on the combination of optional flags (return_index, return_inverse, return_counts), the function returns:\n",
    "\n",
    "- Just the unique values (if no flags are True)\n",
    "\n",
    "- Or a tuple including:\n",
    "\n",
    "    - unique: Sorted unique values\n",
    "\n",
    "    - index: Indices of first occurrences (if return_index=True)\n",
    "\n",
    "    - inverse: Indices to reconstruct original (if return_inverse=True)\n",
    "\n",
    "    - counts: Count of each unique element (if return_counts=True)\n",
    "\n",
    "### Example Scenario - Student Grades Table\n",
    "\n",
    "Imagine you’re analyzing a small class's test scores:"
   ]
  },
  {
   "cell_type": "code",
   "execution_count": 72,
   "id": "e91d006e",
   "metadata": {},
   "outputs": [],
   "source": [
    "grades = np.array([\n",
    "    [90, 80, 70],\n",
    "    [90, 80, 70],\n",
    "    [85, 75, 65],\n",
    "    [90, 80, 70],\n",
    "    [85, 75, 65]\n",
    "])"
   ]
  },
  {
   "cell_type": "markdown",
   "id": "380ccbf2",
   "metadata": {},
   "source": [
    "Each row represents a student’s scores in 3 subjects.\n",
    "\n",
    "You want to know:\n",
    "\n",
    "- How many unique sets of scores exist (i.e., unique students by marks).\n",
    "\n",
    "- Which rows (students) are duplicates.\n",
    "\n",
    "- Optionally, get how many times each set of scores appears.\n",
    "\n",
    "Let’s use np.unique() with axis=0:"
   ]
  },
  {
   "cell_type": "code",
   "execution_count": 73,
   "id": "eaeee9e7",
   "metadata": {},
   "outputs": [
    {
     "name": "stdout",
     "output_type": "stream",
     "text": [
      "Unique Rows:\n",
      " [[85 75 65]\n",
      " [90 80 70]]\n",
      "First Occurrence Indices:\n",
      " [2 0]\n",
      "Inverse Indices:\n",
      " [1 1 0 1 0]\n",
      "Counts:\n",
      " [2 3]\n"
     ]
    }
   ],
   "source": [
    "unique_rows, indices, inverse, counts = np.unique(grades, return_index=True, return_counts=True, return_inverse=True, axis=0)\n",
    "\n",
    "print(\"Unique Rows:\\n\", unique_rows)\n",
    "print(\"First Occurrence Indices:\\n\", indices)\n",
    "print(\"Inverse Indices:\\n\", inverse)\n",
    "print(\"Counts:\\n\", counts)"
   ]
  },
  {
   "cell_type": "markdown",
   "id": "96b306cf",
   "metadata": {},
   "source": [
    "| Parameter | Meaning |\n",
    "|:----------|:--------|\n",
    "| `axis=0` | Find unique rows (students) in the array. |\n",
    "| `return_index=True` | Show index of first appearance of each unique row. |\n",
    "| `return_inverse=True` | Used to reconstruct the original array from unique rows. |\n",
    "| `return_counts=True` | Show how many times each row appears. |\n",
    "\n",
    "**Interpretation of output**\n",
    "\n",
    "**`unique_rows`:**\n",
    "\n",
    "Two unique score sets:  \n",
    "```\n",
    "[85 75 65]\n",
    "[90 80 70]\n",
    "```\n",
    "\n",
    "**`indices`:**  \n",
    "```\n",
    "[2 0]\n",
    "```\n",
    "Meaning:  \n",
    "- `[85 75 65]` was first seen at row 2  \n",
    "- `[90 80 70]` at row 0\n",
    "\n",
    "**`inverse`:**  \n",
    "```\n",
    "[1 1 0 1 0]\n",
    "```\n",
    "This means:  \n",
    "- 1st student → 2nd unique row  \n",
    "- 3rd student → 1st unique row  \n",
    "- 5th student → 1st unique row  \n",
    "\n",
    "**`counts`:**  \n",
    "\n",
    "```\n",
    "[2 3]\n",
    "```\n",
    "This means:  \n",
    "- `[85 75 65]` appears 2 times  \n",
    "- `[90 80 70]` appears 3 times  "
   ]
  },
  {
   "cell_type": "code",
   "execution_count": 74,
   "id": "6f342a18",
   "metadata": {},
   "outputs": [
    {
     "data": {
      "text/plain": [
       "array([[90, 80, 70],\n",
       "       [90, 80, 70],\n",
       "       [85, 75, 65],\n",
       "       [90, 80, 70],\n",
       "       [85, 75, 65]])"
      ]
     },
     "execution_count": 74,
     "metadata": {},
     "output_type": "execute_result"
    }
   ],
   "source": [
    "reconstructed = unique_rows[inverse]\n",
    "reconstructed"
   ]
  },
  {
   "cell_type": "markdown",
   "id": "40364142",
   "metadata": {},
   "source": [
    "### What if We Use axis=1?\n",
    "\n",
    "Let’s try to find unique columns instead of rows:"
   ]
  },
  {
   "cell_type": "code",
   "execution_count": 75,
   "id": "506c75f2",
   "metadata": {},
   "outputs": [
    {
     "name": "stdout",
     "output_type": "stream",
     "text": [
      "observed grades\n",
      " [[90 80 70]\n",
      " [90 80 70]\n",
      " [85 75 65]\n",
      " [90 80 70]\n",
      " [85 75 65]]\n",
      "\n",
      " unique col grades\n",
      " [[70 80 90]\n",
      " [70 80 90]\n",
      " [65 75 85]\n",
      " [70 80 90]\n",
      " [65 75 85]]\n"
     ]
    }
   ],
   "source": [
    "unique_cols = np.unique(grades, axis=1)\n",
    "\n",
    "print(\"observed grades\\n\", grades)\n",
    "\n",
    "print(\"\\n unique col grades\\n\", unique_cols)"
   ]
  },
  {
   "cell_type": "markdown",
   "id": "9ee8e628",
   "metadata": {},
   "source": [
    "It sorts and deduplicates columns, so axis=1 applies uniqueness column-wise, not row-wise.\n",
    "\n",
    "\n",
    "### 2. Numpy `in1d()` Function\n",
    "\n",
    "The numpy.in1d() function is useful for testing membership—that is, checking if elements from one array (ar1) are also present in another array (ar2). It returns a Boolean array where each element indicates whether the corresponding element from ar1 is found in ar2. This function can be especially useful for comparing data between two sets, such as checking if customers in a list received a promotion etc.\n",
    "\n",
    "**Syntax and Parameters**\n",
    "```python\n",
    "numpy.in1d(ar1, ar2, assume_unique=False, invert=False)\n",
    "```\n",
    "\n",
    "| Parameter       | Type         | Description |\n",
    "|----------------|--------------|-------------|\n",
    "| `ar1`           | array_like   | The first input array, whose elements you want to check for membership in `ar2`. This can be a 1D array. |\n",
    "| `ar2`           | array_like   | The second array against which you want to test for membership. It can also be a 1D array. |\n",
    "| `assume_unique` | bool, optional | If `True`, both `ar1` and `ar2` are assumed to contain no duplicates, making the function faster. Default is `False`. |\n",
    "| `invert`        | bool, optional | If `True`, the Boolean result is inverted: `True` means the element in `ar1` is **not** in `ar2`. Default is `False`. |\n",
    "\n",
    "\n",
    "**Return Type:**\n",
    "\n",
    "The function returns a 1D Boolean array with the same shape as ar1. The value is True if the corresponding element from ar1 is present in ar2, and False otherwise.\n",
    "\n",
    "### Example Scenario - running an online course\n",
    "\n",
    "Let’s say we are running an online course, and we have two lists:\n",
    "\n",
    "- **List of students who paid for the course** (`students_paid`)\n",
    "- **List of students who registered for the course** (`students_registered`)\n",
    "\n",
    "We want to check:\n",
    "\n",
    "- ✅ Which students from the paid list are also on the registration list (i.e., confirmed attendance).\n",
    "- ❌ Which students are missing from registration, so we can follow up.\n",
    "\n",
    "We'll use all parameters to:\n",
    "\n",
    "- Test membership.\n",
    "- Handle duplicates more efficiently with `assume_unique=True`.\n",
    "- Invert the result to find students **not registered**.\n",
    "\n",
    "\n"
   ]
  },
  {
   "cell_type": "code",
   "execution_count": 76,
   "id": "86882e65",
   "metadata": {},
   "outputs": [
    {
     "name": "stdout",
     "output_type": "stream",
     "text": [
      "\n",
      "Paid & Registered Students: [False False  True False  True False  True  True]\n"
     ]
    },
    {
     "name": "stderr",
     "output_type": "stream",
     "text": [
      "C:\\Users\\Z0228213\\AppData\\Local\\Temp\\ipykernel_23916\\4154801641.py:8: DeprecationWarning: `in1d` is deprecated. Use `np.isin` instead.\n",
      "  paid_registered = np.in1d(students_paid, students_registered)\n"
     ]
    }
   ],
   "source": [
    "# List of students who paid\n",
    "students_paid = np.array(['Alice', 'Bob', 'Charlie', 'David', 'Eva', 'Frank', 'Grace', 'Hannah'])\n",
    "\n",
    "# List of students who registered\n",
    "students_registered = np.array(['Charlie', 'Eva', 'Grace', 'Hannah', 'Jack'])\n",
    "\n",
    "# Check if paid students are registered\n",
    "paid_registered = np.in1d(students_paid, students_registered)\n",
    "print(\"\\nPaid & Registered Students:\", paid_registered)"
   ]
  },
  {
   "cell_type": "markdown",
   "id": "3864c2b1",
   "metadata": {},
   "source": [
    "- Charlie, Eva, Grace, and Hannah are registered as indicated by True.\n",
    "\n",
    "- Alice, Bob, David, and Frank are not found in the registration list, so they get False.\n",
    "\n",
    "Now, we want to identify the students who paid but did not register (to follow up with them). We can use the invert=True parameter to flip the Boolean array:"
   ]
  },
  {
   "cell_type": "code",
   "execution_count": 77,
   "id": "1b410f1f",
   "metadata": {},
   "outputs": [
    {
     "name": "stdout",
     "output_type": "stream",
     "text": [
      "Paid but Not Registered Students: [ True  True False  True False  True False False]\n"
     ]
    },
    {
     "name": "stderr",
     "output_type": "stream",
     "text": [
      "C:\\Users\\Z0228213\\AppData\\Local\\Temp\\ipykernel_23916\\2902474513.py:1: DeprecationWarning: `in1d` is deprecated. Use `np.isin` instead.\n",
      "  paid_not_registered = np.in1d(students_paid, students_registered, invert=True)\n"
     ]
    }
   ],
   "source": [
    "paid_not_registered = np.in1d(students_paid, students_registered, invert=True)\n",
    "print(\"Paid but Not Registered Students:\", paid_not_registered)"
   ]
  },
  {
   "cell_type": "markdown",
   "id": "9a2fd6e5",
   "metadata": {},
   "source": [
    "- Alice, Bob, David, and Frank are not registered, so they get True in the output (because we inverted the result).\n",
    "\n",
    "- Charlie, Eva, Grace, and Hannah are registered, so they get False.\n",
    "\n",
    "If we know that both students_paid and students_registered have no duplicate entries, we can set **`assume_unique=True`** to speed up the operation. This tells NumPy to skip checking for duplicates, making the function faster for large lists."
   ]
  },
  {
   "cell_type": "code",
   "execution_count": 78,
   "id": "c1521105",
   "metadata": {},
   "outputs": [
    {
     "name": "stdout",
     "output_type": "stream",
     "text": [
      "Paid & Registered Students (Unique): [False False  True False  True False  True  True]\n"
     ]
    },
    {
     "name": "stderr",
     "output_type": "stream",
     "text": [
      "C:\\Users\\Z0228213\\AppData\\Local\\Temp\\ipykernel_23916\\196042452.py:2: DeprecationWarning: `in1d` is deprecated. Use `np.isin` instead.\n",
      "  paid_registered_unique = np.in1d(students_paid, students_registered, assume_unique=True)\n"
     ]
    }
   ],
   "source": [
    "# Using assume_unique=True to speed up the process\n",
    "paid_registered_unique = np.in1d(students_paid, students_registered, assume_unique=True)\n",
    "print(\"Paid & Registered Students (Unique):\", paid_registered_unique)"
   ]
  },
  {
   "cell_type": "markdown",
   "id": "746687b5",
   "metadata": {},
   "source": [
    "The result remains the same, but with assume_unique=True, NumPy can skip the duplicate check and process the arrays faster, especially when the arrays are large.\n",
    "\n",
    "### Example with Duplicates (Where assume_unique=False):\n",
    "\n",
    "If the arrays have duplicates, we can see the effect of not assuming uniqueness.\n"
   ]
  },
  {
   "cell_type": "code",
   "execution_count": 79,
   "id": "a9e8fea7",
   "metadata": {},
   "outputs": [
    {
     "name": "stdout",
     "output_type": "stream",
     "text": [
      "Paid & Registered Students with Duplicates: [False False  True  True False  True False False  True  True]\n"
     ]
    },
    {
     "name": "stderr",
     "output_type": "stream",
     "text": [
      "C:\\Users\\Z0228213\\AppData\\Local\\Temp\\ipykernel_23916\\42306913.py:6: DeprecationWarning: `in1d` is deprecated. Use `np.isin` instead.\n",
      "  paid_registered_with_duplicates = np.in1d(students_paid_duplicates, students_registered_duplicates, assume_unique=False)\n"
     ]
    }
   ],
   "source": [
    "# Add duplicates to the lists\n",
    "students_paid_duplicates = np.array(['Alice', 'Bob', 'Charlie', 'Charlie', 'David', 'Eva', 'Frank', 'Frank', 'Grace', 'Hannah'])\n",
    "students_registered_duplicates = np.array(['Charlie', 'Eva', 'Grace', 'Hannah', 'Jack', 'Charlie'])\n",
    "\n",
    "# Check if paid students are registered (with duplicates in lists)\n",
    "paid_registered_with_duplicates = np.in1d(students_paid_duplicates, students_registered_duplicates, assume_unique=False)\n",
    "print(\"Paid & Registered Students with Duplicates:\", paid_registered_with_duplicates)\n"
   ]
  },
  {
   "cell_type": "markdown",
   "id": "942224b3",
   "metadata": {},
   "source": [
    "- We have duplicates like Charlie and Frank in students_paid_duplicates, and Charlie in students_registered_duplicates.\n",
    "\n",
    "- Charlie is correctly marked as registered both times in the output.\n",
    "\n",
    "- Frank is marked as not registered, even though it appears twice in students_paid_duplicates.\n",
    "\n",
    "\n",
    "**Summary**\n",
    "\n",
    "- **Without `invert`**: You get `True` when an element in `ar1` is found in `ar2`.\n",
    "\n",
    "- **With `invert=True`**: The result is flipped—`True` means the element in `ar1` is **not** found in `ar2`.\n",
    "\n",
    "- **With `assume_unique=True`**: Faster performance, assuming no duplicates in the arrays.\n",
    "\n",
    "- **With `assume_unique=False`**: Checks duplicates, and the result reflects whether each occurrence in `ar1` is found in `ar2`.\n",
    "\n",
    "-----"
   ]
  },
  {
   "cell_type": "markdown",
   "id": "11dff4a1",
   "metadata": {},
   "source": [
    "# ***Iterating Over Array in NumPy***\n",
    "\n",
    "accessing each element in a systematic way to perform operations like calculations, checks, or modifications. NumPy offers several methods to iterate efficiently, especially over multi-dimensional arrays.\n",
    "\n",
    "Different Ways to Iterate Over NumPy Arrays\n",
    "\n",
    "- Using Basic for Loops\n",
    "\n",
    "- Iterating with Indices\n",
    "\n",
    "- Using nditer() Iterator\n",
    "\n",
    "- Flat Iteration\n",
    "\n",
    "\n",
    "- Controlling Iteration Order\n",
    "\n",
    "- Broadcasting Iteration\n",
    "\n",
    "- Vectorized Operations (No explicit loop)\n",
    "\n",
    "- External Loop\n",
    "\n",
    "- Modifying Array Values During Iteration\n",
    "\n",
    "\n",
    "## **Using Basic for Loops**\n",
    "\n",
    "Python’s native for loop can be used to iterate over NumPy arrays"
   ]
  },
  {
   "cell_type": "code",
   "execution_count": 80,
   "id": "c9f23838",
   "metadata": {},
   "outputs": [
    {
     "name": "stdout",
     "output_type": "stream",
     "text": [
      "1\n",
      "2\n",
      "3\n",
      "4\n",
      "5\n"
     ]
    }
   ],
   "source": [
    "import numpy as np\n",
    "\n",
    "arr = np.array([1, 2, 3, 4, 5])\n",
    "\n",
    "for element in arr:\n",
    "    print(element)"
   ]
  },
  {
   "cell_type": "markdown",
   "id": "128e968f",
   "metadata": {},
   "source": [
    "> When you iterate over a multi-dimensional array using a for loop, you do not get individual values — you get sub-arrays at the next depth."
   ]
  },
  {
   "cell_type": "code",
   "execution_count": 81,
   "id": "deea9ec3",
   "metadata": {},
   "outputs": [
    {
     "name": "stdout",
     "output_type": "stream",
     "text": [
      "[1 2 3]\n",
      "[4 5 6]\n",
      "[7 8 9]\n"
     ]
    }
   ],
   "source": [
    "# 2D Array (Matrix) — Iterating by Rows\n",
    "\n",
    "arr_2d = np.array([[1, 2, 3],\n",
    "                   [4, 5, 6],\n",
    "                   [7, 8, 9]])\n",
    "\n",
    "for row in arr_2d:\n",
    "    print(row)\n"
   ]
  },
  {
   "cell_type": "code",
   "execution_count": 82,
   "id": "ce91f071",
   "metadata": {},
   "outputs": [
    {
     "name": "stdout",
     "output_type": "stream",
     "text": [
      "[[1 2 3]\n",
      " [4 5 6]]\n",
      "[[ 7  8  9]\n",
      " [10 11 12]]\n"
     ]
    }
   ],
   "source": [
    "# 3D Array — Iterating by 2D Matrices\n",
    "\n",
    "arr_3d = np.array([[[1, 2, 3],\n",
    "                    [4, 5, 6]],\n",
    "                   [[7, 8, 9],\n",
    "                    [10, 11, 12]]])\n",
    "\n",
    "for matrix in arr_3d:\n",
    "    print(matrix)\n"
   ]
  },
  {
   "cell_type": "code",
   "execution_count": 83,
   "id": "61dfe468",
   "metadata": {},
   "outputs": [
    {
     "name": "stdout",
     "output_type": "stream",
     "text": [
      "1\n",
      "2\n",
      "3\n",
      "4\n",
      "5\n",
      "6\n",
      "7\n",
      "8\n",
      "9\n"
     ]
    }
   ],
   "source": [
    "# Iterating Over Individual Elements in Multi-Dimensional Arrays\n",
    "\n",
    "arr_2d = np.array([[1, 2, 3],\n",
    "                   [4, 5, 6],\n",
    "                   [7, 8, 9]])\n",
    "\n",
    "for i in range(arr_2d.shape[0]):       # Rows\n",
    "    for j in range(arr_2d.shape[1]):   # Columns\n",
    "        print(arr_2d[i, j])\n"
   ]
  },
  {
   "cell_type": "markdown",
   "id": "19239871",
   "metadata": {},
   "source": [
    "##  **Iterating with Indices**"
   ]
  },
  {
   "cell_type": "code",
   "execution_count": 84,
   "id": "7e0bddc4",
   "metadata": {},
   "outputs": [
    {
     "name": "stdout",
     "output_type": "stream",
     "text": [
      "Element at (0, 0): 1\n",
      "Element at (0, 1): 2\n",
      "Element at (0, 2): 3\n",
      "Element at (1, 0): 4\n",
      "Element at (1, 1): 5\n",
      "Element at (1, 2): 6\n",
      "Element at (2, 0): 7\n",
      "Element at (2, 1): 8\n",
      "Element at (2, 2): 9\n"
     ]
    }
   ],
   "source": [
    "arr_2d = np.array([[1, 2, 3],\n",
    "                   [4, 5, 6],\n",
    "                   [7, 8, 9]])\n",
    "\n",
    "rows, cols = arr_2d.shape\n",
    "\n",
    "for i in range(rows):\n",
    "    for j in range(cols):\n",
    "        print(f\"Element at ({i}, {j}): {arr_2d[i, j]}\")\n"
   ]
  },
  {
   "cell_type": "markdown",
   "id": "49766a83",
   "metadata": {},
   "source": [
    "## **Using np.nditer()**\n",
    "\n",
    "The nditer() function in NumPy offers a fast and flexible way to loop through each element of a NumPy array, no matter how many dimensions it has. It follows Python’s regular iteration rules, making it easy to access every value in the array one by one.\n",
    "\n",
    "**Syntax & Parameters**\n",
    "```python\n",
    "np.nditer(op, flags=None, op_flags=None, order='K', casting='safe', op_dtypes=None, ...)\n",
    "```\n",
    "\n",
    "| Parameter     | Description |\n",
    "|---------------|-------------|\n",
    "| `op`          | The array (or arrays) you want to iterate over. |\n",
    "| `flags`       | Controls how the iteration happens (e.g., `'multi_index'`, `'external_loop'`). |\n",
    "| `op_flags`    | Tells if you're reading, writing, or both (`'readonly'`, `'readwrite'`, `'writeonly'`). |\n",
    "| `order`       | Iteration order: `'C'` (row-major), `'F'` (column-major), or `'K'` (as in memory). |\n",
    "| `op_dtypes`   | You can specify data types for iteration if needed. |\n",
    "| `broadcasting`| If iterating multiple arrays, they should be broadcast-compatible. |\n"
   ]
  },
  {
   "cell_type": "code",
   "execution_count": 85,
   "id": "d630772e",
   "metadata": {},
   "outputs": [
    {
     "name": "stdout",
     "output_type": "stream",
     "text": [
      "1\n",
      "2\n",
      "3\n",
      "4\n",
      "[[10 20]\n",
      " [30 40]]\n",
      "Value: 10, at index: (0, 0)\n",
      "Value: 20, at index: (0, 1)\n",
      "Value: 30, at index: (1, 0)\n",
      "Value: 40, at index: (1, 1)\n",
      "10 11\n",
      "20 21\n",
      "30 31\n",
      "40 41\n"
     ]
    }
   ],
   "source": [
    "# basic\n",
    "a = np.array([[1, 2],\n",
    "                [3, 4]])\n",
    "\n",
    "for x in np.nditer(a):\n",
    "    print(x)\n",
    "\n",
    "# Modifying (writing to) array elements\n",
    "\n",
    "for x in np.nditer(a, op_flags=['readwrite']):\n",
    "    x[...] = x * 10\n",
    "\n",
    "print(a)\n",
    "\n",
    "# Iterating with Multi-Index (get row, col info)\n",
    "\n",
    "it = np.nditer(a, flags=['multi_index'])\n",
    "for x in it:\n",
    "    print(f\"Value: {x}, at index: {it.multi_index}\")\n",
    "\n",
    "# Iterating Two Arrays Together\n",
    "\n",
    "b = np.array([[11, 21], [31, 41]])\n",
    "\n",
    "for x, y in np.nditer([a, b]):\n",
    "    print(x, y)\n",
    "\n",
    "# keep in mind if you are trying to iterate over two arrays at same time be sure their shapes are same, else do brodacast or reshape"
   ]
  },
  {
   "cell_type": "markdown",
   "id": "b3be57dc",
   "metadata": {},
   "source": [
    "**Use `nditer()` when:**\n",
    "\n",
    "- You want to loop through every element of an n-dimensional array.\n",
    "- You need to modify elements while looping.\n",
    "- You need to track indices using `multi_index`.\n",
    "- You are working with multiple arrays together (e.g., adding two arrays).\n",
    "- You want more performance and control over the iteration.\n"
   ]
  },
  {
   "cell_type": "markdown",
   "id": "558d80f0",
   "metadata": {},
   "source": [
    "## **Flat Iteration**\n",
    "\n",
    "Flat iteration means going through each value in a multi-dimensional array one by one, just like it's a simple one-dimensional list. It’s helpful when you want to work on every element without worrying about the array's shape or number of dimensions."
   ]
  },
  {
   "cell_type": "code",
   "execution_count": 86,
   "id": "f7f4afe2",
   "metadata": {},
   "outputs": [
    {
     "name": "stdout",
     "output_type": "stream",
     "text": [
      "1 2 3 4 5 6 "
     ]
    }
   ],
   "source": [
    "arr = np.array([[1, 2, 3],\n",
    "                [4, 5, 6]])\n",
    "\n",
    "for x in np.nditer(arr, flags=['buffered']):\n",
    "    print(x, end=' ')\n"
   ]
  },
  {
   "cell_type": "markdown",
   "id": "d334fb18",
   "metadata": {},
   "source": [
    "## **Controlling Iteration Order (order='C' vs order='F')**\n",
    "\n",
    "Iteration order affects which direction elements are accessed:\n",
    "\n",
    "- 'C' = row-major (default, like C programming)\n",
    "\n",
    "- 'F' = column-major (like Fortran)"
   ]
  },
  {
   "cell_type": "code",
   "execution_count": 87,
   "id": "f283244b",
   "metadata": {},
   "outputs": [
    {
     "name": "stdout",
     "output_type": "stream",
     "text": [
      "[[1 2]\n",
      " [3 4]]\n",
      "C-style:\n",
      "1\n",
      "2\n",
      "3\n",
      "4\n",
      "F-style:\n",
      "1\n",
      "3\n",
      "2\n",
      "4\n"
     ]
    }
   ],
   "source": [
    "arr = np.array([[1, 2], [3, 4]])\n",
    "print(arr)\n",
    "\n",
    "print(\"C-style:\")\n",
    "for x in np.nditer(arr, order='C'):\n",
    "    print(x)\n",
    "\n",
    "print(\"F-style:\")\n",
    "for x in np.nditer(arr, order='F'):\n",
    "    print(x)\n"
   ]
  },
  {
   "cell_type": "markdown",
   "id": "6fec763f",
   "metadata": {},
   "source": [
    "## **Modifying Elements During Iteration (op_flags)**\n",
    "\n",
    "By default, nditer() doesn’t allow modifications. You must specify op_flags=['readwrite'] to allow writing to the original array.\n",
    "this is already covered in above explanation of nditer, but still look into the below example"
   ]
  },
  {
   "cell_type": "code",
   "execution_count": 88,
   "id": "3f9833c9",
   "metadata": {},
   "outputs": [
    {
     "name": "stdout",
     "output_type": "stream",
     "text": [
      "[2 4 6]\n"
     ]
    }
   ],
   "source": [
    "arr = np.array([1, 2, 3])\n",
    "\n",
    "with np.nditer(arr, op_flags=['readwrite']) as it:\n",
    "    for x in it:\n",
    "        x[...] = x * 2\n",
    "\n",
    "print(arr)\n"
   ]
  },
  {
   "cell_type": "markdown",
   "id": "a0a7b1f5",
   "metadata": {},
   "source": [
    "## **Broadcasting While Iterating (Multiple Arrays)**\n",
    "\n",
    "**Broadcasting iteration** in NumPy means looping over multiple arrays at the same time, even if their shapes are not exactly the same — as long as they are compatible.\n",
    "\n",
    "NumPy automatically adjusts (or \"broadcasts\") the shapes so that element-wise operations can be done efficiently, without needing to reshape or align the arrays manually.\n",
    "\n",
    "#### Example\n",
    "\n",
    "In the example below, we loop through two arrays `arr1` and `arr2` at the same time using the `nditer()` function.\n",
    "\n",
    "Each corresponding pair of elements from `arr1` and `arr2` is added together. This shows how you can perform element-wise operations across arrays of different shapes without extra code."
   ]
  },
  {
   "cell_type": "code",
   "execution_count": 89,
   "id": "1b2cada0",
   "metadata": {},
   "outputs": [
    {
     "name": "stdout",
     "output_type": "stream",
     "text": [
      "11 22 33 "
     ]
    }
   ],
   "source": [
    "a = np.array([1, 2, 3])\n",
    "b = np.array([10, 20, 30])\n",
    "\n",
    "for x, y in np.nditer([a, b]):\n",
    "    print(x + y, end=\" \")\n"
   ]
  },
  {
   "cell_type": "markdown",
   "id": "ebe2d06e",
   "metadata": {},
   "source": [
    "## **External Loop Flag**\n",
    "\n",
    "Flag external_loop makes iteration faster by returning chunks (e.g., rows or blocks) instead of individual scalars."
   ]
  },
  {
   "cell_type": "code",
   "execution_count": 90,
   "id": "40757b27",
   "metadata": {},
   "outputs": [
    {
     "name": "stdout",
     "output_type": "stream",
     "text": [
      "[1 2 3 4 5 6]\n"
     ]
    }
   ],
   "source": [
    "arr = np.array([[1, 2, 3], [4, 5, 6]])\n",
    "\n",
    "for row in np.nditer(arr, flags=['external_loop']):\n",
    "    print(row)\n"
   ]
  },
  {
   "cell_type": "markdown",
   "id": "ebb227dd",
   "metadata": {},
   "source": [
    "## **Vectorized Operations (Preferred Over Loops When Possible)**\n",
    "\n",
    "Instead of looping through array elements manually, NumPy is designed to do operations on whole arrays at once."
   ]
  },
  {
   "cell_type": "code",
   "execution_count": 91,
   "id": "efeaf9f4",
   "metadata": {},
   "outputs": [
    {
     "name": "stdout",
     "output_type": "stream",
     "text": [
      "Vectorized Operations:\n",
      "Result of multiplication: [10 20 30 40]\n",
      "Result of addition: [11 22 33 44]\n"
     ]
    }
   ],
   "source": [
    "print(\"Vectorized Operations:\")\n",
    "arr1 = np.array([1, 2, 3, 4])\n",
    "result = arr1 * 10\n",
    "print(\"Result of multiplication:\", result)\n",
    "\n",
    "\n",
    "arr2 = np.array([10, 20, 30, 40])\n",
    "\n",
    "# Vectorized addition operation\n",
    "result = arr1 + arr2\n",
    "\n",
    "\n",
    "print(\"Result of addition:\", result)\n"
   ]
  },
  {
   "cell_type": "markdown",
   "id": "f40fb103",
   "metadata": {},
   "source": [
    "-----"
   ]
  },
  {
   "cell_type": "markdown",
   "id": "11ecb6a4",
   "metadata": {},
   "source": [
    "## ***NumPy Indexing and Slicing***\n",
    "\n",
    "NumPy indexing is used to access or modify elements in an array. It supports:\n",
    "\n",
    "- Basic Indexing – Accessing elements using integer indices\n",
    "\n",
    "- Slicing – Extracting a portion of the array using a range\n",
    "\n",
    "- Advanced Indexing – Using arrays/lists of indices or boolean masks (covered in-depth later)\n"
   ]
  },
  {
   "cell_type": "code",
   "execution_count": 92,
   "id": "45dc052c",
   "metadata": {},
   "outputs": [
    {
     "name": "stdout",
     "output_type": "stream",
     "text": [
      "1D Array: [ 86  98 100  65  75]\n",
      "3rd student's score: 100\n",
      "Scores from 2nd to 4th student: [ 98 100  65]\n",
      "Last two scores: [65 75]\n",
      "Scores at even indices: [ 86 100  75]\n",
      "Reversed scores: [ 75  65 100  98  86]\n",
      "\n",
      "2D Array (Student Scores):\n",
      " [[85 90 95]\n",
      " [78 88 92]\n",
      " [69 76 80]\n",
      " [91 94 97]]\n",
      "2nd student's 3rd subject score: 92\n",
      "3rd student's scores: [69 76 80]\n",
      "Scores in 2nd subject: [90 88 76 94]\n",
      "Submatrix (2nd–3rd students, 1st–2nd subjects):\n",
      " [[78 88]\n",
      " [69 76]]\n",
      "Scores from 2nd student onward:\n",
      " [[78 88 92]\n",
      " [69 76 80]\n",
      " [91 94 97]]\n",
      "Middle students' last subject scores: [92 80]\n"
     ]
    }
   ],
   "source": [
    "\n",
    "# 1D Array Example: Marks of 5 students\n",
    "marks = np.array([86, 98, 100, 65, 75])\n",
    "print(\"1D Array:\", marks)\n",
    "\n",
    "# Accessing a single element (3rd student's score)\n",
    "print(\"3rd student's score:\", marks[2])  # Indexing starts at 0\n",
    "\n",
    "# Accessing a range (from 2nd to 4th student)\n",
    "print(\"Scores from 2nd to 4th student:\", marks[1:4])  # index 1 to 3\n",
    "\n",
    "# Accessing last two scores using negative indexing\n",
    "print(\"Last two scores:\", marks[-2:])  # from second-last to end\n",
    "\n",
    "# Accessing every second score (even-indexed positions)\n",
    "print(\"Scores at even indices:\", marks[::2])  # 0, 2, 4\n",
    "\n",
    "# Reversing the array\n",
    "print(\"Reversed scores:\", marks[::-1])\n",
    "\n",
    "# 2D Array Example: Each row is a student, columns are scores in 3 subjects\n",
    "scores = np.array([\n",
    "    [85, 90, 95],   # Student 1\n",
    "    [78, 88, 92],   # Student 2\n",
    "    [69, 76, 80],   # Student 3\n",
    "    [91, 94, 97]    # Student 4\n",
    "])\n",
    "print(\"\\n2D Array (Student Scores):\\n\", scores)\n",
    "\n",
    "# Accessing a specific element: 2nd student's 3rd subject\n",
    "print(\"2nd student's 3rd subject score:\", scores[1, 2])  # row 1, col 2\n",
    "\n",
    "# Accessing a full row: all scores of 3rd student\n",
    "print(\"3rd student's scores:\", scores[2])  # row 2\n",
    "\n",
    "# Accessing a full column: scores in 2nd subject\n",
    "print(\"Scores in 2nd subject:\", scores[:, 1])  # all rows, col 1\n",
    "\n",
    "# Accessing a submatrix: 2nd and 3rd students, 1st and 2nd subjects\n",
    "print(\"Submatrix (2nd–3rd students, 1st–2nd subjects):\\n\", scores[1:3, 0:2])\n",
    "\n",
    "# Accessing from a certain row onward (e.g., from 2nd student to last)\n",
    "print(\"Scores from 2nd student onward:\\n\", scores[1:])\n",
    "\n",
    "# Accessing a specific range: only middle two students and their last subject\n",
    "print(\"Middle students' last subject scores:\", scores[1:3, 2])"
   ]
  },
  {
   "cell_type": "markdown",
   "id": "b57e9567",
   "metadata": {},
   "source": [
    "## **Advanced Indexing**\n",
    "\n",
    "Advanced indexing allows you to select specific elements from a NumPy array using:\n",
    "\n",
    "- Integer arrays\n",
    "\n",
    "- Boolean arrays\n",
    "\n",
    "Unlike basic slicing (like arr[1:4]), which returns a view (i.e., changes affect the original array), advanced indexing returns a copy. This is critical to understand because changes to the result won’t affect the original array.\n",
    "\n",
    "***Integer Indexing***\n",
    "\n",
    "You use integer arrays (lists or NumPy arrays of integers) to pick specific items by position.\n",
    "\n",
    "**Syntax:**\n",
    "```python\n",
    "result = arr[rows, cols]\n",
    "```\n",
    "\n",
    "Here, rows and cols must be arrays (or lists) of the same shape. Each (row[i], col[i]) selects one element."
   ]
  },
  {
   "cell_type": "code",
   "execution_count": null,
   "id": "e2e506d5",
   "metadata": {},
   "outputs": [
    {
     "name": "stdout",
     "output_type": "stream",
     "text": [
      "Original array:\n",
      " [[1 2]\n",
      " [3 4]\n",
      " [5 6]]\n",
      "Selected elements: [1 4 5]\n"
     ]
    }
   ],
   "source": [
    "x = np.array([[1, 2],\n",
    "              [3, 4],\n",
    "              [5, 6]])\n",
    "\n",
    "# Select elements: (0,0), (1,1), (2,0)\n",
    "y = x[[0, 1, 2], [0, 1, 0]]\n",
    "\n",
    "print(\"Original array:\\n\", x)\n",
    "print(\"Selected elements:\", y)\n",
    "\n",
    "\n",
    "\"\"\"\n",
    "Row 0, Column 0 → 1\n",
    "\n",
    "Row 1, Column 1 → 4\n",
    "\n",
    "Row 2, Column 0 → 5\n",
    "\"\"\"\n"
   ]
  },
  {
   "cell_type": "code",
   "execution_count": null,
   "id": "4129c8d4",
   "metadata": {},
   "outputs": [
    {
     "name": "stdout",
     "output_type": "stream",
     "text": [
      "Corner elements:\n",
      " [[ 0  2]\n",
      " [ 9 11]]\n"
     ]
    }
   ],
   "source": [
    "# Selecting elements at corners\n",
    "rows = np.array([[0, 0], [3, 3]])\n",
    "cols = np.array([[0, 2], [0, 2]])\n",
    "\n",
    "corners = x[rows, cols]\n",
    "print(\"Corner elements:\\n\", corners)\n",
    "\n",
    "\"\"\"\n",
    "You selected:\n",
    "\n",
    "(0,0), (0,2), (3,0), and (3,2)\n",
    "\"\"\"\n"
   ]
  },
  {
   "cell_type": "code",
   "execution_count": 95,
   "id": "1392e717",
   "metadata": {},
   "outputs": [
    {
     "ename": "IndexError",
     "evalue": "index 3 is out of bounds for axis 0 with size 3",
     "output_type": "error",
     "traceback": [
      "\u001b[1;31m---------------------------------------------------------------------------\u001b[0m",
      "\u001b[1;31mIndexError\u001b[0m                                Traceback (most recent call last)",
      "Cell \u001b[1;32mIn[95], line 3\u001b[0m\n\u001b[0;32m      1\u001b[0m \u001b[38;5;66;03m# Index Out of Bounds Error\u001b[39;00m\n\u001b[0;32m      2\u001b[0m x \u001b[38;5;241m=\u001b[39m np\u001b[38;5;241m.\u001b[39marray([[\u001b[38;5;241m0\u001b[39m, \u001b[38;5;241m1\u001b[39m], [\u001b[38;5;241m2\u001b[39m, \u001b[38;5;241m3\u001b[39m], [\u001b[38;5;241m4\u001b[39m, \u001b[38;5;241m65\u001b[39m]])\n\u001b[1;32m----> 3\u001b[0m \u001b[38;5;28mprint\u001b[39m(\u001b[43mx\u001b[49m\u001b[43m[\u001b[49m\u001b[38;5;241;43m3\u001b[39;49m\u001b[43m,\u001b[49m\u001b[43m \u001b[49m\u001b[38;5;241;43m1\u001b[39;49m\u001b[43m]\u001b[49m)  \u001b[38;5;66;03m# This will raise an error\u001b[39;00m\n",
      "\u001b[1;31mIndexError\u001b[0m: index 3 is out of bounds for axis 0 with size 3"
     ]
    }
   ],
   "source": [
    "# Index Out of Bounds Error\n",
    "x = np.array([[0, 1], [2, 3], [4, 65]])\n",
    "print(x[3, 1])  # This will raise an error\n"
   ]
  },
  {
   "cell_type": "markdown",
   "id": "9d59561c",
   "metadata": {},
   "source": [
    "***Boolean Indexing***\n",
    "\n",
    "You use a Boolean array (True/False values) to filter elements.\n",
    "\n",
    "**Syntax**:\n",
    "```python\n",
    "result = arr[condition]\n",
    "```\n",
    "Each True in the condition means \"include this element\"."
   ]
  },
  {
   "cell_type": "code",
   "execution_count": 96,
   "id": "12c752c5",
   "metadata": {},
   "outputs": [
    {
     "name": "stdout",
     "output_type": "stream",
     "text": [
      "[10 30 50]\n"
     ]
    }
   ],
   "source": [
    "arr = np.array([10, 20, 30, 40, 50])\n",
    "mask = np.array([True, False, True, False, True])\n",
    "print(arr[mask])"
   ]
  },
  {
   "cell_type": "code",
   "execution_count": 97,
   "id": "a0187d0b",
   "metadata": {},
   "outputs": [
    {
     "name": "stdout",
     "output_type": "stream",
     "text": [
      "[ 6  7  8  9 10 11]\n"
     ]
    }
   ],
   "source": [
    "x = np.array([[ 0,  1,  2],\n",
    "              [ 3,  4,  5],\n",
    "              [ 6,  7,  8],\n",
    "              [ 9, 10, 11]])\n",
    "\n",
    "print(x[x > 5])  # Only values greater than 5\n"
   ]
  },
  {
   "cell_type": "code",
   "execution_count": 98,
   "id": "c2fe7374",
   "metadata": {},
   "outputs": [
    {
     "name": "stdout",
     "output_type": "stream",
     "text": [
      "[1. 2. 3. 4. 5.]\n"
     ]
    }
   ],
   "source": [
    "a = np.array([np.nan, 1, 2, np.nan, 3, 4, 5])\n",
    "filtered = a[~np.isnan(a)]  # ~ means NOT\n",
    "print(filtered)\n"
   ]
  },
  {
   "cell_type": "code",
   "execution_count": 99,
   "id": "0a0340b9",
   "metadata": {},
   "outputs": [
    {
     "name": "stdout",
     "output_type": "stream",
     "text": [
      "[2. +6.j 3.5+5.j]\n"
     ]
    }
   ],
   "source": [
    "a = np.array([1, 2+6j, 5, 3.5+5j])\n",
    "print(a[np.iscomplex(a)])\n"
   ]
  },
  {
   "cell_type": "markdown",
   "id": "6f0bcde1",
   "metadata": {},
   "source": [
    "___\n",
    "\n",
    "## ***NumPy - Array Attributes***\n",
    "\n",
    "Attributes in NumPy provide information about the array itself, not the data. They describe the array’s shape, data type, memory layout, size, and more.\n",
    "\n",
    "Unlike methods (which are called with parentheses, like array.sum()), attributes are accessed without parentheses—e.g., array.shape, not array.shape().\n",
    "\n",
    "✅ **List of All Important NumPy Array Attributes**  \n",
    "We will cover the following attributes with structured explanations:\n",
    "\n",
    "| Attribute    | Description                                             |\n",
    "|--------------|---------------------------------------------------------|\n",
    "| ndim         | Number of dimensions (axes)                             |\n",
    "| shape        | Tuple showing the size of each dimension                |\n",
    "| size         | Total number of elements in the array                   |\n",
    "| dtype        | Data type of elements in the array                      |\n",
    "| itemsize     | Size (in bytes) of each item                            |\n",
    "| nbytes       | Total memory (in bytes) consumed by the array           |\n",
    "| T            | Transposed view of the array                            |\n",
    "| data         | Memory address of the data buffer                       |\n",
    "| strides      | Steps in bytes to move along each dimension             |\n",
    "| flags        | Memory layout info (e.g., contiguous, writable)         |\n",
    "| base         | Reference to the original array (if a view)             |\n",
    "| real / imag  | Real and imaginary parts (for complex arrays)           |\n"
   ]
  },
  {
   "cell_type": "code",
   "execution_count": null,
   "id": "46ecb672",
   "metadata": {},
   "outputs": [
    {
     "name": "stdout",
     "output_type": "stream",
     "text": [
      "Array:\n",
      " [[1 2 3]\n",
      " [4 5 6]]\n",
      "ndim       : 2\n",
      "shape      : (2, 3)\n",
      "size       : 6\n",
      "dtype      : int64\n",
      "itemsize   : 8\n",
      "nbytes     : 48\n",
      "strides    : (24, 8)\n",
      "T (Transpose):\n",
      " [[1 4]\n",
      " [2 5]\n",
      " [3 6]]\n"
     ]
    },
    {
     "data": {
      "text/plain": [
       "array([[1, 2, 3],\n",
       "       [4, 5, 6]])"
      ]
     },
     "execution_count": 103,
     "metadata": {},
     "output_type": "execute_result"
    }
   ],
   "source": [
    "# Create a 2D array\n",
    "a = np.array([[1, 2, 3], [4, 5, 6]])\n",
    "\n",
    "print(\"Array:\\n\", a)\n",
    "print(\"ndim       :\", a.ndim)        # Number of dimensions\n",
    "print(\"shape      :\", a.shape)       # Tuple of dimensions\n",
    "print(\"size       :\", a.size)        # Total number of elements\n",
    "print(\"dtype      :\", a.dtype)       # Data type of elements\n",
    "print(\"itemsize   :\", a.itemsize)    # Bytes per element\n",
    "print(\"nbytes     :\", a.nbytes)      # Total memory usage, itemsize*size\n",
    "print(\"strides    :\", a.strides)     # Byte steps per axis(8*3 for each ele)\n",
    "print(\"T (Transpose):\\n\", a.T)       # Transpose of array\n",
    "\n",
    "# But these attributes doesnt disturb the original array as below\n",
    "a"
   ]
  },
  {
   "cell_type": "code",
   "execution_count": 107,
   "id": "873152dd",
   "metadata": {},
   "outputs": [
    {
     "name": "stdout",
     "output_type": "stream",
     "text": [
      "flags      :\n",
      "   C_CONTIGUOUS : True\n",
      "  F_CONTIGUOUS : False\n",
      "  OWNDATA : True\n",
      "  WRITEABLE : True\n",
      "  ALIGNED : True\n",
      "  WRITEBACKIFCOPY : False\n",
      "\n",
      "data       : <memory at 0x0000028B63030A00>\n",
      "base       : None\n",
      "Complex Array: [1.+2.j 3.+4.j]\n",
      "Real part : [1. 3.]\n",
      "Imag part : [2. 4.]\n",
      "Complex conjugate : [1.-2.j 3.-4.j]\n",
      "angle of complex argument: [63.43494882 53.13010235]\n"
     ]
    }
   ],
   "source": [
    "# Advanced attributes\n",
    "\n",
    "print(\"flags      :\\n\", a.flags)      # Memory layout info\n",
    "print(\"data       :\", a.data)        # Pointer to memory buffer\n",
    "print(\"base       :\", a.base)        # If it's a view, shows original array\n",
    "\n",
    "# Complex array example\n",
    "b = np.array([1 + 2j, 3 + 4j])\n",
    "print(\"Complex Array:\", b)\n",
    "print(\"Real part :\", b.real) # real part of number\n",
    "print(\"Imag part :\", b.imag) # complex part of number\n",
    "print(\"Complex conjugate :\", np.conj(b))\n",
    "print(\"angle of complex argument:\", np.angle(b, deg=True))\n"
   ]
  },
  {
   "cell_type": "markdown",
   "id": "ae49e588",
   "metadata": {},
   "source": [
    "### NumPy Array Flags\n",
    "\n",
    "NumPy provides several flags that describe different aspects of the array's memory layout and properties:\n",
    "\n",
    "| Sr.No. | Attribute & Description                                               |\n",
    "|--------|----------------------------------------------------------------------|\n",
    "| 1      | **C_CONTIGUOUS (C)**: The data is in a single, C-style contiguous segment. |\n",
    "| 2      | **F_CONTIGUOUS (F)**: The data is in a single, Fortran-style contiguous segment. |\n",
    "| 3      | **OWNDATA (O)**: The array owns the memory it uses or borrows it from another object. |\n",
    "| 4      | **WRITEABLE (W)**: The data area can be written to. Setting this to False locks the data, making it read-only. |\n",
    "| 5      | **ALIGNED (A)**: The data and all elements are aligned appropriately for the hardware. |\n",
    "| 6      | **WRITEBACKIFCOPY (U)**: This array is a copy of some other array. When this array is deallocated, the base array will be updated with the contents of this array. |\n"
   ]
  },
  {
   "cell_type": "code",
   "execution_count": null,
   "id": "bd2637d6",
   "metadata": {},
   "outputs": [],
   "source": []
  }
 ],
 "metadata": {
  "kernelspec": {
   "display_name": ".venv",
   "language": "python",
   "name": "python3"
  },
  "language_info": {
   "codemirror_mode": {
    "name": "ipython",
    "version": 3
   },
   "file_extension": ".py",
   "mimetype": "text/x-python",
   "name": "python",
   "nbconvert_exporter": "python",
   "pygments_lexer": "ipython3",
   "version": "3.9.16"
  }
 },
 "nbformat": 4,
 "nbformat_minor": 5
}
